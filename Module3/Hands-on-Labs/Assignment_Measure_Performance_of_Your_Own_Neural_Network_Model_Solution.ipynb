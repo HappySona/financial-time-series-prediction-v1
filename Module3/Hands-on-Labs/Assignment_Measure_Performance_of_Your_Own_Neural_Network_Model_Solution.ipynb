{
  "nbformat": 4,
  "nbformat_minor": 0,
  "metadata": {
    "colab": {
      "name": "Assignment_Measure_Performance_of_Your_Own_Neural_Network_Model_Solution.ipynb",
      "version": "0.3.2",
      "provenance": [],
      "collapsed_sections": []
    },
    "kernelspec": {
      "name": "python3",
      "display_name": "Python 3"
    },
    "accelerator": "GPU"
  },
  "cells": [
    {
      "metadata": {
        "id": "KXCMLqVzKQ7F",
        "colab_type": "text"
      },
      "cell_type": "markdown",
      "source": [
        "# Measure Performance of Your Own Neural Network Model\n",
        "\n",
        "This is continual series of assigment \n",
        "\n",
        "You can extend your own code from asssigment M3.1\n",
        "\n",
        "#### Note. I changed the previous criteria for significant increase / decrease into 0.2 std from 1.0 std to avoid the safe answer\n",
        "\n",
        "\n",
        "- Exercise1 Performance Evaluation for Trinary Classification Model\n",
        "- Exercise2 Performance Evaluation for Return Prediction Model"
      ]
    },
    {
      "metadata": {
        "id": "gP7BoQO-Z6Wk",
        "colab_type": "text"
      },
      "cell_type": "markdown",
      "source": [
        "# Exercise1  Performance Evaluation for Trinary Classification Model\n",
        "\n"
      ]
    },
    {
      "metadata": {
        "id": "Us-FmgUYPjH9",
        "colab_type": "text"
      },
      "cell_type": "markdown",
      "source": [
        "### Data Download at: https://drive.google.com/open?id=1thjGhgnAm5k1zuSiWhGmlUJzBXM3IECi\n",
        "\n",
        "This exercise is a little bit long exercise, that should give you an idea of a real world scenario. Feel free to look at the solution if you feel lost.\n",
        "\n",
        "#### Requirements\n",
        "1. Comparing Accuracy for both Train and Validation set data\n",
        "  - Compare accurcacy according to the below materials\n",
        "  - Visualize training history\n",
        "  - Check genelarization of your model\n",
        "  - Refer\n",
        "    - https://medium.com/machine-learning-world/neural-networks-for-algorithmic-trading-1-2-correct-time-series-forecasting-backtesting-9776bfd9e589\n",
        "  - Visualization Hint\n",
        "    - https://machinelearningmastery.com/display-deep-learning-model-training-history-in-keras/\n",
        "    \n",
        "2. Measure Model Accuracy for Classification Problem\n",
        "  - Now we are going to evaluate our model \n",
        "  - Accuracy, Recall, F1 Score based on Confusion Matrix\n",
        "  - Refer definition of each scores\n",
        "    - Confusion matrix https://en.wikipedia.org/wiki/Confusion_matrix\n",
        "    - Confusion matrix in Korean https://datascienceschool.net/view-notebook/731e0d2ef52c41c686ba53dcaf346f32/\n",
        "  - Hint\n",
        "    - http://scikit-learn.org/stable/modules/generated/sklearn.metrics.confusion_matrix.html\n",
        "    - http://scikit-learn.org/stable/modules/generated/sklearn.metrics.classification_report.html\n",
        "    \n",
        "3. Measure Test Set Return based on the Simplest Strategy\n",
        "  - Condition\n",
        "    - Initial budget = 100\n",
        "  - Strategy\n",
        "    - If we predict up, then buy or hold (if we already bought)\n",
        "    - If we predict down or no change then sell (if we already bought) or do nothing \n",
        "  - Draw your return\n",
        "\n",
        "#### Procedures\n",
        "- Preprocessing\n",
        "  1. Data Import and Create Balanced Panel\n",
        "  2. Create Target Variable\n",
        "  3. Train / Test Split\n",
        "  4. Create Sequences\n",
        "  \n",
        "\n",
        "- Training / Predicting Model\n",
        "  1. Model Build\n",
        "  2. Model Train\n",
        "  3. Prediction\n",
        "  4. Evaluation <- this assignment implement it"
      ]
    },
    {
      "metadata": {
        "id": "EnRISOgoh5es",
        "colab_type": "text"
      },
      "cell_type": "markdown",
      "source": [
        "## Preprocessing"
      ]
    },
    {
      "metadata": {
        "id": "xIxPbmzGQFwR",
        "colab_type": "text"
      },
      "cell_type": "markdown",
      "source": [
        "### 1. Data Import and Create Balanced Panel"
      ]
    },
    {
      "metadata": {
        "id": "4T3G0OFBKcsJ",
        "colab_type": "code",
        "colab": {}
      },
      "cell_type": "code",
      "source": [
        "%matplotlib inline"
      ],
      "execution_count": 0,
      "outputs": []
    },
    {
      "metadata": {
        "id": "TJVHhAmOMWmH",
        "colab_type": "code",
        "outputId": "0dcbe152-3306-4f68-dfc0-b01339aa7cff",
        "colab": {
          "base_uri": "https://localhost:8080/",
          "height": 34
        }
      },
      "cell_type": "code",
      "source": [
        "from google.colab import drive\n",
        "drive.mount('/content/gdrive')"
      ],
      "execution_count": 2,
      "outputs": [
        {
          "output_type": "stream",
          "text": [
            "Drive already mounted at /content/gdrive; to attempt to forcibly remount, call drive.mount(\"/content/gdrive\", force_remount=True).\n"
          ],
          "name": "stdout"
        }
      ]
    },
    {
      "metadata": {
        "id": "796JRrylMW2y",
        "colab_type": "code",
        "colab": {}
      },
      "cell_type": "code",
      "source": [
        "DATA_PATH = \"/content/gdrive/My Drive/Lecture/StudyPie/Data/\""
      ],
      "execution_count": 0,
      "outputs": []
    },
    {
      "metadata": {
        "id": "uV7aneomMlG6",
        "colab_type": "code",
        "outputId": "5906afd6-24fd-4e3e-f54c-4d669cfa9a7c",
        "colab": {
          "base_uri": "https://localhost:8080/",
          "height": 68
        }
      },
      "cell_type": "code",
      "source": [
        "!ls \"/content/gdrive/My Drive/Lecture/StudyPie/Data/\""
      ],
      "execution_count": 4,
      "outputs": [
        {
          "output_type": "stream",
          "text": [
            "256x2-CNN.model  crypto_data.zip  M2_1_y.pickle  PetImages.zip\n",
            "CoinOne\t\t log\t\t  __MACOSX\t simple_rnn_model.h5\n",
            "crypto_data\t M2_1_X.pickle\t  PetImages\n"
          ],
          "name": "stdout"
        }
      ]
    },
    {
      "metadata": {
        "id": "cmkvrXr9MmQ6",
        "colab_type": "code",
        "colab": {}
      },
      "cell_type": "code",
      "source": [
        "# Unzip Data\n",
        "# It will take more than 5 min\n",
        "import zipfile\n",
        "import io\n",
        "\n",
        "zf = zipfile.ZipFile(DATA_PATH+\"crypto_data.zip\", \"r\")\n",
        "zf.extractall(DATA_PATH)"
      ],
      "execution_count": 0,
      "outputs": []
    },
    {
      "metadata": {
        "id": "7KTUsoWxNXqi",
        "colab_type": "code",
        "colab": {}
      },
      "cell_type": "code",
      "source": [
        "SEQ_LEN = 60  # how long of a preceeding sequence to collect for RNN\n",
        "FUTURE_PERIOD_PREDICT = 3  # how far into the future are we trying to predict?\n",
        "RATIO_TO_PREDICT = \"LTC-USD\""
      ],
      "execution_count": 0,
      "outputs": []
    },
    {
      "metadata": {
        "id": "p2TejG4LMwkP",
        "colab_type": "code",
        "outputId": "18b3d7db-6fc6-48d8-dcc6-9a0c1d1b960b",
        "colab": {
          "base_uri": "https://localhost:8080/",
          "height": 340
        }
      },
      "cell_type": "code",
      "source": [
        "import pandas as pd\n",
        "\n",
        "main_df = pd.DataFrame() # begin empty\n",
        "\n",
        "ratios = [\"BTC-USD\", \"LTC-USD\", \"BCH-USD\", \"ETH-USD\"]  # the 4 ratios we want to consider\n",
        "\n",
        "for ratio in ratios:  # begin iteration\n",
        "    print(ratio)\n",
        "    dataset = DATA_PATH+f'crypto_data/{ratio}.csv'  # get the full path to the file.\n",
        "    df = pd.read_csv(dataset, names=['time', 'low', 'high', 'open', 'close', 'volume'])  # read in specific file\n",
        "\n",
        "    # rename volume and close to include the ticker so we can still which close/volume is which:\n",
        "    df.rename(columns={\"close\": f\"{ratio}_close\", \"volume\": f\"{ratio}_volume\"}, inplace=True)\n",
        "\n",
        "    df.set_index(\"time\", inplace=True)  # set time as index so we can join them on this shared time\n",
        "    df = df[[f\"{ratio}_close\", f\"{ratio}_volume\"]]  # ignore the other columns besides price and volume\n",
        "\n",
        "    if len(main_df)==0:  # if the dataframe is empty\n",
        "        main_df = df  # then it's just the current df\n",
        "    else:  # otherwise, join this data to the main one\n",
        "        main_df = main_df.join(df)\n",
        "\n",
        "main_df.fillna(method=\"ffill\", inplace=True)  # if there are gaps in data, use previously known values\n",
        "main_df.dropna(inplace=True)\n",
        "print(main_df.head())  # how did we do??"
      ],
      "execution_count": 7,
      "outputs": [
        {
          "output_type": "stream",
          "text": [
            "BTC-USD\n",
            "LTC-USD\n",
            "BCH-USD\n",
            "ETH-USD\n",
            "            BTC-USD_close  BTC-USD_volume  LTC-USD_close  LTC-USD_volume  \\\n",
            "time                                                                       \n",
            "1528968720    6487.379883        7.706374      96.660004      314.387024   \n",
            "1528968780    6479.410156        3.088252      96.570000       77.129799   \n",
            "1528968840    6479.410156        1.404100      96.500000        7.216067   \n",
            "1528968900    6479.979980        0.753000      96.389999      524.539978   \n",
            "1528968960    6480.000000        1.490900      96.519997       16.991997   \n",
            "\n",
            "            BCH-USD_close  BCH-USD_volume  ETH-USD_close  ETH-USD_volume  \n",
            "time                                                                      \n",
            "1528968720     870.859985       26.856577      486.01001       26.019083  \n",
            "1528968780     870.099976        1.124300      486.00000        8.449400  \n",
            "1528968840     870.789978        1.749862      485.75000       26.994646  \n",
            "1528968900     870.000000        1.680500      486.00000       77.355759  \n",
            "1528968960     869.989990        1.669014      486.00000        7.503300  \n"
          ],
          "name": "stdout"
        }
      ]
    },
    {
      "metadata": {
        "id": "RdRbZCU-QRXL",
        "colab_type": "text"
      },
      "cell_type": "markdown",
      "source": [
        "### 2. Create Target Variable"
      ]
    },
    {
      "metadata": {
        "id": "yBLQ8fpSM0My",
        "colab_type": "code",
        "colab": {}
      },
      "cell_type": "code",
      "source": [
        "SIGNIFICANT_CRITERIA = 0.2   # 0.2 std criteria\n",
        " \n",
        "currency_targets = [\"BTC\"]\n",
        "\n",
        "for currency_target in currency_targets:\n",
        "    main_df[currency_target+'-USD-TARGET'] = main_df[currency_target+'-USD_close'].shift(-FUTURE_PERIOD_PREDICT )\n",
        "    main_df[currency_target+'-USD-TARGET-RETURN'] = (main_df[currency_target+'-USD-TARGET'] \n",
        "                                                                - main_df[currency_target+'-USD_close'])/main_df[currency_target+'-USD_close']"
      ],
      "execution_count": 0,
      "outputs": []
    },
    {
      "metadata": {
        "id": "rm5Fw5iJjTtW",
        "colab_type": "code",
        "colab": {}
      },
      "cell_type": "code",
      "source": [
        "import numpy as np\n",
        "\n",
        "def classify_trinary(values):\n",
        "    gp_std = np.std(values)\n",
        "\n",
        "    target = []\n",
        "    for value in values:\n",
        "        if SIGNIFICANT_CRITERIA*gp_std < value: # significant increase\n",
        "            target.append(2)\n",
        "        elif -SIGNIFICANT_CRITERIA*gp_std > value:  # significant decrease\n",
        "            target.append(0)  \n",
        "        else:\n",
        "            target.append(1) # No significant change\n",
        "            \n",
        "    return target"
      ],
      "execution_count": 0,
      "outputs": []
    },
    {
      "metadata": {
        "id": "pgbWDf51pisa",
        "colab_type": "code",
        "outputId": "2f03e6ca-3a46-4b55-f1a0-7d952013edda",
        "colab": {
          "base_uri": "https://localhost:8080/",
          "height": 235
        }
      },
      "cell_type": "code",
      "source": [
        "main_df.head()"
      ],
      "execution_count": 49,
      "outputs": [
        {
          "output_type": "execute_result",
          "data": {
            "text/html": [
              "<div>\n",
              "<style scoped>\n",
              "    .dataframe tbody tr th:only-of-type {\n",
              "        vertical-align: middle;\n",
              "    }\n",
              "\n",
              "    .dataframe tbody tr th {\n",
              "        vertical-align: top;\n",
              "    }\n",
              "\n",
              "    .dataframe thead th {\n",
              "        text-align: right;\n",
              "    }\n",
              "</style>\n",
              "<table border=\"1\" class=\"dataframe\">\n",
              "  <thead>\n",
              "    <tr style=\"text-align: right;\">\n",
              "      <th></th>\n",
              "      <th>BTC-USD_close</th>\n",
              "      <th>BTC-USD_volume</th>\n",
              "      <th>LTC-USD_close</th>\n",
              "      <th>LTC-USD_volume</th>\n",
              "      <th>BCH-USD_close</th>\n",
              "      <th>BCH-USD_volume</th>\n",
              "      <th>ETH-USD_close</th>\n",
              "      <th>ETH-USD_volume</th>\n",
              "      <th>BTC-TARGET</th>\n",
              "      <th>BTC-USD-TARGET</th>\n",
              "      <th>BTC-USD-TARGET-RETURN</th>\n",
              "    </tr>\n",
              "    <tr>\n",
              "      <th>time</th>\n",
              "      <th></th>\n",
              "      <th></th>\n",
              "      <th></th>\n",
              "      <th></th>\n",
              "      <th></th>\n",
              "      <th></th>\n",
              "      <th></th>\n",
              "      <th></th>\n",
              "      <th></th>\n",
              "      <th></th>\n",
              "      <th></th>\n",
              "    </tr>\n",
              "  </thead>\n",
              "  <tbody>\n",
              "    <tr>\n",
              "      <th>1528968720</th>\n",
              "      <td>6487.379883</td>\n",
              "      <td>7.706374</td>\n",
              "      <td>96.660004</td>\n",
              "      <td>314.387024</td>\n",
              "      <td>870.859985</td>\n",
              "      <td>26.856577</td>\n",
              "      <td>486.01001</td>\n",
              "      <td>26.019083</td>\n",
              "      <td>0</td>\n",
              "      <td>6479.979980</td>\n",
              "      <td>-0.001141</td>\n",
              "    </tr>\n",
              "    <tr>\n",
              "      <th>1528968780</th>\n",
              "      <td>6479.410156</td>\n",
              "      <td>3.088252</td>\n",
              "      <td>96.570000</td>\n",
              "      <td>77.129799</td>\n",
              "      <td>870.099976</td>\n",
              "      <td>1.124300</td>\n",
              "      <td>486.00000</td>\n",
              "      <td>8.449400</td>\n",
              "      <td>1</td>\n",
              "      <td>6480.000000</td>\n",
              "      <td>0.000091</td>\n",
              "    </tr>\n",
              "    <tr>\n",
              "      <th>1528968840</th>\n",
              "      <td>6479.410156</td>\n",
              "      <td>1.404100</td>\n",
              "      <td>96.500000</td>\n",
              "      <td>7.216067</td>\n",
              "      <td>870.789978</td>\n",
              "      <td>1.749862</td>\n",
              "      <td>485.75000</td>\n",
              "      <td>26.994646</td>\n",
              "      <td>1</td>\n",
              "      <td>6477.220215</td>\n",
              "      <td>-0.000338</td>\n",
              "    </tr>\n",
              "    <tr>\n",
              "      <th>1528968900</th>\n",
              "      <td>6479.979980</td>\n",
              "      <td>0.753000</td>\n",
              "      <td>96.389999</td>\n",
              "      <td>524.539978</td>\n",
              "      <td>870.000000</td>\n",
              "      <td>1.680500</td>\n",
              "      <td>486.00000</td>\n",
              "      <td>77.355759</td>\n",
              "      <td>1</td>\n",
              "      <td>6480.000000</td>\n",
              "      <td>0.000003</td>\n",
              "    </tr>\n",
              "    <tr>\n",
              "      <th>1528968960</th>\n",
              "      <td>6480.000000</td>\n",
              "      <td>1.490900</td>\n",
              "      <td>96.519997</td>\n",
              "      <td>16.991997</td>\n",
              "      <td>869.989990</td>\n",
              "      <td>1.669014</td>\n",
              "      <td>486.00000</td>\n",
              "      <td>7.503300</td>\n",
              "      <td>1</td>\n",
              "      <td>6479.990234</td>\n",
              "      <td>-0.000002</td>\n",
              "    </tr>\n",
              "  </tbody>\n",
              "</table>\n",
              "</div>"
            ],
            "text/plain": [
              "            BTC-USD_close  BTC-USD_volume  LTC-USD_close  LTC-USD_volume  \\\n",
              "time                                                                       \n",
              "1528968720    6487.379883        7.706374      96.660004      314.387024   \n",
              "1528968780    6479.410156        3.088252      96.570000       77.129799   \n",
              "1528968840    6479.410156        1.404100      96.500000        7.216067   \n",
              "1528968900    6479.979980        0.753000      96.389999      524.539978   \n",
              "1528968960    6480.000000        1.490900      96.519997       16.991997   \n",
              "\n",
              "            BCH-USD_close  BCH-USD_volume  ETH-USD_close  ETH-USD_volume  \\\n",
              "time                                                                       \n",
              "1528968720     870.859985       26.856577      486.01001       26.019083   \n",
              "1528968780     870.099976        1.124300      486.00000        8.449400   \n",
              "1528968840     870.789978        1.749862      485.75000       26.994646   \n",
              "1528968900     870.000000        1.680500      486.00000       77.355759   \n",
              "1528968960     869.989990        1.669014      486.00000        7.503300   \n",
              "\n",
              "            BTC-TARGET  BTC-USD-TARGET  BTC-USD-TARGET-RETURN  \n",
              "time                                                           \n",
              "1528968720           0     6479.979980              -0.001141  \n",
              "1528968780           1     6480.000000               0.000091  \n",
              "1528968840           1     6477.220215              -0.000338  \n",
              "1528968900           1     6480.000000               0.000003  \n",
              "1528968960           1     6479.990234              -0.000002  "
            ]
          },
          "metadata": {
            "tags": []
          },
          "execution_count": 49
        }
      ]
    },
    {
      "metadata": {
        "id": "gSNeN1bRjVVm",
        "colab_type": "code",
        "outputId": "bb78c85b-f780-4587-9ac0-e8af2e10b2d3",
        "colab": {
          "base_uri": "https://localhost:8080/",
          "height": 34
        }
      },
      "cell_type": "code",
      "source": [
        "for currency_target in currency_targets:\n",
        "    print(\"SIGNIFICANT_CRITERIA:\", SIGNIFICANT_CRITERIA)\n",
        "    main_df[currency_target+'-TARGET'] = main_df[currency_target+'-USD-TARGET-RETURN'].transform(classify_trinary)\n",
        "    main_df.drop(columns=[currency_target+'-USD-TARGET', currency_target+'-USD-TARGET-RETURN'], inplace=True)"
      ],
      "execution_count": 50,
      "outputs": [
        {
          "output_type": "stream",
          "text": [
            "SIGNIFICANT_CRITERIA: 0.2\n"
          ],
          "name": "stdout"
        }
      ]
    },
    {
      "metadata": {
        "id": "zfzqBWw5ky7J",
        "colab_type": "code",
        "outputId": "0bf6cc40-f8b6-48f9-9f2b-def5e19ec323",
        "colab": {
          "base_uri": "https://localhost:8080/",
          "height": 235
        }
      },
      "cell_type": "code",
      "source": [
        "main_df.head()"
      ],
      "execution_count": 51,
      "outputs": [
        {
          "output_type": "execute_result",
          "data": {
            "text/html": [
              "<div>\n",
              "<style scoped>\n",
              "    .dataframe tbody tr th:only-of-type {\n",
              "        vertical-align: middle;\n",
              "    }\n",
              "\n",
              "    .dataframe tbody tr th {\n",
              "        vertical-align: top;\n",
              "    }\n",
              "\n",
              "    .dataframe thead th {\n",
              "        text-align: right;\n",
              "    }\n",
              "</style>\n",
              "<table border=\"1\" class=\"dataframe\">\n",
              "  <thead>\n",
              "    <tr style=\"text-align: right;\">\n",
              "      <th></th>\n",
              "      <th>BTC-USD_close</th>\n",
              "      <th>BTC-USD_volume</th>\n",
              "      <th>LTC-USD_close</th>\n",
              "      <th>LTC-USD_volume</th>\n",
              "      <th>BCH-USD_close</th>\n",
              "      <th>BCH-USD_volume</th>\n",
              "      <th>ETH-USD_close</th>\n",
              "      <th>ETH-USD_volume</th>\n",
              "      <th>BTC-TARGET</th>\n",
              "    </tr>\n",
              "    <tr>\n",
              "      <th>time</th>\n",
              "      <th></th>\n",
              "      <th></th>\n",
              "      <th></th>\n",
              "      <th></th>\n",
              "      <th></th>\n",
              "      <th></th>\n",
              "      <th></th>\n",
              "      <th></th>\n",
              "      <th></th>\n",
              "    </tr>\n",
              "  </thead>\n",
              "  <tbody>\n",
              "    <tr>\n",
              "      <th>1528968720</th>\n",
              "      <td>6487.379883</td>\n",
              "      <td>7.706374</td>\n",
              "      <td>96.660004</td>\n",
              "      <td>314.387024</td>\n",
              "      <td>870.859985</td>\n",
              "      <td>26.856577</td>\n",
              "      <td>486.01001</td>\n",
              "      <td>26.019083</td>\n",
              "      <td>0</td>\n",
              "    </tr>\n",
              "    <tr>\n",
              "      <th>1528968780</th>\n",
              "      <td>6479.410156</td>\n",
              "      <td>3.088252</td>\n",
              "      <td>96.570000</td>\n",
              "      <td>77.129799</td>\n",
              "      <td>870.099976</td>\n",
              "      <td>1.124300</td>\n",
              "      <td>486.00000</td>\n",
              "      <td>8.449400</td>\n",
              "      <td>1</td>\n",
              "    </tr>\n",
              "    <tr>\n",
              "      <th>1528968840</th>\n",
              "      <td>6479.410156</td>\n",
              "      <td>1.404100</td>\n",
              "      <td>96.500000</td>\n",
              "      <td>7.216067</td>\n",
              "      <td>870.789978</td>\n",
              "      <td>1.749862</td>\n",
              "      <td>485.75000</td>\n",
              "      <td>26.994646</td>\n",
              "      <td>0</td>\n",
              "    </tr>\n",
              "    <tr>\n",
              "      <th>1528968900</th>\n",
              "      <td>6479.979980</td>\n",
              "      <td>0.753000</td>\n",
              "      <td>96.389999</td>\n",
              "      <td>524.539978</td>\n",
              "      <td>870.000000</td>\n",
              "      <td>1.680500</td>\n",
              "      <td>486.00000</td>\n",
              "      <td>77.355759</td>\n",
              "      <td>1</td>\n",
              "    </tr>\n",
              "    <tr>\n",
              "      <th>1528968960</th>\n",
              "      <td>6480.000000</td>\n",
              "      <td>1.490900</td>\n",
              "      <td>96.519997</td>\n",
              "      <td>16.991997</td>\n",
              "      <td>869.989990</td>\n",
              "      <td>1.669014</td>\n",
              "      <td>486.00000</td>\n",
              "      <td>7.503300</td>\n",
              "      <td>1</td>\n",
              "    </tr>\n",
              "  </tbody>\n",
              "</table>\n",
              "</div>"
            ],
            "text/plain": [
              "            BTC-USD_close  BTC-USD_volume  LTC-USD_close  LTC-USD_volume  \\\n",
              "time                                                                       \n",
              "1528968720    6487.379883        7.706374      96.660004      314.387024   \n",
              "1528968780    6479.410156        3.088252      96.570000       77.129799   \n",
              "1528968840    6479.410156        1.404100      96.500000        7.216067   \n",
              "1528968900    6479.979980        0.753000      96.389999      524.539978   \n",
              "1528968960    6480.000000        1.490900      96.519997       16.991997   \n",
              "\n",
              "            BCH-USD_close  BCH-USD_volume  ETH-USD_close  ETH-USD_volume  \\\n",
              "time                                                                       \n",
              "1528968720     870.859985       26.856577      486.01001       26.019083   \n",
              "1528968780     870.099976        1.124300      486.00000        8.449400   \n",
              "1528968840     870.789978        1.749862      485.75000       26.994646   \n",
              "1528968900     870.000000        1.680500      486.00000       77.355759   \n",
              "1528968960     869.989990        1.669014      486.00000        7.503300   \n",
              "\n",
              "            BTC-TARGET  \n",
              "time                    \n",
              "1528968720           0  \n",
              "1528968780           1  \n",
              "1528968840           0  \n",
              "1528968900           1  \n",
              "1528968960           1  "
            ]
          },
          "metadata": {
            "tags": []
          },
          "execution_count": 51
        }
      ]
    },
    {
      "metadata": {
        "id": "fxLoFPleQT2t",
        "colab_type": "text"
      },
      "cell_type": "markdown",
      "source": [
        "### 3. Train / Test Split"
      ]
    },
    {
      "metadata": {
        "id": "0arExbjMNN--",
        "colab_type": "code",
        "colab": {}
      },
      "cell_type": "code",
      "source": [
        "times = sorted(main_df.index.values)  # get the times\n",
        "last_5pct = sorted(main_df.index.values)[-int(0.05*len(times))]  # get the last 5% of the times\n",
        "\n",
        "test_main_df = main_df[(main_df.index >= last_5pct)]  # make the validation data where the index is in the last 5%\n",
        "main_df = main_df[(main_df.index < last_5pct)]  # now the main_df is all the data up to the last 5%"
      ],
      "execution_count": 0,
      "outputs": []
    },
    {
      "metadata": {
        "id": "cP190OkbQV_p",
        "colab_type": "text"
      },
      "cell_type": "markdown",
      "source": [
        "### 4. Create Sequences"
      ]
    },
    {
      "metadata": {
        "id": "tiaXUZ-JNnA1",
        "colab_type": "code",
        "colab": {}
      },
      "cell_type": "code",
      "source": [
        "from sklearn import preprocessing  # pip install sklearn ... if you don't have it!\n",
        "from collections import deque\n",
        "import random\n",
        "import numpy as np\n",
        "\n",
        "def sequence_generator(main_df, SEQ_LEN, suffle=True,seed=101):\n",
        "    \n",
        "  sequential_data = []  # this is a list that will CONTAIN the sequences\n",
        "  queue = deque(maxlen = SEQ_LEN)  # These will be our actual sequences. They are made with deque, which keeps the maximum length by popping out older values as new ones come in\n",
        "\n",
        "  for i in main_df.values:  # iterate over the values\n",
        "      queue.append([n for n in i[:-1]])  # store all but the target\n",
        "      if len(queue) == SEQ_LEN:  # make sure we have 60 sequences!\n",
        "          sequential_data.append([np.array(queue), i[-1]])  # append those bad boys!\n",
        "\n",
        "  if suffle == True:\n",
        "      random.seed(seed)\n",
        "      random.shuffle(sequential_data)  # shuffle for good measure.\n",
        "\n",
        "  X = []\n",
        "  y = []\n",
        "\n",
        "  for seq, target in sequential_data:  # going over our new sequential data\n",
        "      X.append(seq)  # X is the sequences\n",
        "      y.append(target)  # y is the targets/labels (buys vs sell/notbuy)\n",
        "\n",
        "  return np.array(X), y  # return X and y...and make X a numpy array!"
      ],
      "execution_count": 0,
      "outputs": []
    },
    {
      "metadata": {
        "id": "kShgSiKgN9sA",
        "colab_type": "code",
        "colab": {}
      },
      "cell_type": "code",
      "source": [
        "train_x, train_y = sequence_generator(main_df , SEQ_LEN, suffle=True, seed=101)\n",
        "test_x, test_y = sequence_generator(test_main_df , SEQ_LEN, suffle=True, seed=101)"
      ],
      "execution_count": 0,
      "outputs": []
    },
    {
      "metadata": {
        "id": "nkn_cv6wPVEA",
        "colab_type": "code",
        "outputId": "19422ce7-69f5-4946-d490-2aacb9fedac2",
        "colab": {
          "base_uri": "https://localhost:8080/",
          "height": 51
        }
      },
      "cell_type": "code",
      "source": [
        "print(train_x.shape, len(train_y))\n",
        "print(test_x.shape, len(test_y))"
      ],
      "execution_count": 55,
      "outputs": [
        {
          "output_type": "stream",
          "text": [
            "(83728, 60, 8) 83728\n",
            "(4350, 60, 8) 4350\n"
          ],
          "name": "stdout"
        }
      ]
    },
    {
      "metadata": {
        "id": "YO3VoIQFh8ce",
        "colab_type": "text"
      },
      "cell_type": "markdown",
      "source": [
        "## Up/ No Significant Change / Down Prediction Model"
      ]
    },
    {
      "metadata": {
        "id": "x_JZcMKHh9xV",
        "colab_type": "text"
      },
      "cell_type": "markdown",
      "source": [
        "### 1. Model Build"
      ]
    },
    {
      "metadata": {
        "id": "SqcfJrxmiFpE",
        "colab_type": "code",
        "colab": {}
      },
      "cell_type": "code",
      "source": [
        "import tensorflow as tf\n",
        "from tensorflow.keras.models import Sequential\n",
        "from tensorflow.keras.layers import Dense, Dropout, LSTM, CuDNNLSTM, BatchNormalization, Flatten\n",
        "\n",
        "def ex1_models(input_dim, output_dim):\n",
        "\n",
        "  # For illustration purpose \n",
        "  # I only use FNN\n",
        "  \n",
        "  # But you can try everything!\n",
        "  \n",
        "  L1 = 50  # 30\n",
        "  L2 = 30  # 20\n",
        "  L3 = 20  # 10\n",
        "  L4 = 10  # 5\n",
        "  L5 = 5\n",
        "\n",
        "  model = Sequential()\n",
        "  model.add(Dense(L1, input_shape=input_dim, activation='relu'))\n",
        "  model.add(Dropout(0.2))\n",
        "  model.add(BatchNormalization())\n",
        "\n",
        "  model.add(Dense(L2, activation='relu'))\n",
        "  model.add(Dropout(0.2))\n",
        "  model.add(BatchNormalization())\n",
        "\n",
        "  model.add(Dense(L3, activation='relu'))\n",
        "  model.add(Dropout(0.2))\n",
        "  model.add(BatchNormalization())\n",
        "\n",
        "  model.add(Dense(L4, activation='relu'))\n",
        "  model.add(Dropout(0.2))\n",
        "  model.add(BatchNormalization())\n",
        "\n",
        "  model.add(Dense(L5, activation='relu'))\n",
        "  model.add(Dropout(0.2))\n",
        "\n",
        "  model.add(Flatten())\n",
        "  model.add(Dense(output_dim, activation='softmax'))\n",
        "\n",
        "  model.compile(optimizer=tf.train.AdamOptimizer(0.001),\n",
        "            loss='categorical_crossentropy',\n",
        "            metrics=['accuracy'])\n",
        "\n",
        "    \n",
        "  return model"
      ],
      "execution_count": 0,
      "outputs": []
    },
    {
      "metadata": {
        "id": "2xtMiiEMiJ-N",
        "colab_type": "code",
        "colab": {}
      },
      "cell_type": "code",
      "source": [
        "model1 = ex1_models(train_x.shape[1:], 3)"
      ],
      "execution_count": 0,
      "outputs": []
    },
    {
      "metadata": {
        "id": "8xHSWzs8iBq1",
        "colab_type": "text"
      },
      "cell_type": "markdown",
      "source": [
        "### 2. Model Train\n"
      ]
    },
    {
      "metadata": {
        "id": "XlwicNBhiFSt",
        "colab_type": "code",
        "outputId": "974c4650-b5fb-4ea0-fe4b-0b38f9149e7a",
        "colab": {
          "base_uri": "https://localhost:8080/",
          "height": 374
        }
      },
      "cell_type": "code",
      "source": [
        "BATCH_SIZE = 64 \n",
        "NUM_ITERATIONS = 10\n",
        "\n",
        "hist1 = model1.fit(train_x, tf.keras.utils.to_categorical(train_y, num_classes=None), \n",
        "              validation_split=0.2,\n",
        "              batch_size = BATCH_SIZE,\n",
        "              epochs = NUM_ITERATIONS)"
      ],
      "execution_count": 58,
      "outputs": [
        {
          "output_type": "stream",
          "text": [
            "Train on 66982 samples, validate on 16746 samples\n",
            "Epoch 1/10\n",
            "66982/66982 [==============================] - 24s 362us/step - loss: 1.1077 - acc: 0.4338 - val_loss: 1.0587 - val_acc: 0.4664\n",
            "Epoch 2/10\n",
            "66982/66982 [==============================] - 22s 330us/step - loss: 1.0422 - acc: 0.4709 - val_loss: 1.0357 - val_acc: 0.4772\n",
            "Epoch 3/10\n",
            "66982/66982 [==============================] - 23s 343us/step - loss: 1.0354 - acc: 0.4773 - val_loss: 1.0377 - val_acc: 0.4761\n",
            "Epoch 4/10\n",
            "66982/66982 [==============================] - 22s 325us/step - loss: 1.0334 - acc: 0.4761 - val_loss: 1.0351 - val_acc: 0.4791\n",
            "Epoch 5/10\n",
            "66982/66982 [==============================] - 22s 327us/step - loss: 1.0319 - acc: 0.4765 - val_loss: 1.0280 - val_acc: 0.4823\n",
            "Epoch 6/10\n",
            "66982/66982 [==============================] - 21s 318us/step - loss: 1.0311 - acc: 0.4797 - val_loss: 1.0285 - val_acc: 0.4806\n",
            "Epoch 7/10\n",
            "66982/66982 [==============================] - 21s 317us/step - loss: 1.0287 - acc: 0.4818 - val_loss: 1.0406 - val_acc: 0.4660\n",
            "Epoch 8/10\n",
            "66982/66982 [==============================] - 22s 330us/step - loss: 1.0280 - acc: 0.4798 - val_loss: 1.0295 - val_acc: 0.4761\n",
            "Epoch 9/10\n",
            "66982/66982 [==============================] - 23s 344us/step - loss: 1.0272 - acc: 0.4818 - val_loss: 1.0270 - val_acc: 0.4807\n",
            "Epoch 10/10\n",
            "66982/66982 [==============================] - 23s 346us/step - loss: 1.0266 - acc: 0.4798 - val_loss: 1.0466 - val_acc: 0.4758\n"
          ],
          "name": "stdout"
        }
      ]
    },
    {
      "metadata": {
        "id": "Sjk0WzkeiDV9",
        "colab_type": "text"
      },
      "cell_type": "markdown",
      "source": [
        "### 3. Prediction"
      ]
    },
    {
      "metadata": {
        "id": "IZS3dLzDiEjk",
        "colab_type": "code",
        "outputId": "12ed9c0a-b1af-4a8a-e711-1d4472f8e729",
        "colab": {
          "base_uri": "https://localhost:8080/",
          "height": 51
        }
      },
      "cell_type": "code",
      "source": [
        "predictions = model1.predict_classes(test_x)\n",
        "\n",
        "# Score model\n",
        "score = model1.evaluate(test_x, tf.keras.utils.to_categorical(test_y, num_classes=None), \n",
        "                       verbose=0)\n",
        "\n",
        "print('Test loss:', score[0])\n",
        "print('Test accuracy:', score[1])"
      ],
      "execution_count": 59,
      "outputs": [
        {
          "output_type": "stream",
          "text": [
            "Test loss: 1.0882755521248126\n",
            "Test accuracy: 0.3797701149973376\n"
          ],
          "name": "stdout"
        }
      ]
    },
    {
      "metadata": {
        "id": "gpMXFCmJWpGn",
        "colab_type": "text"
      },
      "cell_type": "markdown",
      "source": [
        "### 4. Evaluation"
      ]
    },
    {
      "metadata": {
        "id": "cG73FhdIWptU",
        "colab_type": "text"
      },
      "cell_type": "markdown",
      "source": [
        "1. Comparing Accuracy both Train and Validation set data\n",
        "  - Compare accurcacy according to the below materials\n",
        "  - Visualize training history\n",
        "  - Check genelarization of your model\n",
        "  - Refer\n",
        "    - https://medium.com/machine-learning-world/neural-networks-for-algorithmic-trading-1-2-correct-time-series-forecasting-backtesting-9776bfd9e589\n",
        "    \n",
        "  - Visualization Hint\n",
        "    - https://machinelearningmastery.com/display-deep-learning-model-training-history-in-keras/"
      ]
    },
    {
      "metadata": {
        "id": "QhrvYMI7bauW",
        "colab_type": "code",
        "colab": {
          "base_uri": "https://localhost:8080/",
          "height": 34
        },
        "outputId": "35292a9a-cb6c-4595-b5a8-b75f1c2843b5"
      },
      "cell_type": "code",
      "source": [
        "# list all data in history\n",
        "print(hist1.history.keys())"
      ],
      "execution_count": 60,
      "outputs": [
        {
          "output_type": "stream",
          "text": [
            "dict_keys(['val_loss', 'val_acc', 'loss', 'acc'])\n"
          ],
          "name": "stdout"
        }
      ]
    },
    {
      "metadata": {
        "id": "lvYkD6e3v_6X",
        "colab_type": "code",
        "colab": {
          "base_uri": "https://localhost:8080/",
          "height": 294
        },
        "outputId": "47327782-6b26-4c85-84bd-59d1d4d640fb"
      },
      "cell_type": "code",
      "source": [
        "import matplotlib.pyplot as plt\n",
        "\n",
        "\n",
        "# summarize history for accuracy\n",
        "plt.plot(hist1.history['acc'])\n",
        "plt.plot(hist1.history['val_acc'])\n",
        "plt.title('model accuracy')\n",
        "plt.ylabel('accuracy')\n",
        "plt.xlabel('epoch')\n",
        "plt.legend(['train', 'validation'], loc='upper left')\n",
        "plt.show()"
      ],
      "execution_count": 61,
      "outputs": [
        {
          "output_type": "display_data",
          "data": {
            "image/png": "[encoded data removed]",
            "text/plain": [
              "<matplotlib.figure.Figure at 0x7f883baab780>"
            ]
          },
          "metadata": {
            "tags": []
          }
        }
      ]
    },
    {
      "metadata": {
        "id": "MeQzWx9nwDeM",
        "colab_type": "code",
        "colab": {
          "base_uri": "https://localhost:8080/",
          "height": 294
        },
        "outputId": "b0b8b340-2a47-48a0-d742-ec72e3ed9b15"
      },
      "cell_type": "code",
      "source": [
        "# summarize history for loss\n",
        "plt.plot(hist1.history['loss'])\n",
        "plt.plot(hist1.history['val_loss'])\n",
        "plt.title('model loss')\n",
        "plt.ylabel('loss')\n",
        "plt.xlabel('epoch')\n",
        "plt.legend(['train', 'validation'], loc='upper left')\n",
        "plt.show()"
      ],
      "execution_count": 62,
      "outputs": [
        {
          "output_type": "display_data",
          "data": {
            "image/png": "[encoded data removed]",
            "text/plain": [
              "<matplotlib.figure.Figure at 0x7f883baab518>"
            ]
          },
          "metadata": {
            "tags": []
          }
        }
      ]
    },
    {
      "metadata": {
        "id": "kZFhS-1Ubhp7",
        "colab_type": "text"
      },
      "cell_type": "markdown",
      "source": [
        "\n",
        "2. Measure Model Accuracy for Classification Problem\n",
        "  - Now we are going to evaluate our model \n",
        "  - Accuracy, Recall, F1 Score based on Confusion Matrix\n",
        "  - Refer definition of each scores\n",
        "    - Confusion matrix https://en.wikipedia.org/wiki/Confusion_matrix\n",
        "    - Confusion matrix in Korean https://datascienceschool.net/view-notebook/731e0d2ef52c41c686ba53dcaf346f32/\n",
        "    \n",
        "  - Hint\n",
        "    - http://scikit-learn.org/stable/modules/generated/sklearn.metrics.confusion_matrix.html\n",
        "    - http://scikit-learn.org/stable/modules/generated/sklearn.metrics.classification_report.html"
      ]
    },
    {
      "metadata": {
        "id": "ZgL9kC2zbj5o",
        "colab_type": "code",
        "colab": {
          "base_uri": "https://localhost:8080/",
          "height": 153
        },
        "outputId": "06f04c21-1566-449f-e84b-0d53389a0ed9"
      },
      "cell_type": "code",
      "source": [
        "from sklearn.metrics import classification_report\n",
        "print(classification_report(predictions, test_y))\n"
      ],
      "execution_count": 63,
      "outputs": [
        {
          "output_type": "stream",
          "text": [
            "             precision    recall  f1-score   support\n",
            "\n",
            "          0       0.06      0.33      0.11       280\n",
            "          1       0.12      0.47      0.19       329\n",
            "          2       0.87      0.38      0.52      3741\n",
            "\n",
            "avg / total       0.76      0.38      0.47      4350\n",
            "\n"
          ],
          "name": "stdout"
        }
      ]
    },
    {
      "metadata": {
        "id": "ZR4tgLRe1CDs",
        "colab_type": "code",
        "colab": {
          "base_uri": "https://localhost:8080/",
          "height": 68
        },
        "outputId": "c530571d-9c84-4266-b740-c0dcfbe89050"
      },
      "cell_type": "code",
      "source": [
        "from sklearn.metrics import confusion_matrix\n",
        "print(confusion_matrix(predictions, test_y))"
      ],
      "execution_count": 64,
      "outputs": [
        {
          "output_type": "stream",
          "text": [
            "[[  93   72  115]\n",
            " [  84  156   89]\n",
            " [1273 1065 1403]]\n"
          ],
          "name": "stdout"
        }
      ]
    },
    {
      "metadata": {
        "id": "pf1exvRVbkPD",
        "colab_type": "text"
      },
      "cell_type": "markdown",
      "source": [
        "3. Measure Test Set Return based on the Simplest Strategy\n",
        "  - Condition\n",
        "    - Initial budget = 100\n",
        " - Strategy\n",
        "    - If we predict up, then buy or hold (if we already bought)\n",
        "    - If we predict down or no change then sell (if we already bought) or do nothing \n",
        "  - Draw your return"
      ]
    },
    {
      "metadata": {
        "id": "GeNeXxOrblTS",
        "colab_type": "code",
        "colab": {
          "base_uri": "https://localhost:8080/",
          "height": 290
        },
        "outputId": "7bfa7c1b-9ab0-4fa6-fd76-6dcd79cc2c28"
      },
      "cell_type": "code",
      "source": [
        "for currency_target in currency_targets:\n",
        "    bechmark_return = 100\n",
        "    bechmark_return_history = []\n",
        "\n",
        "    prediction_return = 100\n",
        "    prediction_return_history = []\n",
        "\n",
        "    buy_price = 0\n",
        "    sell_price = 0\n",
        "    \n",
        "    hold = False\n",
        "    \n",
        "    test_main_df[currency_target+'-USD-FUTURE_close'] = test_main_df[currency_target+'-USD_close'].shift(-1)\n",
        "    test_main_df[currency_target+'-USD-RETURN'] = (test_main_df[currency_target+'-USD-FUTURE_close'] \n",
        "                                                                - test_main_df[currency_target+'-USD_close'])/test_main_df[currency_target+'-USD_close']\n",
        "    \n",
        "    for prediction, (i, r) in zip(predictions, test_main_df.iloc[SEQ_LEN-1:].iterrows()):\n",
        "        \n",
        "        if hold == True:\n",
        "            prediction_return = prediction_return*(1+r[currency_target+'-USD-RETURN'])  \n",
        "            \n",
        "        bechmark_return = bechmark_return*(1+r[currency_target+'-USD-RETURN'])\n",
        "        bechmark_return_history.append(bechmark_return)\n",
        "        prediction_return_history.append(prediction_return)\n",
        "\n",
        "        if prediction ==2:\n",
        "            hold = True\n",
        "        else: \n",
        "            hold = False\n",
        "    \n",
        "    plt.title(currency_target)\n",
        "    plt.plot(prediction_return_history, label = 'prediction return')    \n",
        "    plt.plot(bechmark_return_history, label = 'becnmark return')\n",
        "    plt.xticks(rotation=30)\n",
        "    plt.legend()"
      ],
      "execution_count": 68,
      "outputs": [
        {
          "output_type": "display_data",
          "data": {
            "image/png": "[encoded data removed]",
            "text/plain": [
              "<matplotlib.figure.Figure at 0x7f883edf32e8>"
            ]
          },
          "metadata": {
            "tags": []
          }
        }
      ]
    },
    {
      "metadata": {
        "id": "qfM3kZifnK-Y",
        "colab_type": "text"
      },
      "cell_type": "markdown",
      "source": [
        "# Exercise2 Performance Evaluation for Return Prediction Model\n",
        "\n",
        "#### Requirements\n",
        "1. Comparing loss for both Train and Validation set data\n",
        "  - Compare loss according to the below materials\n",
        "  - Visualize training history  \n",
        "  - Check genelarization of your model\n",
        "  - Refer\n",
        "    - https://medium.com/machine-learning-world/neural-networks-for-algorithmic-trading-1-2-correct-time-series-forecasting-backtesting-9776bfd9e589\n",
        "  - Visualization Hint\n",
        "    - https://machinelearningmastery.com/display-deep-learning-model-training-history-in-keras/\n",
        "    \n",
        "2. Measure Model Accuracy for Continuous Value\n",
        "  - Change Your Prediction Values into Up / Down Binary Variable\n",
        "  - After then do the same things as in Exercise 1\n",
        "    - Accuracy, Recall, F1 Score based on Confusion Matrix\n",
        "    - Refer definition of each scores\n",
        "      - Confusion matrix https://en.wikipedia.org/wiki/Confusion_matrix\n",
        "      - Confusion matrix in Korean https://datascienceschool.net/view-notebook/731e0d2ef52c41c686ba53dcaf346f32/\n",
        "  - Hint\n",
        "    - http://scikit-learn.org/stable/modules/generated/sklearn.metrics.confusion_matrix.html\n",
        "    - http://scikit-learn.org/stable/modules/generated/sklearn.metrics.classification_report.html\n",
        "    \n",
        "3. Measure Test Set Return based on the Simplest Strategy\n",
        "  - Condition\n",
        "    - Initial budget = 100\n",
        "  - Strategy\n",
        "    - If we predict up, then buy or hold (if we already bought)\n",
        "    - If we predict down, then sell (if we already bought) or do nothing \n",
        "  - Draw your return\n",
        "\n",
        "#### Procedures\n",
        "- Preprocessing\n",
        "  1. Data Import and Create Balanced Panel\n",
        "  2. Create Target Variable\n",
        "  3. Train / Test Split\n",
        "  4. Create Sequences\n",
        "  \n",
        "- Training / Predicting Model\n",
        "  1. Model Build\n",
        "  2. Model Train\n",
        "  3. Prediction\n",
        "  4. Evaluation"
      ]
    },
    {
      "metadata": {
        "id": "ey7GAk22nm1T",
        "colab_type": "code",
        "colab": {}
      },
      "cell_type": "code",
      "source": [
        "SEQ_LEN = 60  # how long of a preceeding sequence to collect for RNN\n",
        "FUTURE_PERIOD_PREDICT = 3  # how far into the future are we trying to predict?\n",
        "RATIO_TO_PREDICT = \"LTC-USD\""
      ],
      "execution_count": 0,
      "outputs": []
    },
    {
      "metadata": {
        "id": "m7vQBLJZq7j7",
        "colab_type": "text"
      },
      "cell_type": "markdown",
      "source": [
        "## Preprocessing"
      ]
    },
    {
      "metadata": {
        "id": "754AjNC3q97y",
        "colab_type": "text"
      },
      "cell_type": "markdown",
      "source": [
        "### 1. Data Import and Create Balanced Panel"
      ]
    },
    {
      "metadata": {
        "id": "ooR6vTP7q1LP",
        "colab_type": "code",
        "outputId": "8fe4ced8-dfc5-4c5f-9c33-a8dfafcacbbf",
        "colab": {
          "base_uri": "https://localhost:8080/",
          "height": 340
        }
      },
      "cell_type": "code",
      "source": [
        "import pandas as pd\n",
        "from sklearn import preprocessing \n",
        "\n",
        "main_df = pd.DataFrame() # begin empty\n",
        "\n",
        "ratios = [\"BTC-USD\", \"LTC-USD\", \"BCH-USD\", \"ETH-USD\"]  # the 4 ratios we want to consider\n",
        "\n",
        "for ratio in ratios:  # begin iteration\n",
        "  print(ratio)\n",
        "  dataset = DATA_PATH+f'crypto_data/{ratio}.csv'  # get the full path to the file.\n",
        "  df = pd.read_csv(dataset, names=['time', 'low', 'high', 'open', 'close', 'volume'])  # read in specific file\n",
        "\n",
        "  # rename volume and close to include the ticker so we can still which close/volume is which:\n",
        "  df.rename(columns={\"close\": f\"{ratio}_close\", \"volume\": f\"{ratio}_volume\"}, inplace=True)\n",
        "\n",
        "  df.set_index(\"time\", inplace=True)  # set time as index so we can join them on this shared time\n",
        "  df = df[[f\"{ratio}_close\", f\"{ratio}_volume\"]]  # ignore the other columns besides price and volume\n",
        "\n",
        "  if len(main_df)==0:  # if the dataframe is empty\n",
        "      main_df = df  # then it's just the current df\n",
        "  else:  # otherwise, join this data to the main one\n",
        "      main_df = main_df.join(df)\n",
        "\n",
        "main_df.fillna(method=\"ffill\", inplace=True)  # if there are gaps in data, use previously known values\n",
        "main_df.dropna(inplace=True)\n",
        "print(main_df.head())  # how did we do??"
      ],
      "execution_count": 70,
      "outputs": [
        {
          "output_type": "stream",
          "text": [
            "BTC-USD\n",
            "LTC-USD\n",
            "BCH-USD\n",
            "ETH-USD\n",
            "            BTC-USD_close  BTC-USD_volume  LTC-USD_close  LTC-USD_volume  \\\n",
            "time                                                                       \n",
            "1528968720    6487.379883        7.706374      96.660004      314.387024   \n",
            "1528968780    6479.410156        3.088252      96.570000       77.129799   \n",
            "1528968840    6479.410156        1.404100      96.500000        7.216067   \n",
            "1528968900    6479.979980        0.753000      96.389999      524.539978   \n",
            "1528968960    6480.000000        1.490900      96.519997       16.991997   \n",
            "\n",
            "            BCH-USD_close  BCH-USD_volume  ETH-USD_close  ETH-USD_volume  \n",
            "time                                                                      \n",
            "1528968720     870.859985       26.856577      486.01001       26.019083  \n",
            "1528968780     870.099976        1.124300      486.00000        8.449400  \n",
            "1528968840     870.789978        1.749862      485.75000       26.994646  \n",
            "1528968900     870.000000        1.680500      486.00000       77.355759  \n",
            "1528968960     869.989990        1.669014      486.00000        7.503300  \n"
          ],
          "name": "stdout"
        }
      ]
    },
    {
      "metadata": {
        "id": "aT2FA6Qzq4ev",
        "colab_type": "text"
      },
      "cell_type": "markdown",
      "source": [
        "### 2. Create Target Variable"
      ]
    },
    {
      "metadata": {
        "id": "QzAsHZIxq3rv",
        "colab_type": "code",
        "colab": {}
      },
      "cell_type": "code",
      "source": [
        "import numpy as np\n",
        "\n",
        "currency_targets = [\"BTC\"]\n",
        "\n",
        "for currency_target in currency_targets:\n",
        "  main_df[currency_target+'-USD-TARGET'] = main_df[currency_target+'-USD_close'].shift(-FUTURE_PERIOD_PREDICT )\n",
        "  main_df[currency_target+'-USD-TARGET-RETURN'] = (main_df[currency_target+'-USD-TARGET']-main_df[currency_target+'-USD_close'])/main_df[currency_target+'-USD_close']*10000 # scale up\n",
        "  \n",
        "  main_df.drop(columns=[currency_target+'-USD-TARGET'], inplace=True)"
      ],
      "execution_count": 0,
      "outputs": []
    },
    {
      "metadata": {
        "id": "7gA78XCvzUJ9",
        "colab_type": "code",
        "colab": {}
      },
      "cell_type": "code",
      "source": [
        "from sklearn import preprocessing  # pip install sklearn ... if you don't have it!\n",
        "\n",
        "# Scaling Your Data\n",
        "main_df.fillna(main_df.mean(), inplace=True)"
      ],
      "execution_count": 0,
      "outputs": []
    },
    {
      "metadata": {
        "id": "UtIx1zn1rEQ9",
        "colab_type": "code",
        "outputId": "7790b969-b4e5-4b70-eb19-1f34d24640cc",
        "colab": {
          "base_uri": "https://localhost:8080/",
          "height": 235
        }
      },
      "cell_type": "code",
      "source": [
        "main_df.head()"
      ],
      "execution_count": 128,
      "outputs": [
        {
          "output_type": "execute_result",
          "data": {
            "text/html": [
              "<div>\n",
              "<style scoped>\n",
              "    .dataframe tbody tr th:only-of-type {\n",
              "        vertical-align: middle;\n",
              "    }\n",
              "\n",
              "    .dataframe tbody tr th {\n",
              "        vertical-align: top;\n",
              "    }\n",
              "\n",
              "    .dataframe thead th {\n",
              "        text-align: right;\n",
              "    }\n",
              "</style>\n",
              "<table border=\"1\" class=\"dataframe\">\n",
              "  <thead>\n",
              "    <tr style=\"text-align: right;\">\n",
              "      <th></th>\n",
              "      <th>BTC-USD_close</th>\n",
              "      <th>BTC-USD_volume</th>\n",
              "      <th>LTC-USD_close</th>\n",
              "      <th>LTC-USD_volume</th>\n",
              "      <th>BCH-USD_close</th>\n",
              "      <th>BCH-USD_volume</th>\n",
              "      <th>ETH-USD_close</th>\n",
              "      <th>ETH-USD_volume</th>\n",
              "      <th>BTC-USD-TARGET-RETURN</th>\n",
              "    </tr>\n",
              "    <tr>\n",
              "      <th>time</th>\n",
              "      <th></th>\n",
              "      <th></th>\n",
              "      <th></th>\n",
              "      <th></th>\n",
              "      <th></th>\n",
              "      <th></th>\n",
              "      <th></th>\n",
              "      <th></th>\n",
              "      <th></th>\n",
              "    </tr>\n",
              "  </thead>\n",
              "  <tbody>\n",
              "    <tr>\n",
              "      <th>1528968720</th>\n",
              "      <td>6487.379883</td>\n",
              "      <td>7.706374</td>\n",
              "      <td>96.660004</td>\n",
              "      <td>314.387024</td>\n",
              "      <td>870.859985</td>\n",
              "      <td>26.856577</td>\n",
              "      <td>486.01001</td>\n",
              "      <td>26.019083</td>\n",
              "      <td>-11.406613</td>\n",
              "    </tr>\n",
              "    <tr>\n",
              "      <th>1528968780</th>\n",
              "      <td>6479.410156</td>\n",
              "      <td>3.088252</td>\n",
              "      <td>96.570000</td>\n",
              "      <td>77.129799</td>\n",
              "      <td>870.099976</td>\n",
              "      <td>1.124300</td>\n",
              "      <td>486.00000</td>\n",
              "      <td>8.449400</td>\n",
              "      <td>0.910336</td>\n",
              "    </tr>\n",
              "    <tr>\n",
              "      <th>1528968840</th>\n",
              "      <td>6479.410156</td>\n",
              "      <td>1.404100</td>\n",
              "      <td>96.500000</td>\n",
              "      <td>7.216067</td>\n",
              "      <td>870.789978</td>\n",
              "      <td>1.749862</td>\n",
              "      <td>485.75000</td>\n",
              "      <td>26.994646</td>\n",
              "      <td>-3.379846</td>\n",
              "    </tr>\n",
              "    <tr>\n",
              "      <th>1528968900</th>\n",
              "      <td>6479.979980</td>\n",
              "      <td>0.753000</td>\n",
              "      <td>96.389999</td>\n",
              "      <td>524.539978</td>\n",
              "      <td>870.000000</td>\n",
              "      <td>1.680500</td>\n",
              "      <td>486.00000</td>\n",
              "      <td>77.355759</td>\n",
              "      <td>0.030895</td>\n",
              "    </tr>\n",
              "    <tr>\n",
              "      <th>1528968960</th>\n",
              "      <td>6480.000000</td>\n",
              "      <td>1.490900</td>\n",
              "      <td>96.519997</td>\n",
              "      <td>16.991997</td>\n",
              "      <td>869.989990</td>\n",
              "      <td>1.669014</td>\n",
              "      <td>486.00000</td>\n",
              "      <td>7.503300</td>\n",
              "      <td>-0.015071</td>\n",
              "    </tr>\n",
              "  </tbody>\n",
              "</table>\n",
              "</div>"
            ],
            "text/plain": [
              "            BTC-USD_close  BTC-USD_volume  LTC-USD_close  LTC-USD_volume  \\\n",
              "time                                                                       \n",
              "1528968720    6487.379883        7.706374      96.660004      314.387024   \n",
              "1528968780    6479.410156        3.088252      96.570000       77.129799   \n",
              "1528968840    6479.410156        1.404100      96.500000        7.216067   \n",
              "1528968900    6479.979980        0.753000      96.389999      524.539978   \n",
              "1528968960    6480.000000        1.490900      96.519997       16.991997   \n",
              "\n",
              "            BCH-USD_close  BCH-USD_volume  ETH-USD_close  ETH-USD_volume  \\\n",
              "time                                                                       \n",
              "1528968720     870.859985       26.856577      486.01001       26.019083   \n",
              "1528968780     870.099976        1.124300      486.00000        8.449400   \n",
              "1528968840     870.789978        1.749862      485.75000       26.994646   \n",
              "1528968900     870.000000        1.680500      486.00000       77.355759   \n",
              "1528968960     869.989990        1.669014      486.00000        7.503300   \n",
              "\n",
              "            BTC-USD-TARGET-RETURN  \n",
              "time                               \n",
              "1528968720             -11.406613  \n",
              "1528968780               0.910336  \n",
              "1528968840              -3.379846  \n",
              "1528968900               0.030895  \n",
              "1528968960              -0.015071  "
            ]
          },
          "metadata": {
            "tags": []
          },
          "execution_count": 128
        }
      ]
    },
    {
      "metadata": {
        "id": "73dbkD2wrUCM",
        "colab_type": "text"
      },
      "cell_type": "markdown",
      "source": [
        "### 3. Train / Test Split"
      ]
    },
    {
      "metadata": {
        "id": "hdBJZalyrQBs",
        "colab_type": "code",
        "colab": {}
      },
      "cell_type": "code",
      "source": [
        "times = sorted(main_df.index.values)  # get the times\n",
        "last_5pct = sorted(main_df.index.values)[-int(0.05*len(times))]  # get the last 5% of the times\n",
        "\n",
        "test_main_df = main_df[(main_df.index >= last_5pct)]  # make the validation data where the index is in the last 5%\n",
        "main_df = main_df[(main_df.index < last_5pct)]  # now the main_df is all the data up to the last 5%"
      ],
      "execution_count": 0,
      "outputs": []
    },
    {
      "metadata": {
        "id": "hhupZQWGrXYs",
        "colab_type": "text"
      },
      "cell_type": "markdown",
      "source": [
        "### 4. Create Sequences"
      ]
    },
    {
      "metadata": {
        "id": "1nZZOqKkrZ-N",
        "colab_type": "code",
        "colab": {}
      },
      "cell_type": "code",
      "source": [
        "from sklearn import preprocessing  # pip install sklearn ... if you don't have it!\n",
        "from collections import deque\n",
        "import random\n",
        "import numpy as np\n",
        "\n",
        "def sequence_generator(main_df, SEQ_LEN, suffle=True,seed=101):\n",
        "    \n",
        "  sequential_data = []  # this is a list that will CONTAIN the sequences\n",
        "  queue = deque(maxlen = SEQ_LEN)  # These will be our actual sequences. They are made with deque, which keeps the maximum length by popping out older values as new ones come in\n",
        "\n",
        "  for i in main_df.values:  # iterate over the values\n",
        "      queue.append([n for n in i[:-1]])  # store all but the target\n",
        "      if len(queue) == SEQ_LEN:  # make sure we have 60 sequences!\n",
        "          sequential_data.append([np.array(queue), i[-1]])  # append those bad boys!\n",
        "\n",
        "  if suffle == True:\n",
        "      random.seed(seed)\n",
        "      random.shuffle(sequential_data)  # shuffle for good measure.\n",
        "\n",
        "  X = []\n",
        "  y = []\n",
        "\n",
        "  for seq, target in sequential_data:  # going over our new sequential data\n",
        "      X.append(seq)  # X is the sequences\n",
        "      y.append(target)  # y is the targets/labels (buys vs sell/notbuy)\n",
        "\n",
        "  return np.array(X), y  # return X and y...and make X a numpy array!"
      ],
      "execution_count": 0,
      "outputs": []
    },
    {
      "metadata": {
        "id": "WMPS0r6grcFs",
        "colab_type": "code",
        "colab": {}
      },
      "cell_type": "code",
      "source": [
        "train_x, train_y = sequence_generator(main_df , SEQ_LEN, suffle=True, seed=101)\n",
        "test_x, test_y = sequence_generator(test_main_df , SEQ_LEN, suffle=True, seed=101)"
      ],
      "execution_count": 0,
      "outputs": []
    },
    {
      "metadata": {
        "id": "NBTVnFZhrd5z",
        "colab_type": "code",
        "outputId": "5982beb4-e3f5-436c-d3c2-22cbea891e7b",
        "colab": {
          "base_uri": "https://localhost:8080/",
          "height": 51
        }
      },
      "cell_type": "code",
      "source": [
        "print(train_x.shape, len(train_y))\n",
        "print(test_x.shape, len(test_y))"
      ],
      "execution_count": 132,
      "outputs": [
        {
          "output_type": "stream",
          "text": [
            "(83728, 60, 8) 83728\n",
            "(4350, 60, 8) 4350\n"
          ],
          "name": "stdout"
        }
      ]
    },
    {
      "metadata": {
        "id": "c4Wp-Efxrfoz",
        "colab_type": "text"
      },
      "cell_type": "markdown",
      "source": [
        "## Return Prediction Model"
      ]
    },
    {
      "metadata": {
        "id": "ZppjdkQmrjcD",
        "colab_type": "text"
      },
      "cell_type": "markdown",
      "source": [
        "### 1. Model Build"
      ]
    },
    {
      "metadata": {
        "id": "7UNi3N9SryVf",
        "colab_type": "code",
        "colab": {}
      },
      "cell_type": "code",
      "source": [
        "import tensorflow as tf\n",
        "from tensorflow.keras.models import Sequential\n",
        "from tensorflow.keras.layers import Dense, Dropout, LSTM,\\\n",
        "CuDNNLSTM, BatchNormalization, Flatten, Activation\n",
        "\n",
        "def ex2_models(input_dim, output_dim):\n",
        "\n",
        "  # For illustration purpose \n",
        "  # I only use FNN\n",
        "  \n",
        "  # But you can try everything!\n",
        "  \n",
        "  L1 = 50  # 30\n",
        "  L2 = 30  # 20\n",
        "  L3 = 20  # 10\n",
        "  L4 = 10  # 5\n",
        "  L5 = 5\n",
        "\n",
        "  model = Sequential()\n",
        "  model.add(Dense(L1, input_shape=input_dim, activation='relu'))\n",
        "  model.add(Dropout(0.2))\n",
        "  model.add(BatchNormalization())\n",
        "\n",
        "  model.add(Dense(L2, activation='relu'))\n",
        "  model.add(Dropout(0.2))\n",
        "  model.add(BatchNormalization())\n",
        "\n",
        "  model.add(Dense(L3, activation='relu'))\n",
        "  model.add(Dropout(0.2))\n",
        "  model.add(BatchNormalization())\n",
        "\n",
        "  model.add(Dense(L4, activation='relu'))\n",
        "  model.add(Dropout(0.2))\n",
        "  model.add(BatchNormalization())\n",
        "\n",
        "  model.add(Dense(L5, activation='relu'))\n",
        "  model.add(Dropout(0.2))\n",
        "\n",
        "  model.add(Flatten())\n",
        "  model.add(Dense(output_dim))\n",
        "\n",
        "  model.compile(optimizer=tf.train.AdamOptimizer(0.001),\n",
        "            loss='mean_squared_error')\n",
        "\n",
        "  return model"
      ],
      "execution_count": 0,
      "outputs": []
    },
    {
      "metadata": {
        "id": "dw-1hJa0rppx",
        "colab_type": "text"
      },
      "cell_type": "markdown",
      "source": [
        "### 2. Model Train"
      ]
    },
    {
      "metadata": {
        "id": "skDP-L25rx8-",
        "colab_type": "code",
        "colab": {}
      },
      "cell_type": "code",
      "source": [
        "model2 = ex2_models(train_x.shape[1:], 1)"
      ],
      "execution_count": 0,
      "outputs": []
    },
    {
      "metadata": {
        "id": "yP0GWYGar_RW",
        "colab_type": "code",
        "outputId": "f7b75d94-d9b8-49cd-9983-84357fe0a01a",
        "colab": {
          "base_uri": "https://localhost:8080/",
          "height": 238
        }
      },
      "cell_type": "code",
      "source": [
        "BATCH_SIZE = 64 \n",
        "NUM_ITERATIONS = 10\n",
        "\n",
        "hist2 = model2.fit(train_x, train_y, \n",
        "              validation_split=0.2,                   \n",
        "              batch_size = BATCH_SIZE,\n",
        "              epochs = NUM_ITERATIONS)"
      ],
      "execution_count": 0,
      "outputs": [
        {
          "output_type": "stream",
          "text": [
            "Train on 66982 samples, validate on 16746 samples\n",
            "Epoch 1/10\n",
            "66982/66982 [==============================] - 27s 405us/step - loss: 224.2816 - val_loss: 277.4142\n",
            "Epoch 2/10\n",
            "66982/66982 [==============================] - 23s 341us/step - loss: 223.9202 - val_loss: 277.3506\n",
            "Epoch 3/10\n",
            "66982/66982 [==============================] - 23s 340us/step - loss: 223.7607 - val_loss: 277.2643\n",
            "Epoch 4/10\n",
            "66982/66982 [==============================] - 22s 333us/step - loss: 223.7024 - val_loss: 277.1443\n",
            "Epoch 5/10\n",
            "66982/66982 [==============================] - 22s 327us/step - loss: 223.6490 - val_loss: 277.1734\n",
            "Epoch 6/10\n",
            " 3328/66982 [>.............................] - ETA: 18s - loss: 218.6838"
          ],
          "name": "stdout"
        }
      ]
    },
    {
      "metadata": {
        "id": "uUWrOqQfrvlY",
        "colab_type": "text"
      },
      "cell_type": "markdown",
      "source": [
        "### 3. Prediction"
      ]
    },
    {
      "metadata": {
        "id": "rrp4PaUvrxPZ",
        "colab_type": "code",
        "outputId": "d9481899-4be8-4e2a-ff7c-95f147260c1a",
        "colab": {
          "base_uri": "https://localhost:8080/",
          "height": 34
        }
      },
      "cell_type": "code",
      "source": [
        "predictions = model2.predict(test_x)\n",
        "\n",
        "# Score model\n",
        "score = model2.evaluate(test_x, test_y,\n",
        "                       verbose=0)\n",
        "\n",
        "print('Test loss:', score) # this is mean_squared_error "
      ],
      "execution_count": 119,
      "outputs": [
        {
          "output_type": "stream",
          "text": [
            "Test loss: 2.504707879267734\n"
          ],
          "name": "stdout"
        }
      ]
    },
    {
      "metadata": {
        "id": "W4wWyk7nzFwL",
        "colab_type": "text"
      },
      "cell_type": "markdown",
      "source": [
        "### 4. Evaluation"
      ]
    },
    {
      "metadata": {
        "id": "RAVN3l32bUNa",
        "colab_type": "text"
      },
      "cell_type": "markdown",
      "source": [
        "1. Comparing Accuracy both Train and Validation set data\n",
        "  - Compare loss according to the below materials\n",
        "  - Visualize training history  \n",
        "  - Check genelarization of your model\n",
        "  - Refer\n",
        "    - https://medium.com/machine-learning-world/neural-networks-for-algorithmic-trading-1-2-correct-time-series-forecasting-backtesting-9776bfd9e589\n",
        "  - Visualization Hint\n",
        "    - https://machinelearningmastery.com/display-deep-learning-model-training-history-in-keras/"
      ]
    },
    {
      "metadata": {
        "id": "rYlRBPNl4TM6",
        "colab_type": "code",
        "colab": {
          "base_uri": "https://localhost:8080/",
          "height": 34
        },
        "outputId": "4bc887c8-5117-4c0f-9f16-47e72bed19ce"
      },
      "cell_type": "code",
      "source": [
        "# list all data in history\n",
        "print(hist2.history.keys())"
      ],
      "execution_count": 120,
      "outputs": [
        {
          "output_type": "stream",
          "text": [
            "dict_keys(['val_loss', 'loss'])\n"
          ],
          "name": "stdout"
        }
      ]
    },
    {
      "metadata": {
        "id": "OV0WQnOdWj9Y",
        "colab_type": "code",
        "colab": {
          "base_uri": "https://localhost:8080/",
          "height": 294
        },
        "outputId": "dd803f3f-b217-42a2-8a77-90481643eb59"
      },
      "cell_type": "code",
      "source": [
        "import matplotlib.pyplot as plt\n",
        "\n",
        "\n",
        "# summarize history for accuracy\n",
        "plt.plot(hist2.history['loss'])\n",
        "plt.plot(hist1.history['val_acc'])\n",
        "plt.title('model loss')\n",
        "plt.ylabel('loss')\n",
        "plt.xlabel('epoch')\n",
        "plt.legend(['train', 'validation'], loc='upper left')\n",
        "plt.show()"
      ],
      "execution_count": 121,
      "outputs": [
        {
          "output_type": "display_data",
          "data": {
            "image/png": "[encoded data removed]",
            "text/plain": [
              "<matplotlib.figure.Figure at 0x7f8837e1c668>"
            ]
          },
          "metadata": {
            "tags": []
          }
        }
      ]
    },
    {
      "metadata": {
        "id": "hjtq_F2bcDp6",
        "colab_type": "text"
      },
      "cell_type": "markdown",
      "source": [
        "    \n",
        "2. Measure Model Accuracy for Continuous Value\n",
        "  - Change Your Prediction Values into Up / Down Binary Variable\n",
        "  - After then do the same things as in Exercise 1\n",
        "    - Accuracy, Recall, F1 Score based on Confusion Matrix\n",
        "    - Refer definition of each scores\n",
        "      - Confusion matrix https://en.wikipedia.org/wiki/Confusion_matrix\n",
        "      - Confusion matrix in Korean https://datascienceschool.net/view-notebook/731e0d2ef52c41c686ba53dcaf346f32/\n",
        "  - Hint\n",
        "    - http://scikit-learn.org/stable/modules/generated/sklearn.metrics.confusion_matrix.html\n",
        "    - http://scikit-learn.org/stable/modules/generated/sklearn.metrics.classification_report.html      "
      ]
    },
    {
      "metadata": {
        "id": "8AgQBv8A_10R",
        "colab_type": "code",
        "colab": {}
      },
      "cell_type": "code",
      "source": [
        "predictions_binary = [1 if prediction >0 else 0 for prediction in predictions]\n",
        "test_y_binary = [1 if y >0 else 0 for y in test_y]"
      ],
      "execution_count": 0,
      "outputs": []
    },
    {
      "metadata": {
        "id": "c6yXDrBIcFPa",
        "colab_type": "code",
        "colab": {
          "base_uri": "https://localhost:8080/",
          "height": 136
        },
        "outputId": "023730ed-7dcd-48d1-f2fa-1a2e25a88ef9"
      },
      "cell_type": "code",
      "source": [
        "from sklearn.metrics import classification_report\n",
        "print(classification_report(predictions_binary, test_y_binary))"
      ],
      "execution_count": 123,
      "outputs": [
        {
          "output_type": "stream",
          "text": [
            "             precision    recall  f1-score   support\n",
            "\n",
            "          0       0.98      0.56      0.71      4464\n",
            "          1       0.03      0.57      0.06       118\n",
            "\n",
            "avg / total       0.96      0.56      0.69      4582\n",
            "\n"
          ],
          "name": "stdout"
        }
      ]
    },
    {
      "metadata": {
        "id": "Mbgv-A7R6a8_",
        "colab_type": "code",
        "colab": {
          "base_uri": "https://localhost:8080/",
          "height": 51
        },
        "outputId": "373ee891-a844-48a1-a1aa-cb7acba1095b"
      },
      "cell_type": "code",
      "source": [
        "from sklearn.metrics import confusion_matrix\n",
        "print(confusion_matrix(predictions_binary, test_y_binary))"
      ],
      "execution_count": 124,
      "outputs": [
        {
          "output_type": "stream",
          "text": [
            "[[2478 1986]\n",
            " [  51   67]]\n"
          ],
          "name": "stdout"
        }
      ]
    },
    {
      "metadata": {
        "id": "WXoHVredcFg9",
        "colab_type": "text"
      },
      "cell_type": "markdown",
      "source": [
        "3. Measure Test Set Return based on the Simplest Strategy\n",
        "  - Condition\n",
        "    - Initial budget = 100\n",
        "  - Strategy\n",
        "    - If we predict up, then buy or hold (if we already bought)\n",
        "    - If we predict down, then sell (if we already bought) or do nothing \n",
        "  - Draw your return\n"
      ]
    },
    {
      "metadata": {
        "id": "KKOeqD44cG1b",
        "colab_type": "code",
        "colab": {
          "base_uri": "https://localhost:8080/",
          "height": 290
        },
        "outputId": "d42fa63a-2cdb-4676-804a-f8947a9ac3f8"
      },
      "cell_type": "code",
      "source": [
        "for currency_target in currency_targets:\n",
        "    bechmark_return = 100\n",
        "    bechmark_return_history = []\n",
        "\n",
        "    prediction_return = 100\n",
        "    prediction_return_history = []\n",
        "\n",
        "    buy_price = 0\n",
        "    sell_price = 0\n",
        "    \n",
        "    hold = False\n",
        "    \n",
        "    test_main_df[currency_target+'-USD-FUTURE_close'] = test_main_df[currency_target+'-USD_close'].shift(-1)\n",
        "    test_main_df[currency_target+'-USD-RETURN'] = (test_main_df[currency_target+'-USD-FUTURE_close'] \n",
        "                                                                - test_main_df[currency_target+'-USD_close'])/test_main_df[currency_target+'-USD_close']\n",
        "    \n",
        "    for prediction, (i, r) in zip(predictions, test_main_df.iloc[SEQ_LEN-1:].iterrows()):\n",
        "        \n",
        "        if hold == True:\n",
        "            prediction_return = prediction_return*(1+r[currency_target+'-USD-RETURN'])  \n",
        "            \n",
        "        bechmark_return = bechmark_return*(1+r[currency_target+'-USD-RETURN'])\n",
        "        bechmark_return_history.append(bechmark_return)\n",
        "        prediction_return_history.append(prediction_return)\n",
        "\n",
        "        if prediction >0:\n",
        "            hold = True\n",
        "        else: \n",
        "            hold = False\n",
        "    \n",
        "    plt.title(currency_target)\n",
        "    plt.plot(prediction_return_history, label = 'prediction return')    \n",
        "    plt.plot(bechmark_return_history, label = 'becnmark return')\n",
        "    plt.xticks(rotation=30)\n",
        "    plt.legend()"
      ],
      "execution_count": 125,
      "outputs": [
        {
          "output_type": "display_data",
          "data": {
            "image/png": "[encoded data removed]",
            "text/plain": [
              "<matplotlib.figure.Figure at 0x7f883a611898>"
            ]
          },
          "metadata": {
            "tags": []
          }
        }
      ]
    }
  ]
}