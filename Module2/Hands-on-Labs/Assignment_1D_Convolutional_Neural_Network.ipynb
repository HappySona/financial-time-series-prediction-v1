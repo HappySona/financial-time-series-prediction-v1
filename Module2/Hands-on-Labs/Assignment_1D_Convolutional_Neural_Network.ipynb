{
  "nbformat": 4,
  "nbformat_minor": 0,
  "metadata": {
    "colab": {
      "name": "Assignment_1D_Convolutional_Neural_Network.ipynb",
      "version": "0.3.2",
      "provenance": [],
      "collapsed_sections": []
    },
    "kernelspec": {
      "name": "python3",
      "display_name": "Python 3"
    },
    "accelerator": "GPU"
  },
  "cells": [
    {
      "metadata": {
        "id": "AOpOMqkpBG2q",
        "colab_type": "text"
      },
      "cell_type": "markdown",
      "source": [
        "# 1D Convolutional Neural Networks\n",
        "In this exercise we will apply 1D convolution on the simple time series array\n",
        "\n",
        "Requirements\n",
        "1. Define Model\n",
        "2. Train Model\n",
        "2. Predict x_input Based on the Trained Model\n",
        "\n",
        "- Hint: How will first layer look like?\n",
        "  - First Conv1D requires below parameters\n",
        "  - filters =?  \n",
        "  - kernel_size =?    \n",
        "  - activation = ? \n",
        "  - input_shape = ?"
      ]
    },
    {
      "metadata": {
        "id": "TZ7eLCgFEuz2",
        "colab_type": "text"
      },
      "cell_type": "markdown",
      "source": [
        "## Simple 1D Time Series Data"
      ]
    },
    {
      "metadata": {
        "id": "RoWnIYkfEMQJ",
        "colab_type": "code",
        "colab": {}
      },
      "cell_type": "code",
      "source": [
        "# univariate cnn example\n",
        "from numpy import array\n",
        "from keras.models import Sequential\n",
        "from keras.layers import Dense\n",
        "from keras.layers import Flatten\n",
        "from keras.layers.convolutional import Conv1D\n",
        "from keras.layers.convolutional import MaxPooling1D\n",
        "# define dataset\n",
        "X = array([[10, 20, 30], [20, 30, 40], [30, 40, 50], [40, 50, 60]])\n",
        "y = array([40, 50, 60, 70])\n",
        "\n",
        "# reshape from [samples, timesteps] into [samples, timesteps, features]\n",
        "X = X.reshape((X.shape[0], X.shape[1], 1))"
      ],
      "execution_count": 0,
      "outputs": []
    },
    {
      "metadata": {
        "id": "gabXQ3OJEs_-",
        "colab_type": "text"
      },
      "cell_type": "markdown",
      "source": [
        "## Define Model\n"
      ]
    },
    {
      "metadata": {
        "id": "s4lUMVrlD4ZS",
        "colab_type": "code",
        "colab": {}
      },
      "cell_type": "code",
      "source": [
        "# define model\n",
        "model = Sequential()\n",
        "\n",
        "###### write code here #####\n",
        "\n",
        "model.compile(optimizer='adam', loss='mse')"
      ],
      "execution_count": 0,
      "outputs": []
    },
    {
      "metadata": {
        "id": "ClDfgW1QE1oh",
        "colab_type": "text"
      },
      "cell_type": "markdown",
      "source": [
        "## Fit Model"
      ]
    },
    {
      "metadata": {
        "id": "Fbxgr8_6D6Nq",
        "colab_type": "code",
        "outputId": "6e52302a-7dc1-406d-f486-f3ca219620d2",
        "colab": {
          "base_uri": "https://localhost:8080/",
          "height": 34
        }
      },
      "cell_type": "code",
      "source": [
        "# fit model\n",
        "model.fit(X, y, epochs=1000, verbose=0)"
      ],
      "execution_count": 0,
      "outputs": [
        {
          "output_type": "execute_result",
          "data": {
            "text/plain": [
              "<keras.callbacks.History at 0x7f09f8560fd0>"
            ]
          },
          "metadata": {
            "tags": []
          },
          "execution_count": 21
        }
      ]
    },
    {
      "metadata": {
        "id": "ZLawySDAE3f_",
        "colab_type": "text"
      },
      "cell_type": "markdown",
      "source": [
        "## Predict x_input"
      ]
    },
    {
      "metadata": {
        "id": "9dooXelDD7S4",
        "colab_type": "code",
        "colab": {}
      },
      "cell_type": "code",
      "source": [
        "# demonstrate prediction\n",
        "x_input = array([50, 60, 70])\n",
        "x_input = x_input.reshape((1, 3, 1))"
      ],
      "execution_count": 0,
      "outputs": []
    },
    {
      "metadata": {
        "id": "TVepkc7sFG-E",
        "colab_type": "code",
        "outputId": "a7c46cc1-c219-4e9e-fcba-2395b75e6266",
        "colab": {
          "base_uri": "https://localhost:8080/",
          "height": 34
        }
      },
      "cell_type": "code",
      "source": [
        "# Prediction Model\n",
        "yhat = model.predict(x_input, verbose=0)\n",
        "print(yhat)"
      ],
      "execution_count": 0,
      "outputs": [
        {
          "output_type": "stream",
          "text": [
            "[[82.24879]]\n"
          ],
          "name": "stdout"
        }
      ]
    },
    {
      "metadata": {
        "id": "u4tyf2xvF86e",
        "colab_type": "code",
        "colab": {}
      },
      "cell_type": "code",
      "source": [
        ""
      ],
      "execution_count": 0,
      "outputs": []
    }
  ]
}