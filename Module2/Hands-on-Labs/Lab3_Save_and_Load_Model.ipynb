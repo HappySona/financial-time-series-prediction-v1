{
  "nbformat": 4,
  "nbformat_minor": 0,
  "metadata": {
    "colab": {
      "name": "Lab3_Save_and_Load_Model.ipynb",
      "version": "0.3.2",
      "provenance": [],
      "collapsed_sections": []
    },
    "kernelspec": {
      "name": "python3",
      "display_name": "Python 3"
    },
    "accelerator": "GPU"
  },
  "cells": [
    {
      "metadata": {
        "id": "M_LBfMWIa-lI",
        "colab_type": "code",
        "colab": {}
      },
      "cell_type": "code",
      "source": [
        "%matplotlib inline"
      ],
      "execution_count": 0,
      "outputs": []
    },
    {
      "metadata": {
        "id": "ViQpFJ9PbEaR",
        "colab_type": "code",
        "colab": {
          "base_uri": "https://localhost:8080/",
          "height": 122
        },
        "outputId": "8cd1f5f4-8de7-4d85-f5bd-fa1502f8f4b5"
      },
      "cell_type": "code",
      "source": [
        "from google.colab import drive\n",
        "drive.mount('/content/gdrive')"
      ],
      "execution_count": 2,
      "outputs": [
        {
          "output_type": "stream",
          "text": [
            "Go to this URL in a browser: https://accounts.google.com/o/oauth2/auth?client_id=947318989803-6bn6qk8qdgf4n4g3pfee6491hc0brc4i.apps.googleusercontent.com&redirect_uri=urn%3Aietf%3Awg%3Aoauth%3A2.0%3Aoob&scope=email%20https%3A%2F%2Fwww.googleapis.com%2Fauth%2Fdocs.test%20https%3A%2F%2Fwww.googleapis.com%2Fauth%2Fdrive%20https%3A%2F%2Fwww.googleapis.com%2Fauth%2Fdrive.photos.readonly%20https%3A%2F%2Fwww.googleapis.com%2Fauth%2Fpeopleapi.readonly&response_type=code\n",
            "\n",
            "Enter your authorization code:\n",
            "··········\n",
            "Mounted at /content/gdrive\n"
          ],
          "name": "stdout"
        }
      ]
    },
    {
      "metadata": {
        "id": "SOqtd_uUbFzJ",
        "colab_type": "code",
        "colab": {}
      },
      "cell_type": "code",
      "source": [
        "DATA_PATH = \"/content/gdrive/My Drive/Lecture/StudyPie/Data/\""
      ],
      "execution_count": 0,
      "outputs": []
    },
    {
      "metadata": {
        "id": "MdXPnptBbHBh",
        "colab_type": "code",
        "colab": {
          "base_uri": "https://localhost:8080/",
          "height": 51
        },
        "outputId": "858d9401-f85a-4489-eb41-5cbea1ddc6a6"
      },
      "cell_type": "code",
      "source": [
        "!ls \"/content/gdrive/My Drive/Lecture/StudyPie/Data/\""
      ],
      "execution_count": 4,
      "outputs": [
        {
          "output_type": "stream",
          "text": [
            "crypto_data.zip\t\t     M2_1_X.pickle  __MACOSX   PetImages.zip\n",
            "kagglecatsanddogs_3367a.zip  M2_1_y.pickle  PetImages\n"
          ],
          "name": "stdout"
        }
      ]
    },
    {
      "metadata": {
        "id": "ZIth7ys6bPG4",
        "colab_type": "code",
        "colab": {}
      },
      "cell_type": "code",
      "source": [
        "# Read training file\n",
        "import pickle\n",
        "\n",
        "pickle_in = open(DATA_PATH+\"M2_1_X.pickle\",\"rb\")\n",
        "X = pickle.load(pickle_in)\n",
        "\n",
        "pickle_in = open(DATA_PATH+\"M2_1_y.pickle\",\"rb\")\n",
        "y = pickle.load(pickle_in)"
      ],
      "execution_count": 0,
      "outputs": []
    },
    {
      "metadata": {
        "id": "ep4cmy5TbQTo",
        "colab_type": "code",
        "colab": {}
      },
      "cell_type": "code",
      "source": [
        "X = X/255.0\n",
        "\n",
        "TRAIN_RATIO = 0.8\n",
        "\n",
        "X_train = X[:int(len(X)*TRAIN_RATIO)]\n",
        "y_train = y[:int(len(y)*TRAIN_RATIO)]\n",
        "\n",
        "X_test = X[int(len(X)*TRAIN_RATIO):]\n",
        "y_test = y[int(len(y)*TRAIN_RATIO):]"
      ],
      "execution_count": 0,
      "outputs": []
    },
    {
      "metadata": {
        "id": "CfUbN2hSbRxI",
        "colab_type": "code",
        "colab": {
          "base_uri": "https://localhost:8080/",
          "height": 1054
        },
        "outputId": "87f54be0-f391-4029-8c6f-737492ff57ae"
      },
      "cell_type": "code",
      "source": [
        "from tensorflow.keras.models import Sequential\n",
        "from tensorflow.keras.layers import Dense, Dropout, Activation, Flatten\n",
        "from tensorflow.keras.layers import Conv2D, MaxPooling2D\n",
        "import time\n",
        "\n",
        "model = Sequential()\n",
        "\n",
        "model.add(Conv2D(256, (3, 3), input_shape=X.shape[1:]))\n",
        "model.add(Activation('relu'))\n",
        "model.add(MaxPooling2D(pool_size=(2, 2)))\n",
        "\n",
        "model.add(Conv2D(256, (3, 3)))\n",
        "model.add(Activation('relu'))\n",
        "model.add(MaxPooling2D(pool_size=(2, 2)))\n",
        "\n",
        "model.add(Flatten())  # this converts our 3D feature maps to 1D feature vectors\n",
        "\n",
        "model.add(Dense(64))\n",
        "\n",
        "model.add(Dense(1))\n",
        "model.add(Activation('sigmoid'))\n",
        "\n",
        "\n",
        "model.compile(loss='binary_crossentropy',\n",
        "              optimizer='adam',\n",
        "              metrics=['accuracy'])\n",
        "\n",
        "model.fit(X_train, y_train, batch_size=32, epochs=30, validation_split=0.3)\n",
        "\n",
        "model.save(DATA_PATH+\"256x2-CNN.model\")"
      ],
      "execution_count": 14,
      "outputs": [
        {
          "output_type": "stream",
          "text": [
            "Train on 1103 samples, validate on 474 samples\n",
            "Epoch 1/30\n",
            "1103/1103 [==============================] - 5s 5ms/step - loss: 0.8948 - acc: 0.5095 - val_loss: 0.6902 - val_acc: 0.5211\n",
            "Epoch 2/30\n",
            "1103/1103 [==============================] - 5s 4ms/step - loss: 0.6758 - acc: 0.5802 - val_loss: 0.6738 - val_acc: 0.5886\n",
            "Epoch 3/30\n",
            "1103/1103 [==============================] - 5s 4ms/step - loss: 0.6383 - acc: 0.6609 - val_loss: 0.6788 - val_acc: 0.5928\n",
            "Epoch 4/30\n",
            "1103/1103 [==============================] - 5s 4ms/step - loss: 0.6147 - acc: 0.6727 - val_loss: 0.6816 - val_acc: 0.5970\n",
            "Epoch 5/30\n",
            "1103/1103 [==============================] - 5s 4ms/step - loss: 0.5676 - acc: 0.7235 - val_loss: 0.7662 - val_acc: 0.5970\n",
            "Epoch 6/30\n",
            "1103/1103 [==============================] - 5s 4ms/step - loss: 0.5186 - acc: 0.7498 - val_loss: 0.7235 - val_acc: 0.6034\n",
            "Epoch 7/30\n",
            "1103/1103 [==============================] - 5s 4ms/step - loss: 0.4894 - acc: 0.7743 - val_loss: 0.8200 - val_acc: 0.5738\n",
            "Epoch 8/30\n",
            "1103/1103 [==============================] - 5s 4ms/step - loss: 0.4305 - acc: 0.8024 - val_loss: 0.8174 - val_acc: 0.5886\n",
            "Epoch 9/30\n",
            "1103/1103 [==============================] - 5s 4ms/step - loss: 0.3706 - acc: 0.8404 - val_loss: 0.9055 - val_acc: 0.5844\n",
            "Epoch 10/30\n",
            "1103/1103 [==============================] - 5s 4ms/step - loss: 0.3320 - acc: 0.8549 - val_loss: 1.0064 - val_acc: 0.5591\n",
            "Epoch 11/30\n",
            "1103/1103 [==============================] - 5s 4ms/step - loss: 0.2721 - acc: 0.8849 - val_loss: 1.1540 - val_acc: 0.5675\n",
            "Epoch 12/30\n",
            "1103/1103 [==============================] - 5s 4ms/step - loss: 0.2311 - acc: 0.9057 - val_loss: 1.2371 - val_acc: 0.5802\n",
            "Epoch 13/30\n",
            "1103/1103 [==============================] - 5s 4ms/step - loss: 0.1753 - acc: 0.9293 - val_loss: 1.3482 - val_acc: 0.5759\n",
            "Epoch 14/30\n",
            "1103/1103 [==============================] - 5s 4ms/step - loss: 0.1174 - acc: 0.9556 - val_loss: 1.5910 - val_acc: 0.5949\n",
            "Epoch 15/30\n",
            "1103/1103 [==============================] - 5s 4ms/step - loss: 0.0873 - acc: 0.9719 - val_loss: 1.8371 - val_acc: 0.5696\n",
            "Epoch 16/30\n",
            "1103/1103 [==============================] - 5s 4ms/step - loss: 0.0655 - acc: 0.9873 - val_loss: 2.1729 - val_acc: 0.5907\n",
            "Epoch 17/30\n",
            "1103/1103 [==============================] - 5s 4ms/step - loss: 0.0667 - acc: 0.9791 - val_loss: 2.0267 - val_acc: 0.5992\n",
            "Epoch 18/30\n",
            "1103/1103 [==============================] - 5s 4ms/step - loss: 0.0568 - acc: 0.9801 - val_loss: 2.4393 - val_acc: 0.5570\n",
            "Epoch 19/30\n",
            "1103/1103 [==============================] - 5s 4ms/step - loss: 0.0577 - acc: 0.9855 - val_loss: 2.5727 - val_acc: 0.6013\n",
            "Epoch 20/30\n",
            "1103/1103 [==============================] - 5s 4ms/step - loss: 0.0665 - acc: 0.9773 - val_loss: 2.5565 - val_acc: 0.5802\n",
            "Epoch 21/30\n",
            "1103/1103 [==============================] - 5s 4ms/step - loss: 0.0776 - acc: 0.9801 - val_loss: 2.6106 - val_acc: 0.5886\n",
            "Epoch 22/30\n",
            "1103/1103 [==============================] - 5s 4ms/step - loss: 0.1118 - acc: 0.9637 - val_loss: 2.5500 - val_acc: 0.5443\n",
            "Epoch 23/30\n",
            "1103/1103 [==============================] - 5s 4ms/step - loss: 0.0354 - acc: 0.9909 - val_loss: 2.5649 - val_acc: 0.6076\n",
            "Epoch 24/30\n",
            "1103/1103 [==============================] - 5s 4ms/step - loss: 0.0129 - acc: 0.9982 - val_loss: 2.8285 - val_acc: 0.5907\n",
            "Epoch 25/30\n",
            "1103/1103 [==============================] - 5s 4ms/step - loss: 0.0105 - acc: 0.9991 - val_loss: 2.8186 - val_acc: 0.5907\n",
            "Epoch 26/30\n",
            "1103/1103 [==============================] - 5s 4ms/step - loss: 0.0086 - acc: 0.9991 - val_loss: 2.9025 - val_acc: 0.6118\n",
            "Epoch 27/30\n",
            "1103/1103 [==============================] - 5s 4ms/step - loss: 0.0038 - acc: 1.0000 - val_loss: 3.0230 - val_acc: 0.5992\n",
            "Epoch 28/30\n",
            "1103/1103 [==============================] - 5s 4ms/step - loss: 0.0023 - acc: 1.0000 - val_loss: 3.0459 - val_acc: 0.6034\n",
            "Epoch 29/30\n",
            "1103/1103 [==============================] - 5s 4ms/step - loss: 0.0018 - acc: 1.0000 - val_loss: 3.0926 - val_acc: 0.6034\n",
            "Epoch 30/30\n",
            "1103/1103 [==============================] - 5s 4ms/step - loss: 0.0015 - acc: 1.0000 - val_loss: 3.1202 - val_acc: 0.6097\n"
          ],
          "name": "stdout"
        }
      ]
    },
    {
      "metadata": {
        "id": "QprPrJksbgpn",
        "colab_type": "code",
        "colab": {}
      },
      "cell_type": "code",
      "source": [
        "import cv2\n",
        "import tensorflow as tf\n",
        "\n",
        "model = tf.keras.models.load_model(DATA_PATH+\"256x2-CNN.model\")\n",
        "prediction = model.predict_classes(X_test)  # REMEMBER YOU'RE PASSING A LIST OF THINGS YOU WISH TO PREDICT"
      ],
      "execution_count": 0,
      "outputs": []
    },
    {
      "metadata": {
        "id": "rN3K4OGZbvqm",
        "colab_type": "code",
        "colab": {
          "base_uri": "https://localhost:8080/",
          "height": 51
        },
        "outputId": "c1d71f14-0fea-4b7d-bc46-46fc5b810cc0"
      },
      "cell_type": "code",
      "source": [
        "print(\"Prediction\", list(prediction[:10].reshape(-1)))\n",
        "print(\"True Lable\", y_test[:10])"
      ],
      "execution_count": 19,
      "outputs": [
        {
          "output_type": "stream",
          "text": [
            "Prediction [0, 1, 0, 0, 1, 1, 0, 0, 1, 0]\n",
            "True Lable [0, 0, 0, 0, 0, 0, 0, 0, 1, 1]\n"
          ],
          "name": "stdout"
        }
      ]
    },
    {
      "metadata": {
        "id": "c3Rh6xLdcvon",
        "colab_type": "code",
        "colab": {}
      },
      "cell_type": "code",
      "source": [
        ""
      ],
      "execution_count": 0,
      "outputs": []
    }
  ]
}