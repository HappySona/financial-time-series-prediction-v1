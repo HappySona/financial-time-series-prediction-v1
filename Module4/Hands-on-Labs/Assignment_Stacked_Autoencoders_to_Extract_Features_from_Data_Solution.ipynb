{
  "nbformat": 4,
  "nbformat_minor": 0,
  "metadata": {
    "colab": {
      "name": "Assignment_Stacked_Autoencoders_to_Extract_Features_from_Data_Solution.ipynb",
      "version": "0.3.2",
      "provenance": [],
      "collapsed_sections": []
    },
    "kernelspec": {
      "name": "python3",
      "display_name": "Python 3"
    },
    "accelerator": "GPU"
  },
  "cells": [
    {
      "metadata": {
        "id": "KXCMLqVzKQ7F",
        "colab_type": "text"
      },
      "cell_type": "markdown",
      "source": [
        "# Stacked Autoencoders to Extract Features from Data\n",
        "\n",
        "### Requirements\n",
        "- Implement a deep fully-connected autoencoder for *BTC price differences data*\n",
        "\n",
        "- The size of autoencoder follows\n",
        "  - first encoder layer: 40\n",
        "  - second encoder layer: 30\n",
        "  - encoding dim: 20\n",
        "  - first decoder layer: 30\n",
        "  - second decoder layer: 40\n",
        "\n",
        "\n",
        "### Hints\n",
        "- Refer Deep autoencoder from Hands-on-Labs\n",
        "\n",
        "\n",
        "### Data Download at: https://drive.google.com/open?id=1_GXzTuyIopvkkOeCxHanVZKa0tKclD6F\n",
        "\n",
        "- Exercise. Stacked Autoencoders to Extract Features from Data"
      ]
    },
    {
      "metadata": {
        "id": "gP7BoQO-Z6Wk",
        "colab_type": "text"
      },
      "cell_type": "markdown",
      "source": [
        "# Data Preprocessing\n"
      ]
    },
    {
      "metadata": {
        "id": "Us-FmgUYPjH9",
        "colab_type": "text"
      },
      "cell_type": "markdown",
      "source": [
        "#### Procedures\n",
        "- Preparation\n",
        "  1. Unzip Data\n",
        "\n",
        "- Preprocessing\n",
        "  1. Import Data\n",
        "  2. Create Balanced Panel\n",
        "  3. Train / Test Split "
      ]
    },
    {
      "metadata": {
        "id": "EnRISOgoh5es",
        "colab_type": "text"
      },
      "cell_type": "markdown",
      "source": [
        "## Preparation"
      ]
    },
    {
      "metadata": {
        "id": "xIxPbmzGQFwR",
        "colab_type": "text"
      },
      "cell_type": "markdown",
      "source": [
        "### 1. Data Import and Create Balanced Panel"
      ]
    },
    {
      "metadata": {
        "id": "4T3G0OFBKcsJ",
        "colab_type": "code",
        "colab": {}
      },
      "cell_type": "code",
      "source": [
        "%matplotlib inline"
      ],
      "execution_count": 0,
      "outputs": []
    },
    {
      "metadata": {
        "id": "TJVHhAmOMWmH",
        "colab_type": "code",
        "outputId": "0cfb29b6-71e6-470d-f7e1-6eda83f11b37",
        "colab": {
          "base_uri": "https://localhost:8080/",
          "height": 35
        }
      },
      "cell_type": "code",
      "source": [
        "from google.colab import drive\n",
        "drive.mount('/content/gdrive')"
      ],
      "execution_count": 2,
      "outputs": [
        {
          "output_type": "stream",
          "text": [
            "Drive already mounted at /content/gdrive; to attempt to forcibly remount, call drive.mount(\"/content/gdrive\", force_remount=True).\n"
          ],
          "name": "stdout"
        }
      ]
    },
    {
      "metadata": {
        "id": "796JRrylMW2y",
        "colab_type": "code",
        "colab": {}
      },
      "cell_type": "code",
      "source": [
        "DATA_PATH = \"/content/gdrive/My Drive/Lecture/StudyPie/Data/CoinOne/\""
      ],
      "execution_count": 0,
      "outputs": []
    },
    {
      "metadata": {
        "id": "uV7aneomMlG6",
        "colab_type": "code",
        "outputId": "3b32324c-7e41-4a49-83d3-b3a248182bb0",
        "colab": {
          "base_uri": "https://localhost:8080/",
          "height": 35
        }
      },
      "cell_type": "code",
      "source": [
        "!ls \"/content/gdrive/My Drive/Lecture/StudyPie/Data/CoinOne/\""
      ],
      "execution_count": 4,
      "outputs": [
        {
          "output_type": "stream",
          "text": [
            "coin_price_dfs.csv  __MACOSX  orderbook_data.zip  orderbook_dfs.csv\n"
          ],
          "name": "stdout"
        }
      ]
    },
    {
      "metadata": {
        "id": "cmkvrXr9MmQ6",
        "colab_type": "code",
        "colab": {}
      },
      "cell_type": "code",
      "source": [
        "# Unzip Data\n",
        "# It will take more than 5 min\n",
        "import zipfile\n",
        "import io\n",
        "\n",
        "zf = zipfile.ZipFile(DATA_PATH+\"orderbook_data.zip\", \"r\")\n",
        "zf.extractall(DATA_PATH)"
      ],
      "execution_count": 0,
      "outputs": []
    },
    {
      "metadata": {
        "id": "b6KYwPnLrcT-",
        "colab_type": "text"
      },
      "cell_type": "markdown",
      "source": [
        "### 2. Configurations"
      ]
    },
    {
      "metadata": {
        "id": "7KTUsoWxNXqi",
        "colab_type": "code",
        "colab": {}
      },
      "cell_type": "code",
      "source": [
        "currency_types = [\"btc\"]\n",
        "\n",
        "TIME_FREQUENCY = 1 # 1, 2, 3, 30 minutes\n",
        "TIME_SEQ_LEN = 200\n",
        "\n",
        "BATCH_SIZE = 64\n",
        "NUM_ITERATIONS = 30\n",
        "\n",
        "TRAIN_RATIO = 0.8"
      ],
      "execution_count": 0,
      "outputs": []
    },
    {
      "metadata": {
        "id": "QI7dLsjor7-x",
        "colab_type": "text"
      },
      "cell_type": "markdown",
      "source": [
        "## Preprocessing"
      ]
    },
    {
      "metadata": {
        "id": "L7faHBekr9WE",
        "colab_type": "text"
      },
      "cell_type": "markdown",
      "source": [
        "### 1. Import Data"
      ]
    },
    {
      "metadata": {
        "id": "p2TejG4LMwkP",
        "colab_type": "code",
        "outputId": "5b1ddb13-5378-465b-af5e-471e7467db5d",
        "colab": {
          "base_uri": "https://localhost:8080/",
          "height": 35
        }
      },
      "cell_type": "code",
      "source": [
        "import pandas as pd\n",
        "\n",
        "# read coin price data\n",
        "coin_price_dfs = pd.read_csv(DATA_PATH+\"coin_price_dfs.csv\")\n",
        "\n",
        "# sort by timestamp\n",
        "coin_price_dfs = coin_price_dfs.sort_values(by=['timestamp','currency'])\n",
        "\n",
        "# select the columns of interests\n",
        "coin_price_dfs = coin_price_dfs[coin_price_dfs[\"currency\"].isin(currency_types)]\n",
        "\n",
        "print(coin_price_dfs.shape)"
      ],
      "execution_count": 7,
      "outputs": [
        {
          "output_type": "stream",
          "text": [
            "(34225, 15)\n"
          ],
          "name": "stdout"
        }
      ]
    },
    {
      "metadata": {
        "id": "RdRbZCU-QRXL",
        "colab_type": "text"
      },
      "cell_type": "markdown",
      "source": [
        "### 2. Create Balanced Panel"
      ]
    },
    {
      "metadata": {
        "id": "HchnD0S5siCl",
        "colab_type": "code",
        "colab": {}
      },
      "cell_type": "code",
      "source": [
        "import numpy as np\n",
        "\n",
        "coinprice_features = ['currency','last', 'timestamp']\n",
        "\n",
        "panel_df = coin_price_dfs[coinprice_features]\n",
        "\n",
        "## interpolation\n",
        "panel_df = panel_df.groupby('currency').apply(lambda gp: gp.fillna(method=\"ffill\"))\n",
        "\n",
        "panel_df = panel_df.groupby((panel_df.timestamp / (TIME_FREQUENCY)).astype('int')).agg({\n",
        "                                                            u'currency': 'last',\n",
        "                                                            u'timestamp': 'last',\n",
        "                                                            u'last':'last'})\n",
        "\n",
        "\n",
        "panel_df['last'] = panel_df['last'].shift(-1 )-panel_df['last']\n",
        "panel_df.rename(columns={'last':'last_differences'}, inplace=True)\n",
        "\n",
        "panel_df.dropna(inplace=True)"
      ],
      "execution_count": 0,
      "outputs": []
    },
    {
      "metadata": {
        "id": "vV5_iF7Asj5U",
        "colab_type": "code",
        "outputId": "b5526b72-b69d-483c-eeff-7b2d620bb53a",
        "colab": {
          "base_uri": "https://localhost:8080/",
          "height": 235
        }
      },
      "cell_type": "code",
      "source": [
        "panel_df[panel_df['currency']=='btc'].head(n=5)"
      ],
      "execution_count": 9,
      "outputs": [
        {
          "output_type": "execute_result",
          "data": {
            "text/html": [
              "<div>\n",
              "<style scoped>\n",
              "    .dataframe tbody tr th:only-of-type {\n",
              "        vertical-align: middle;\n",
              "    }\n",
              "\n",
              "    .dataframe tbody tr th {\n",
              "        vertical-align: top;\n",
              "    }\n",
              "\n",
              "    .dataframe thead th {\n",
              "        text-align: right;\n",
              "    }\n",
              "</style>\n",
              "<table border=\"1\" class=\"dataframe\">\n",
              "  <thead>\n",
              "    <tr style=\"text-align: right;\">\n",
              "      <th></th>\n",
              "      <th>currency</th>\n",
              "      <th>timestamp</th>\n",
              "      <th>last_differences</th>\n",
              "    </tr>\n",
              "    <tr>\n",
              "      <th>timestamp</th>\n",
              "      <th></th>\n",
              "      <th></th>\n",
              "      <th></th>\n",
              "    </tr>\n",
              "  </thead>\n",
              "  <tbody>\n",
              "    <tr>\n",
              "      <th>25607915</th>\n",
              "      <td>btc</td>\n",
              "      <td>2.560792e+07</td>\n",
              "      <td>0.0</td>\n",
              "    </tr>\n",
              "    <tr>\n",
              "      <th>25607916</th>\n",
              "      <td>btc</td>\n",
              "      <td>2.560792e+07</td>\n",
              "      <td>-8000.0</td>\n",
              "    </tr>\n",
              "    <tr>\n",
              "      <th>25607917</th>\n",
              "      <td>btc</td>\n",
              "      <td>2.560792e+07</td>\n",
              "      <td>0.0</td>\n",
              "    </tr>\n",
              "    <tr>\n",
              "      <th>25607918</th>\n",
              "      <td>btc</td>\n",
              "      <td>2.560792e+07</td>\n",
              "      <td>0.0</td>\n",
              "    </tr>\n",
              "    <tr>\n",
              "      <th>25607919</th>\n",
              "      <td>btc</td>\n",
              "      <td>2.560792e+07</td>\n",
              "      <td>7000.0</td>\n",
              "    </tr>\n",
              "  </tbody>\n",
              "</table>\n",
              "</div>"
            ],
            "text/plain": [
              "          currency     timestamp  last_differences\n",
              "timestamp                                         \n",
              "25607915       btc  2.560792e+07               0.0\n",
              "25607916       btc  2.560792e+07           -8000.0\n",
              "25607917       btc  2.560792e+07               0.0\n",
              "25607918       btc  2.560792e+07               0.0\n",
              "25607919       btc  2.560792e+07            7000.0"
            ]
          },
          "metadata": {
            "tags": []
          },
          "execution_count": 9
        }
      ]
    },
    {
      "metadata": {
        "id": "JqnfXndEuSiH",
        "colab_type": "text"
      },
      "cell_type": "markdown",
      "source": [
        "### 3. Train / Test Split"
      ]
    },
    {
      "metadata": {
        "id": "82UhUhYSuUle",
        "colab_type": "code",
        "colab": {}
      },
      "cell_type": "code",
      "source": [
        "# split train test dataset\n",
        "panel_df_train = panel_df.iloc[:int(panel_df.shape[0]*TRAIN_RATIO)]\n",
        "panel_df_test = panel_df[~panel_df.index.isin(panel_df_train.index)]"
      ],
      "execution_count": 0,
      "outputs": []
    },
    {
      "metadata": {
        "id": "hoZe70p8kJQr",
        "colab_type": "code",
        "colab": {}
      },
      "cell_type": "code",
      "source": [
        "import numpy as np\n",
        "import random\n",
        "from collections import deque\n",
        "\n",
        "def sequence_generator(panel_df, TIME_SEQ_LEN, suffle=True,seed=101):\n",
        "\n",
        "  sequential_data = []  # this is a list that will CONTAIN the sequences\n",
        "  queue = deque(maxlen = TIME_SEQ_LEN)  # These will be our actual sequences. They are made with deque, which keeps the maximum length by popping out older values as new ones come in\n",
        "\n",
        "  for i in panel_df['last_differences'].tolist():  # iterate over the values\n",
        "    queue.append(i)  # store all but the target\n",
        "    if len(queue) == TIME_SEQ_LEN:  # make sure we have 60 sequences!\n",
        "      sequential_data.append(np.array(queue))  # append those bad boys!\n",
        "\n",
        "  if suffle == True:\n",
        "    random.seed(seed)\n",
        "    random.shuffle(sequential_data)  # shuffle for good measure.\n",
        "    \n",
        "  return np.array(sequential_data), np.array(sequential_data) "
      ],
      "execution_count": 0,
      "outputs": []
    },
    {
      "metadata": {
        "id": "Wt-VtzACi9Y6",
        "colab_type": "code",
        "colab": {}
      },
      "cell_type": "code",
      "source": [
        "train_X, train_Y = sequence_generator(panel_df_train, TIME_SEQ_LEN, suffle=True, seed=101)\n",
        "test_X, test_Y = sequence_generator(panel_df_test, TIME_SEQ_LEN, suffle=False)"
      ],
      "execution_count": 0,
      "outputs": []
    },
    {
      "metadata": {
        "id": "BmlBY2nElQOl",
        "colab_type": "code",
        "colab": {
          "base_uri": "https://localhost:8080/",
          "height": 53
        },
        "outputId": "a9e5fc0a-a4bf-4e31-b051-71f140386912"
      },
      "cell_type": "code",
      "source": [
        "print(train_X.shape)\n",
        "print(test_X.shape)"
      ],
      "execution_count": 17,
      "outputs": [
        {
          "output_type": "stream",
          "text": [
            "(27167, 200)\n",
            "(6643, 200)\n"
          ],
          "name": "stdout"
        }
      ]
    },
    {
      "metadata": {
        "id": "5EUZ0DaTvPg4",
        "colab_type": "text"
      },
      "cell_type": "markdown",
      "source": [
        "# Exercise Stacked Autoencoders to Extract Features from Data"
      ]
    },
    {
      "metadata": {
        "id": "RHjlJ1Kcu48a",
        "colab_type": "text"
      },
      "cell_type": "markdown",
      "source": [
        "# Stacked Autoencoders to Extract Features from Data\n",
        "\n",
        "### Requirements\n",
        "- Implement a deep fully-connected autoencoder for *BTC price differences data*\n",
        "\n",
        "- The size of autoencoder follows\n",
        "  - first encoder layer: 40\n",
        "  - second encoder layer: 30\n",
        "  - encoding dim: 20\n",
        "  - first decoder layer: 30\n",
        "  - second decoder layer: 40\n",
        "\n",
        "\n",
        "### Hints\n",
        "- Refer Deep autoencoder from Hands-on-Labs\n",
        "\n",
        "\n",
        "### Data Download at: https://drive.google.com/open?id=1_GXzTuyIopvkkOeCxHanVZKa0tKclD6F\n",
        "\n",
        "- Exercise. Stacked Autoencoders to Extract Features from Data"
      ]
    },
    {
      "metadata": {
        "id": "x_JZcMKHh9xV",
        "colab_type": "text"
      },
      "cell_type": "markdown",
      "source": [
        "### 1. Model Build"
      ]
    },
    {
      "metadata": {
        "id": "0bADWJMbvhfj",
        "colab_type": "code",
        "colab": {}
      },
      "cell_type": "code",
      "source": [
        "import tensorflow as tf\n",
        "from tensorflow.keras.layers import Input, Dense\n",
        "from tensorflow.keras.models import Model\n",
        "from tensorflow.keras.layers import Dense\n",
        "from tensorflow.keras import regularizers\n",
        "\n",
        "\n",
        "def autoencoder_model(input_dim, output_dim):\n",
        "\n",
        "  L1 = 40 \n",
        "  L2 = 30 \n",
        "  L3 = 20  \n",
        "  L4 = 30 \n",
        "  L5 = 40\n",
        "\n",
        "  input_seq = Input(shape=(input_dim,))\n",
        "  encoded = Dense(L1, activation='relu', activity_regularizer=regularizers.l2(0))(input_seq)\n",
        "  encoded = Dense(L2, activation='relu', activity_regularizer=regularizers.l2(0))(encoded)\n",
        "  encoded = Dense(L3, activation='relu', activity_regularizer=regularizers.l2(0))(encoded)\n",
        "\n",
        "  decoded = Dense(L4, activation='relu', activity_regularizer=regularizers.l2(0))(encoded)\n",
        "  decoded = Dense(L5, activation='relu', activity_regularizer=regularizers.l2(0))(decoded)\n",
        "  decoded = Dense(output_dim, activation='linear')(decoded)  \n",
        "\n",
        "  autoencoder = Model(input_seq, decoded)\n",
        "  autoencoder.compile(optimizer='rmsprop', loss='mse', metrics=['acc', 'cosine_proximity'])\n",
        "  autoencoder.summary()\n",
        "  return autoencoder"
      ],
      "execution_count": 0,
      "outputs": []
    },
    {
      "metadata": {
        "id": "2xtMiiEMiJ-N",
        "colab_type": "code",
        "colab": {
          "base_uri": "https://localhost:8080/",
          "height": 395
        },
        "outputId": "0e5b7623-8300-460b-8948-f00e2c01dccf"
      },
      "cell_type": "code",
      "source": [
        "model_dict = {}\n",
        "model_dict[\"AE\"] = autoencoder_model(train_X.shape[1], train_Y.shape[1])"
      ],
      "execution_count": 22,
      "outputs": [
        {
          "output_type": "stream",
          "text": [
            "_________________________________________________________________\n",
            "Layer (type)                 Output Shape              Param #   \n",
            "=================================================================\n",
            "input_2 (InputLayer)         (None, 200)               0         \n",
            "_________________________________________________________________\n",
            "dense_6 (Dense)              (None, 40)                8040      \n",
            "_________________________________________________________________\n",
            "dense_7 (Dense)              (None, 30)                1230      \n",
            "_________________________________________________________________\n",
            "dense_8 (Dense)              (None, 20)                620       \n",
            "_________________________________________________________________\n",
            "dense_9 (Dense)              (None, 30)                630       \n",
            "_________________________________________________________________\n",
            "dense_10 (Dense)             (None, 40)                1240      \n",
            "_________________________________________________________________\n",
            "dense_11 (Dense)             (None, 200)               8200      \n",
            "=================================================================\n",
            "Total params: 19,960\n",
            "Trainable params: 19,960\n",
            "Non-trainable params: 0\n",
            "_________________________________________________________________\n"
          ],
          "name": "stdout"
        }
      ]
    },
    {
      "metadata": {
        "id": "8xHSWzs8iBq1",
        "colab_type": "text"
      },
      "cell_type": "markdown",
      "source": [
        "### 2. Model Train\n"
      ]
    },
    {
      "metadata": {
        "id": "XlwicNBhiFSt",
        "colab_type": "code",
        "outputId": "09d8db61-c1a7-4393-c104-9614efb703e1",
        "colab": {
          "base_uri": "https://localhost:8080/",
          "height": 1151
        }
      },
      "cell_type": "code",
      "source": [
        "BATCH_SIZE = 64\n",
        "NUM_ITERATIONS = 30\n",
        "\n",
        "\n",
        "hist = {}\n",
        "\n",
        "for name, model in model_dict.items():\n",
        "\n",
        "  print(\"===== Model Name: {} =====\".format(name))\n",
        "  if name == \"AE\":\n",
        "    hist[name] = model.fit(train_X, train_Y, \n",
        "                            batch_size = BATCH_SIZE,\n",
        "                            validation_split=0.2,\n",
        "                            epochs = NUM_ITERATIONS)\n",
        "\n",
        "  print(\"===== Train Done =====\".format(name))"
      ],
      "execution_count": 23,
      "outputs": [
        {
          "output_type": "stream",
          "text": [
            "===== Model Name: AE =====\n",
            "Train on 21733 samples, validate on 5434 samples\n",
            "Epoch 1/30\n",
            "21733/21733 [==============================] - 4s 165us/step - loss: 19722008.8513 - acc: 0.0143 - cosine_proximity: -0.0963 - val_loss: 19082508.0397 - val_acc: 0.0226 - val_cosine_proximity: -0.1608\n",
            "Epoch 2/30\n",
            "21733/21733 [==============================] - 3s 144us/step - loss: 19196292.2141 - acc: 0.0346 - cosine_proximity: -0.1928 - val_loss: 18683677.1605 - val_acc: 0.0375 - val_cosine_proximity: -0.2135\n",
            "Epoch 3/30\n",
            "21733/21733 [==============================] - 3s 130us/step - loss: 18864213.4870 - acc: 0.0471 - cosine_proximity: -0.2315 - val_loss: 18468095.0563 - val_acc: 0.0480 - val_cosine_proximity: -0.2387\n",
            "Epoch 4/30\n",
            "21733/21733 [==============================] - 3s 130us/step - loss: 18636902.6924 - acc: 0.0577 - cosine_proximity: -0.2546 - val_loss: 18343229.1137 - val_acc: 0.0596 - val_cosine_proximity: -0.2529\n",
            "Epoch 5/30\n",
            "21733/21733 [==============================] - 3s 130us/step - loss: 18456215.4960 - acc: 0.0669 - cosine_proximity: -0.2715 - val_loss: 18140385.7891 - val_acc: 0.0675 - val_cosine_proximity: -0.2720\n",
            "Epoch 6/30\n",
            "21733/21733 [==============================] - 3s 130us/step - loss: 18333184.8299 - acc: 0.0766 - cosine_proximity: -0.2824 - val_loss: 18114165.7446 - val_acc: 0.0690 - val_cosine_proximity: -0.2745\n",
            "Epoch 7/30\n",
            "21733/21733 [==============================] - 3s 130us/step - loss: 18248845.2779 - acc: 0.0812 - cosine_proximity: -0.2891 - val_loss: 18034347.2838 - val_acc: 0.0810 - val_cosine_proximity: -0.2814\n",
            "Epoch 8/30\n",
            "21733/21733 [==============================] - 3s 131us/step - loss: 18193227.3900 - acc: 0.0849 - cosine_proximity: -0.2933 - val_loss: 17946715.9058 - val_acc: 0.0847 - val_cosine_proximity: -0.2890\n",
            "Epoch 9/30\n",
            "21733/21733 [==============================] - 3s 131us/step - loss: 18119690.7622 - acc: 0.0893 - cosine_proximity: -0.2994 - val_loss: 17905415.8649 - val_acc: 0.0845 - val_cosine_proximity: -0.2934\n",
            "Epoch 10/30\n",
            "21733/21733 [==============================] - 3s 131us/step - loss: 18050595.4662 - acc: 0.0931 - cosine_proximity: -0.3049 - val_loss: 17894810.9352 - val_acc: 0.0885 - val_cosine_proximity: -0.2943\n",
            "Epoch 11/30\n",
            "21733/21733 [==============================] - 3s 129us/step - loss: 18025859.6011 - acc: 0.0934 - cosine_proximity: -0.3066 - val_loss: 17839230.5889 - val_acc: 0.0940 - val_cosine_proximity: -0.2993\n",
            "Epoch 12/30\n",
            "21733/21733 [==============================] - 3s 131us/step - loss: 18007908.5643 - acc: 0.0936 - cosine_proximity: -0.3079 - val_loss: 17855331.4222 - val_acc: 0.0894 - val_cosine_proximity: -0.2977\n",
            "Epoch 13/30\n",
            "21733/21733 [==============================] - 3s 129us/step - loss: 17993106.7894 - acc: 0.0932 - cosine_proximity: -0.3089 - val_loss: 17865609.3865 - val_acc: 0.0867 - val_cosine_proximity: -0.2969\n",
            "Epoch 14/30\n",
            "21733/21733 [==============================] - 3s 131us/step - loss: 17982904.1983 - acc: 0.0962 - cosine_proximity: -0.3095 - val_loss: 17821672.8182 - val_acc: 0.0904 - val_cosine_proximity: -0.3008\n",
            "Epoch 15/30\n",
            "21733/21733 [==============================] - 3s 132us/step - loss: 17973607.1258 - acc: 0.0959 - cosine_proximity: -0.3099 - val_loss: 17844792.6691 - val_acc: 0.0896 - val_cosine_proximity: -0.2990\n",
            "Epoch 16/30\n",
            "21733/21733 [==============================] - 3s 131us/step - loss: 17965679.9140 - acc: 0.0961 - cosine_proximity: -0.3105 - val_loss: 17825052.0821 - val_acc: 0.0883 - val_cosine_proximity: -0.3006\n",
            "Epoch 17/30\n",
            "21733/21733 [==============================] - 3s 131us/step - loss: 17959727.6422 - acc: 0.0980 - cosine_proximity: -0.3109 - val_loss: 17816679.4199 - val_acc: 0.0887 - val_cosine_proximity: -0.3013\n",
            "Epoch 18/30\n",
            "21733/21733 [==============================] - 3s 130us/step - loss: 17952663.3836 - acc: 0.0981 - cosine_proximity: -0.3112 - val_loss: 17857655.8049 - val_acc: 0.0880 - val_cosine_proximity: -0.2981\n",
            "Epoch 19/30\n",
            "21733/21733 [==============================] - 3s 129us/step - loss: 17945145.8186 - acc: 0.0968 - cosine_proximity: -0.3117 - val_loss: 17835790.8130 - val_acc: 0.0900 - val_cosine_proximity: -0.3001\n",
            "Epoch 20/30\n",
            "21733/21733 [==============================] - 3s 132us/step - loss: 17940213.8521 - acc: 0.0986 - cosine_proximity: -0.3121 - val_loss: 17809433.2348 - val_acc: 0.0894 - val_cosine_proximity: -0.3017\n",
            "Epoch 21/30\n",
            "21733/21733 [==============================] - 3s 131us/step - loss: 17934616.0879 - acc: 0.0989 - cosine_proximity: -0.3124 - val_loss: 17819390.7516 - val_acc: 0.0881 - val_cosine_proximity: -0.3014\n",
            "Epoch 22/30\n",
            "21733/21733 [==============================] - 3s 134us/step - loss: 17926792.9781 - acc: 0.1012 - cosine_proximity: -0.3128 - val_loss: 17806861.6997 - val_acc: 0.0885 - val_cosine_proximity: -0.3022\n",
            "Epoch 23/30\n",
            "21733/21733 [==============================] - 3s 140us/step - loss: 17922855.4801 - acc: 0.0982 - cosine_proximity: -0.3131 - val_loss: 17801037.4107 - val_acc: 0.0920 - val_cosine_proximity: -0.3026\n",
            "Epoch 24/30\n",
            "21733/21733 [==============================] - 3s 140us/step - loss: 17916210.3020 - acc: 0.1019 - cosine_proximity: -0.3137 - val_loss: 17800269.8896 - val_acc: 0.0891 - val_cosine_proximity: -0.3028\n",
            "Epoch 25/30\n",
            "21733/21733 [==============================] - 3s 140us/step - loss: 17908208.7244 - acc: 0.1028 - cosine_proximity: -0.3141 - val_loss: 17787805.9926 - val_acc: 0.0900 - val_cosine_proximity: -0.3037\n",
            "Epoch 26/30\n",
            "21733/21733 [==============================] - 3s 129us/step - loss: 17902771.2040 - acc: 0.1026 - cosine_proximity: -0.3145 - val_loss: 17800636.4269 - val_acc: 0.0911 - val_cosine_proximity: -0.3029\n",
            "Epoch 27/30\n",
            "21733/21733 [==============================] - 3s 128us/step - loss: 17894703.3555 - acc: 0.1027 - cosine_proximity: -0.3151 - val_loss: 17776951.4299 - val_acc: 0.0894 - val_cosine_proximity: -0.3049\n",
            "Epoch 28/30\n",
            "21733/21733 [==============================] - 3s 129us/step - loss: 17889168.1085 - acc: 0.1038 - cosine_proximity: -0.3156 - val_loss: 17786587.4398 - val_acc: 0.0870 - val_cosine_proximity: -0.3039\n",
            "Epoch 29/30\n",
            "21733/21733 [==============================] - 3s 128us/step - loss: 17882266.2370 - acc: 0.1051 - cosine_proximity: -0.3161 - val_loss: 17798505.0567 - val_acc: 0.0880 - val_cosine_proximity: -0.3035\n",
            "Epoch 30/30\n",
            "21733/21733 [==============================] - 3s 130us/step - loss: 17871498.0934 - acc: 0.1049 - cosine_proximity: -0.3167 - val_loss: 17893193.0147 - val_acc: 0.0863 - val_cosine_proximity: -0.2959\n",
            "===== Train Done =====\n"
          ],
          "name": "stdout"
        }
      ]
    },
    {
      "metadata": {
        "id": "Sjk0WzkeiDV9",
        "colab_type": "text"
      },
      "cell_type": "markdown",
      "source": [
        "### 3. Prediction"
      ]
    },
    {
      "metadata": {
        "id": "IZS3dLzDiEjk",
        "colab_type": "code",
        "outputId": "b71af545-6621-4360-f453-d8131a1bd3d9",
        "colab": {
          "base_uri": "https://localhost:8080/",
          "height": 35
        }
      },
      "cell_type": "code",
      "source": [
        "predictions = {}\n",
        "\n",
        "for name, model in model_dict.items():  \n",
        "  print(\"===== Model Name: {} =====\".format(name))  \n",
        "  if name == \"AE\":\n",
        "    predictions[name] = model.predict(test_X)"
      ],
      "execution_count": 24,
      "outputs": [
        {
          "output_type": "stream",
          "text": [
            "===== Model Name: AE =====\n"
          ],
          "name": "stdout"
        }
      ]
    },
    {
      "metadata": {
        "id": "gpMXFCmJWpGn",
        "colab_type": "text"
      },
      "cell_type": "markdown",
      "source": [
        "### 4. Evaluation"
      ]
    },
    {
      "metadata": {
        "id": "W4fg4LpdrNwp",
        "colab_type": "text"
      },
      "cell_type": "markdown",
      "source": [
        "1. Comparing Accuracy both Train and Validation set data\n",
        "  - Compare loss according to the below materials\n",
        "  - Visualize training history  \n",
        "  - Check genelarization of your model\n",
        "  - Refer\n",
        "    - https://medium.com/machine-learning-world/neural-networks-for-algorithmic-trading-1-2-correct-time-series-forecasting-backtesting-9776bfd9e589\n",
        "  - Visualization Hint\n",
        "    - https://machinelearningmastery.com/display-deep-learning-model-training-history-in-keras/"
      ]
    },
    {
      "metadata": {
        "id": "vyS_lAOOrJYm",
        "colab_type": "code",
        "outputId": "2934e1de-8624-4930-bfbe-e4027fc8b9f5",
        "colab": {
          "base_uri": "https://localhost:8080/",
          "height": 294
        }
      },
      "cell_type": "code",
      "source": [
        "import matplotlib.pyplot as plt\n",
        "\n",
        "plt.title('model loss')\n",
        "legend_names = []\n",
        "# summarize history for accuracy\n",
        "for name, model_hist in hist.items():\n",
        "  plt.plot(model_hist.history['loss'])\n",
        "  plt.plot(model_hist.history['val_loss'])\n",
        "  legend_names.extend([name+'_train', name+'_validation'])\n",
        "  \n",
        "plt.legend(legend_names, loc='upper left')\n",
        "\n",
        "plt.ylabel('loss')\n",
        "plt.xlabel('epoch')\n",
        "plt.show()"
      ],
      "execution_count": 25,
      "outputs": [
        {
          "output_type": "display_data",
          "data": {
            "image/png": "[encoded data removed]",
            "text/plain": [
              "<matplotlib.figure.Figure at 0x7f9cc2c6f0b8>"
            ]
          },
          "metadata": {
            "tags": []
          }
        }
      ]
    },
    {
      "metadata": {
        "id": "FJLMnCarxKuf",
        "colab_type": "text"
      },
      "cell_type": "markdown",
      "source": [
        "2. True Price vs. Generate Price\n"
      ]
    },
    {
      "metadata": {
        "id": "ru67SM1hxKVW",
        "colab_type": "code",
        "outputId": "af5b52c3-0767-4fc3-cd2b-b64a8712ea07",
        "colab": {
          "base_uri": "https://localhost:8080/",
          "height": 800
        }
      },
      "cell_type": "code",
      "source": [
        "for name, prediction_model in predictions.items():\n",
        "  print(\"===== Model Name: {} =====\".format(name))\n",
        "  \n",
        "  for _ in range(3):\n",
        "    i = np.random.choice(len(prediction_model))\n",
        "    plt.plot(prediction_model[i], label = name+' generated price differences')    \n",
        "    plt.plot(test_Y[i], label = 'true price differences')\n",
        "    plt.xticks(rotation=30)\n",
        "    plt.legend()\n",
        "    plt.show()\n"
      ],
      "execution_count": 27,
      "outputs": [
        {
          "output_type": "stream",
          "text": [
            "===== Model Name: AE =====\n"
          ],
          "name": "stdout"
        },
        {
          "output_type": "display_data",
          "data": {
            "image/png": "[encoded data removed]",
            "text/plain": [
              "<matplotlib.figure.Figure at 0x7f9cc3005400>"
            ]
          },
          "metadata": {
            "tags": []
          }
        },
        {
          "output_type": "display_data",
          "data": {
            "image/png": "[encoded data removed]",
            "text/plain": [
              "<matplotlib.figure.Figure at 0x7f9cc2b40f98>"
            ]
          },
          "metadata": {
            "tags": []
          }
        },
        {
          "output_type": "display_data",
          "data": {
            "image/png": "[encoded data removed]",
            "text/plain": [
              "<matplotlib.figure.Figure at 0x7f9d0a226780>"
            ]
          },
          "metadata": {
            "tags": []
          }
        }
      ]
    },
    {
      "metadata": {
        "id": "JynAneeqDCt1",
        "colab_type": "code",
        "colab": {}
      },
      "cell_type": "code",
      "source": [
        ""
      ],
      "execution_count": 0,
      "outputs": []
    }
  ]
}