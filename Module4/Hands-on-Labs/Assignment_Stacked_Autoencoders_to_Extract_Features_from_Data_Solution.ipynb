{
  "nbformat": 4,
  "nbformat_minor": 0,
  "metadata": {
    "colab": {
      "name": "Assignment_Stacked_Autoencoders_to_Extract_Features_from Data_Solution.ipynb",
      "version": "0.3.2",
      "provenance": [],
      "collapsed_sections": []
    },
    "kernelspec": {
      "name": "python3",
      "display_name": "Python 3"
    },
    "accelerator": "GPU"
  },
  "cells": [
    {
      "metadata": {
        "id": "KXCMLqVzKQ7F",
        "colab_type": "text"
      },
      "cell_type": "markdown",
      "source": [
        "# Stacked Autoencoders to Extract Features from Data\n",
        "\n",
        "### Requirements\n",
        "- Implement a deep fully-connected autoencoder for *BTC price data*\n",
        "\n",
        "- The size of autoencoder follows\n",
        "  - first encoder layer: 128\n",
        "  - second encoder layer: 64\n",
        "  - encoding dim: 32\n",
        "  - first decoder layer: 64\n",
        "  - second decoder layer: 128   \n",
        "\n",
        "\n",
        "### Hints\n",
        "- Refer Deep autoencoder from Hands-on-Labs\n",
        "\n",
        "\n",
        "### Data Download at: https://drive.google.com/open?id=1_GXzTuyIopvkkOeCxHanVZKa0tKclD6F\n",
        "\n",
        "- Exercise. Stacked Autoencoders to Extract Features from Data"
      ]
    },
    {
      "metadata": {
        "id": "gP7BoQO-Z6Wk",
        "colab_type": "text"
      },
      "cell_type": "markdown",
      "source": [
        "# Data Preprocessing\n"
      ]
    },
    {
      "metadata": {
        "id": "Us-FmgUYPjH9",
        "colab_type": "text"
      },
      "cell_type": "markdown",
      "source": [
        "#### Procedures\n",
        "- Preparation\n",
        "  1. Unzip Data\n",
        "\n",
        "- Preprocessing\n",
        "  1. Import Data\n",
        "  2. Create Balanced Panel\n",
        "  3. Train / Test Split "
      ]
    },
    {
      "metadata": {
        "id": "EnRISOgoh5es",
        "colab_type": "text"
      },
      "cell_type": "markdown",
      "source": [
        "## Preparation"
      ]
    },
    {
      "metadata": {
        "id": "xIxPbmzGQFwR",
        "colab_type": "text"
      },
      "cell_type": "markdown",
      "source": [
        "### 1. Data Import and Create Balanced Panel"
      ]
    },
    {
      "metadata": {
        "id": "4T3G0OFBKcsJ",
        "colab_type": "code",
        "colab": {}
      },
      "cell_type": "code",
      "source": [
        "%matplotlib inline"
      ],
      "execution_count": 0,
      "outputs": []
    },
    {
      "metadata": {
        "id": "TJVHhAmOMWmH",
        "colab_type": "code",
        "outputId": "a9c57e2d-9b4c-4460-c913-4da643d148cd",
        "colab": {
          "base_uri": "https://localhost:8080/",
          "height": 34
        }
      },
      "cell_type": "code",
      "source": [
        "from google.colab import drive\n",
        "drive.mount('/content/gdrive')"
      ],
      "execution_count": 107,
      "outputs": [
        {
          "output_type": "stream",
          "text": [
            "Drive already mounted at /content/gdrive; to attempt to forcibly remount, call drive.mount(\"/content/gdrive\", force_remount=True).\n"
          ],
          "name": "stdout"
        }
      ]
    },
    {
      "metadata": {
        "id": "796JRrylMW2y",
        "colab_type": "code",
        "colab": {}
      },
      "cell_type": "code",
      "source": [
        "DATA_PATH = \"/content/gdrive/My Drive/Lecture/StudyPie/Data/CoinOne/\""
      ],
      "execution_count": 0,
      "outputs": []
    },
    {
      "metadata": {
        "id": "uV7aneomMlG6",
        "colab_type": "code",
        "outputId": "8ad730d2-5e30-4838-bb14-41fd0a6fb36c",
        "colab": {
          "base_uri": "https://localhost:8080/",
          "height": 34
        }
      },
      "cell_type": "code",
      "source": [
        "!ls \"/content/gdrive/My Drive/Lecture/StudyPie/Data/CoinOne/\""
      ],
      "execution_count": 109,
      "outputs": [
        {
          "output_type": "stream",
          "text": [
            "coin_price_dfs.csv  __MACOSX  orderbook_data.zip  orderbook_dfs.csv\n"
          ],
          "name": "stdout"
        }
      ]
    },
    {
      "metadata": {
        "id": "cmkvrXr9MmQ6",
        "colab_type": "code",
        "colab": {}
      },
      "cell_type": "code",
      "source": [
        "# Unzip Data\n",
        "# It will take more than 5 min\n",
        "import zipfile\n",
        "import io\n",
        "\n",
        "zf = zipfile.ZipFile(DATA_PATH+\"orderbook_data.zip\", \"r\")\n",
        "zf.extractall(DATA_PATH)"
      ],
      "execution_count": 0,
      "outputs": []
    },
    {
      "metadata": {
        "id": "b6KYwPnLrcT-",
        "colab_type": "text"
      },
      "cell_type": "markdown",
      "source": [
        "### 2. Configurations"
      ]
    },
    {
      "metadata": {
        "id": "7KTUsoWxNXqi",
        "colab_type": "code",
        "colab": {}
      },
      "cell_type": "code",
      "source": [
        "currency_types = [\"btc\"]\n",
        "\n",
        "TIME_FREQUENCY = 1 # 1, 2, 3, 30 minutes\n",
        "TIME_SEQ_LEN = 200\n",
        "\n",
        "BATCH_SIZE = 32\n",
        "NUM_ITERATIONS = 1000\n",
        "\n",
        "TRAIN_RATIO = 0.8"
      ],
      "execution_count": 0,
      "outputs": []
    },
    {
      "metadata": {
        "id": "QI7dLsjor7-x",
        "colab_type": "text"
      },
      "cell_type": "markdown",
      "source": [
        "## Preprocessing"
      ]
    },
    {
      "metadata": {
        "id": "L7faHBekr9WE",
        "colab_type": "text"
      },
      "cell_type": "markdown",
      "source": [
        "### 1. Import Data"
      ]
    },
    {
      "metadata": {
        "id": "p2TejG4LMwkP",
        "colab_type": "code",
        "outputId": "8e360422-78cf-461b-e6f4-6faf562b3feb",
        "colab": {
          "base_uri": "https://localhost:8080/",
          "height": 34
        }
      },
      "cell_type": "code",
      "source": [
        "import pandas as pd\n",
        "\n",
        "# read coin price data\n",
        "coin_price_dfs = pd.read_csv(DATA_PATH+\"coin_price_dfs.csv\")\n",
        "\n",
        "# sort by timestamp\n",
        "coin_price_dfs = coin_price_dfs.sort_values(by=['timestamp','currency'])\n",
        "\n",
        "# select the columns of interests\n",
        "coin_price_dfs = coin_price_dfs[coin_price_dfs[\"currency\"].isin(currency_types)]\n",
        "\n",
        "print(coin_price_dfs.shape)"
      ],
      "execution_count": 112,
      "outputs": [
        {
          "output_type": "stream",
          "text": [
            "(34225, 15)\n"
          ],
          "name": "stdout"
        }
      ]
    },
    {
      "metadata": {
        "id": "RdRbZCU-QRXL",
        "colab_type": "text"
      },
      "cell_type": "markdown",
      "source": [
        "### 2. Create Balanced Panel"
      ]
    },
    {
      "metadata": {
        "id": "HchnD0S5siCl",
        "colab_type": "code",
        "colab": {}
      },
      "cell_type": "code",
      "source": [
        "import numpy as np\n",
        "\n",
        "coinprice_features = ['currency','last', 'timestamp']\n",
        "\n",
        "panel_df = coin_price_dfs[coinprice_features]\n",
        "\n",
        "## interpolation\n",
        "panel_df = panel_df.groupby('currency').apply(lambda gp: gp.fillna(method=\"ffill\"))\n",
        "\n",
        "panel_df = panel_df.groupby((panel_df.timestamp / (TIME_FREQUENCY)).astype('int')).agg({\n",
        "                                                            u'currency': 'last',\n",
        "                                                            u'timestamp': 'last',\n",
        "                                                            u'last':'last'})\n",
        "\n",
        "panel_df.dropna(inplace=True)"
      ],
      "execution_count": 0,
      "outputs": []
    },
    {
      "metadata": {
        "id": "vV5_iF7Asj5U",
        "colab_type": "code",
        "outputId": "ae04d6fc-c8bb-4e36-fd2e-e23f70cbc7b1",
        "colab": {
          "base_uri": "https://localhost:8080/",
          "height": 235
        }
      },
      "cell_type": "code",
      "source": [
        "panel_df[panel_df['currency']=='btc'].head(n=5)"
      ],
      "execution_count": 114,
      "outputs": [
        {
          "output_type": "execute_result",
          "data": {
            "text/html": [
              "<div>\n",
              "<style scoped>\n",
              "    .dataframe tbody tr th:only-of-type {\n",
              "        vertical-align: middle;\n",
              "    }\n",
              "\n",
              "    .dataframe tbody tr th {\n",
              "        vertical-align: top;\n",
              "    }\n",
              "\n",
              "    .dataframe thead th {\n",
              "        text-align: right;\n",
              "    }\n",
              "</style>\n",
              "<table border=\"1\" class=\"dataframe\">\n",
              "  <thead>\n",
              "    <tr style=\"text-align: right;\">\n",
              "      <th></th>\n",
              "      <th>currency</th>\n",
              "      <th>timestamp</th>\n",
              "      <th>last</th>\n",
              "    </tr>\n",
              "    <tr>\n",
              "      <th>timestamp</th>\n",
              "      <th></th>\n",
              "      <th></th>\n",
              "      <th></th>\n",
              "    </tr>\n",
              "  </thead>\n",
              "  <tbody>\n",
              "    <tr>\n",
              "      <th>25607915</th>\n",
              "      <td>btc</td>\n",
              "      <td>2.560792e+07</td>\n",
              "      <td>7179000.0</td>\n",
              "    </tr>\n",
              "    <tr>\n",
              "      <th>25607916</th>\n",
              "      <td>btc</td>\n",
              "      <td>2.560792e+07</td>\n",
              "      <td>7179000.0</td>\n",
              "    </tr>\n",
              "    <tr>\n",
              "      <th>25607917</th>\n",
              "      <td>btc</td>\n",
              "      <td>2.560792e+07</td>\n",
              "      <td>7171000.0</td>\n",
              "    </tr>\n",
              "    <tr>\n",
              "      <th>25607918</th>\n",
              "      <td>btc</td>\n",
              "      <td>2.560792e+07</td>\n",
              "      <td>7171000.0</td>\n",
              "    </tr>\n",
              "    <tr>\n",
              "      <th>25607919</th>\n",
              "      <td>btc</td>\n",
              "      <td>2.560792e+07</td>\n",
              "      <td>7171000.0</td>\n",
              "    </tr>\n",
              "  </tbody>\n",
              "</table>\n",
              "</div>"
            ],
            "text/plain": [
              "          currency     timestamp       last\n",
              "timestamp                                  \n",
              "25607915       btc  2.560792e+07  7179000.0\n",
              "25607916       btc  2.560792e+07  7179000.0\n",
              "25607917       btc  2.560792e+07  7171000.0\n",
              "25607918       btc  2.560792e+07  7171000.0\n",
              "25607919       btc  2.560792e+07  7171000.0"
            ]
          },
          "metadata": {
            "tags": []
          },
          "execution_count": 114
        }
      ]
    },
    {
      "metadata": {
        "id": "JqnfXndEuSiH",
        "colab_type": "text"
      },
      "cell_type": "markdown",
      "source": [
        "### 3. Train / Test Split"
      ]
    },
    {
      "metadata": {
        "id": "82UhUhYSuUle",
        "colab_type": "code",
        "colab": {}
      },
      "cell_type": "code",
      "source": [
        "# split train test dataset\n",
        "panel_df_train = panel_df.iloc[:int(panel_df.shape[0]*TRAIN_RATIO)]\n",
        "panel_df_test = panel_df[~panel_df.index.isin(panel_df_train.index)]"
      ],
      "execution_count": 0,
      "outputs": []
    },
    {
      "metadata": {
        "id": "hoZe70p8kJQr",
        "colab_type": "code",
        "colab": {}
      },
      "cell_type": "code",
      "source": [
        "import numpy as np\n",
        "import random\n",
        "from collections import deque\n",
        "\n",
        "def sequence_generator(panel_df, TIME_SEQ_LEN, suffle=True,seed=101):\n",
        "\n",
        "  sequential_data = []  # this is a list that will CONTAIN the sequences\n",
        "  queue = deque(maxlen = TIME_SEQ_LEN)  # These will be our actual sequences. They are made with deque, which keeps the maximum length by popping out older values as new ones come in\n",
        "\n",
        "  for i in panel_df['last'].tolist():  # iterate over the values\n",
        "    queue.append(i)  # store all but the target\n",
        "    if len(queue) == TIME_SEQ_LEN:  # make sure we have 60 sequences!\n",
        "      sequential_data.append(np.array(queue))  # append those bad boys!\n",
        "\n",
        "  if suffle == True:\n",
        "    random.seed(seed)\n",
        "    random.shuffle(sequential_data)  # shuffle for good measure.\n",
        "    \n",
        "  return np.array(sequential_data), np.array(sequential_data) "
      ],
      "execution_count": 0,
      "outputs": []
    },
    {
      "metadata": {
        "id": "Wt-VtzACi9Y6",
        "colab_type": "code",
        "colab": {}
      },
      "cell_type": "code",
      "source": [
        "train_X, train_Y = sequence_generator(panel_df_train, TIME_SEQ_LEN, suffle=True, seed=101)\n",
        "test_X, test_Y = sequence_generator(panel_df_test, TIME_SEQ_LEN, suffle=False)"
      ],
      "execution_count": 0,
      "outputs": []
    },
    {
      "metadata": {
        "id": "BmlBY2nElQOl",
        "colab_type": "code",
        "colab": {
          "base_uri": "https://localhost:8080/",
          "height": 51
        },
        "outputId": "fd7ee720-d6e5-43aa-9151-01a063d2418a"
      },
      "cell_type": "code",
      "source": [
        "print(train_X.shape)\n",
        "print(test_X.shape)"
      ],
      "execution_count": 118,
      "outputs": [
        {
          "output_type": "stream",
          "text": [
            "(27168, 200)\n",
            "(6643, 200)\n"
          ],
          "name": "stdout"
        }
      ]
    },
    {
      "metadata": {
        "id": "5EUZ0DaTvPg4",
        "colab_type": "text"
      },
      "cell_type": "markdown",
      "source": [
        "# Exercise Stacked Autoencoders to Extract Features from Data"
      ]
    },
    {
      "metadata": {
        "id": "RHjlJ1Kcu48a",
        "colab_type": "text"
      },
      "cell_type": "markdown",
      "source": [
        "  ### Requirements\n",
        "- Implement a deep fully-connected autoencoder for *BTC price data*\n",
        "\n",
        "- The size of autoencoder follows\n",
        "  - first encoder layer: 128\n",
        "  - second encoder layer: 64\n",
        "  - encoding dim: 32\n",
        "  - first decoder layer: 64\n",
        "  - second decoder layer: 128   \n",
        "\n",
        "### Procedures\n",
        "\n",
        "- Training / Predicting Model\n",
        "  1. Model Define\n",
        "  2. Model Train\n",
        "  3. Prediction\n",
        "  4. Evaluation\n",
        "  \n",
        "### Hints\n",
        "- Refer Deep autoencoder from Hands-on-Labs\n"
      ]
    },
    {
      "metadata": {
        "id": "x_JZcMKHh9xV",
        "colab_type": "text"
      },
      "cell_type": "markdown",
      "source": [
        "### 1. Model Build"
      ]
    },
    {
      "metadata": {
        "id": "0bADWJMbvhfj",
        "colab_type": "code",
        "colab": {}
      },
      "cell_type": "code",
      "source": [
        "import tensorflow as tf\n",
        "from tensorflow.keras.layers import Input, Dense\n",
        "from tensorflow.keras.models import Model\n",
        "from tensorflow.keras.layers import Dense\n",
        "from tensorflow.keras import regularizers\n",
        "\n",
        "\n",
        "def autoencoder_model(input_dim, output_dim):\n",
        "\n",
        "  L1 = 128 \n",
        "  L2 = 64 \n",
        "  L3 = 32  \n",
        "  L4 = 64 \n",
        "  L5 = 128\n",
        "\n",
        "  input_seq = Input(shape=(input_dim,))\n",
        "  encoded = Dense(L1, activation='relu', activity_regularizer=regularizers.l2(0))(input_seq)\n",
        "  encoded = Dense(L2, activation='relu', activity_regularizer=regularizers.l2(0))(encoded)\n",
        "  encoded = Dense(L3, activation='relu', activity_regularizer=regularizers.l2(0))(encoded)\n",
        "\n",
        "  decoded = Dense(L4, activation='relu', activity_regularizer=regularizers.l2(0))(encoded)\n",
        "  decoded = Dense(L5, activation='relu', activity_regularizer=regularizers.l2(0))(decoded)\n",
        "  decoded = Dense(output_dim, activation='linear')(decoded)  \n",
        "\n",
        "  autoencoder = Model(input_seq, decoded)\n",
        "  autoencoder.compile(optimizer='adadelta', loss='mean_absolute_error')\n",
        "  autoencoder.summary()\n",
        "  return autoencoder"
      ],
      "execution_count": 0,
      "outputs": []
    },
    {
      "metadata": {
        "id": "2xtMiiEMiJ-N",
        "colab_type": "code",
        "colab": {
          "base_uri": "https://localhost:8080/",
          "height": 374
        },
        "outputId": "99abb948-21cc-492e-88c7-baa954412d55"
      },
      "cell_type": "code",
      "source": [
        "model_dict = {}\n",
        "model_dict[\"AE\"] = autoencoder_model(train_X.shape[1], train_Y.shape[1])"
      ],
      "execution_count": 120,
      "outputs": [
        {
          "output_type": "stream",
          "text": [
            "_________________________________________________________________\n",
            "Layer (type)                 Output Shape              Param #   \n",
            "=================================================================\n",
            "input_11 (InputLayer)        (None, 200)               0         \n",
            "_________________________________________________________________\n",
            "dense_60 (Dense)             (None, 128)               25728     \n",
            "_________________________________________________________________\n",
            "dense_61 (Dense)             (None, 64)                8256      \n",
            "_________________________________________________________________\n",
            "dense_62 (Dense)             (None, 32)                2080      \n",
            "_________________________________________________________________\n",
            "dense_63 (Dense)             (None, 64)                2112      \n",
            "_________________________________________________________________\n",
            "dense_64 (Dense)             (None, 128)               8320      \n",
            "_________________________________________________________________\n",
            "dense_65 (Dense)             (None, 200)               25800     \n",
            "=================================================================\n",
            "Total params: 72,296\n",
            "Trainable params: 72,296\n",
            "Non-trainable params: 0\n",
            "_________________________________________________________________\n"
          ],
          "name": "stdout"
        }
      ]
    },
    {
      "metadata": {
        "id": "8xHSWzs8iBq1",
        "colab_type": "text"
      },
      "cell_type": "markdown",
      "source": [
        "### 2. Model Train\n"
      ]
    },
    {
      "metadata": {
        "id": "XlwicNBhiFSt",
        "colab_type": "code",
        "outputId": "be46c35d-8d86-40a8-ef31-a2ed9070b33b",
        "colab": {
          "base_uri": "https://localhost:8080/",
          "height": 119
        }
      },
      "cell_type": "code",
      "source": [
        "BATCH_SIZE = 32\n",
        "NUM_ITERATIONS = 1000\n",
        "\n",
        "hist = {}\n",
        "\n",
        "for name, model in model_dict.items():\n",
        "\n",
        "  print(\"===== Model Name: {} =====\".format(name))\n",
        "  if name == \"AE\":\n",
        "    hist[name] = model.fit(train_X, train_Y, \n",
        "                            batch_size = BATCH_SIZE,\n",
        "                            validation_split=0.2,\n",
        "                            epochs = NUM_ITERATIONS)\n",
        "\n",
        "  print(\"===== Train Done =====\".format(name))"
      ],
      "execution_count": 0,
      "outputs": [
        {
          "output_type": "stream",
          "text": [
            "===== Model Name: AE =====\n",
            "Train on 21734 samples, validate on 5434 samples\n",
            "Epoch 1/1000\n",
            "21734/21734 [==============================] - 7s 317us/step - loss: 1690043.8296 - val_loss: 2200370.4635\n",
            "Epoch 2/1000\n",
            "16416/21734 [=====================>........] - ETA: 1s - loss: 1076929.8860"
          ],
          "name": "stdout"
        }
      ]
    },
    {
      "metadata": {
        "id": "Sjk0WzkeiDV9",
        "colab_type": "text"
      },
      "cell_type": "markdown",
      "source": [
        "### 3. Prediction"
      ]
    },
    {
      "metadata": {
        "id": "IZS3dLzDiEjk",
        "colab_type": "code",
        "outputId": "11eb5614-901f-4c00-c555-d18742fc9b73",
        "colab": {
          "base_uri": "https://localhost:8080/",
          "height": 34
        }
      },
      "cell_type": "code",
      "source": [
        "predictions = {}\n",
        "\n",
        "for name, model in model_dict.items():  \n",
        "  print(\"===== Model Name: {} =====\".format(name))  \n",
        "  if name == \"AE\":\n",
        "    predictions[name] = model.predict(test_X)"
      ],
      "execution_count": 104,
      "outputs": [
        {
          "output_type": "stream",
          "text": [
            "===== Model Name: AE =====\n"
          ],
          "name": "stdout"
        }
      ]
    },
    {
      "metadata": {
        "id": "gpMXFCmJWpGn",
        "colab_type": "text"
      },
      "cell_type": "markdown",
      "source": [
        "### 4. Evaluation"
      ]
    },
    {
      "metadata": {
        "id": "W4fg4LpdrNwp",
        "colab_type": "text"
      },
      "cell_type": "markdown",
      "source": [
        "1. Comparing Accuracy both Train and Validation set data\n",
        "  - Compare loss according to the below materials\n",
        "  - Visualize training history  \n",
        "  - Check genelarization of your model\n",
        "  - Refer\n",
        "    - https://medium.com/machine-learning-world/neural-networks-for-algorithmic-trading-1-2-correct-time-series-forecasting-backtesting-9776bfd9e589\n",
        "  - Visualization Hint\n",
        "    - https://machinelearningmastery.com/display-deep-learning-model-training-history-in-keras/"
      ]
    },
    {
      "metadata": {
        "id": "vyS_lAOOrJYm",
        "colab_type": "code",
        "outputId": "474e0ccb-c84f-4f5a-d58c-efe080f9d9a7",
        "colab": {
          "base_uri": "https://localhost:8080/",
          "height": 294
        }
      },
      "cell_type": "code",
      "source": [
        "import matplotlib.pyplot as plt\n",
        "\n",
        "plt.title('model loss')\n",
        "legend_names = []\n",
        "# summarize history for accuracy\n",
        "for name, model_hist in hist.items():\n",
        "  plt.plot(model_hist.history['loss'])\n",
        "  plt.plot(model_hist.history['val_loss'])\n",
        "  legend_names.extend([name+'_train', name+'_validation'])\n",
        "  \n",
        "plt.legend(legend_names, loc='upper left')\n",
        "\n",
        "plt.ylabel('loss')\n",
        "plt.xlabel('epoch')\n",
        "plt.show()"
      ],
      "execution_count": 102,
      "outputs": [
        {
          "output_type": "display_data",
          "data": {
            "image/png": "[encoded data removed]",
            "text/plain": [
              "<matplotlib.figure.Figure at 0x7fc6439991d0>"
            ]
          },
          "metadata": {
            "tags": []
          }
        }
      ]
    },
    {
      "metadata": {
        "id": "FJLMnCarxKuf",
        "colab_type": "text"
      },
      "cell_type": "markdown",
      "source": [
        "2. True Price vs. Generate Price\n"
      ]
    },
    {
      "metadata": {
        "id": "ru67SM1hxKVW",
        "colab_type": "code",
        "outputId": "8f36e0ea-cc87-43d2-f2ac-7b0554f133c2",
        "colab": {
          "base_uri": "https://localhost:8080/",
          "height": 793
        }
      },
      "cell_type": "code",
      "source": [
        "for name, prediction_model in predictions.items():\n",
        "  print(\"===== Model Name: {} =====\".format(name))\n",
        "  \n",
        "  for _ in range(3):\n",
        "    i = np.random.choice(len(prediction_model))\n",
        "    plt.plot(prediction_model[i], label = name+' generated price')    \n",
        "    plt.plot(test_Y[i], label = 'true price')\n",
        "    plt.xticks(rotation=30)\n",
        "    plt.legend()\n",
        "    plt.show()\n"
      ],
      "execution_count": 105,
      "outputs": [
        {
          "output_type": "stream",
          "text": [
            "===== Model Name: AE =====\n"
          ],
          "name": "stdout"
        },
        {
          "output_type": "display_data",
          "data": {
            "image/png": "[encoded data removed]",
            "text/plain": [
              "<matplotlib.figure.Figure at 0x7fc6438e82e8>"
            ]
          },
          "metadata": {
            "tags": []
          }
        },
        {
          "output_type": "display_data",
          "data": {
            "image/png": "[encoded data removed]",
            "text/plain": [
              "<matplotlib.figure.Figure at 0x7fc6438a3cc0>"
            ]
          },
          "metadata": {
            "tags": []
          }
        },
        {
          "output_type": "display_data",
          "data": {
            "image/png": "[encoded data removed]",
            "text/plain": [
              "<matplotlib.figure.Figure at 0x7fc6438aa6d8>"
            ]
          },
          "metadata": {
            "tags": []
          }
        }
      ]
    },
    {
      "metadata": {
        "id": "ESKvBXTcpYB3",
        "colab_type": "code",
        "colab": {}
      },
      "cell_type": "code",
      "source": [
        ""
      ],
      "execution_count": 0,
      "outputs": []
    }
  ]
}