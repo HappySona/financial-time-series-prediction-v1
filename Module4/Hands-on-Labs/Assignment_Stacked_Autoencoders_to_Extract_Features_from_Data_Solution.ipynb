{
  "nbformat": 4,
  "nbformat_minor": 0,
  "metadata": {
    "colab": {
      "name": "Assignment_Stacked_Autoencoders_to_Extract_Features_from Data_Solution.ipynb",
      "version": "0.3.2",
      "provenance": [],
      "collapsed_sections": []
    },
    "kernelspec": {
      "name": "python3",
      "display_name": "Python 3"
    },
    "accelerator": "GPU"
  },
  "cells": [
    {
      "metadata": {
        "id": "KXCMLqVzKQ7F",
        "colab_type": "text"
      },
      "cell_type": "markdown",
      "source": [
        "# Stacked Autoencoders to Extract Features from Data\n",
        "\n",
        "### Requirements\n",
        "- Implement a deep fully-connected autoencoder for *BTC price data*\n",
        "\n",
        "- The size of autoencoder follows\n",
        "  - first encoder layer: 128\n",
        "  - second encoder layer: 64\n",
        "  - encoding dim: 32\n",
        "  - first decoder layer: 64\n",
        "  - second decoder layer: 128   \n",
        "\n",
        "\n",
        "### Hints\n",
        "- Refer Deep autoencoder from Hands-on-Labs\n",
        "\n",
        "\n",
        "### Data Download at: https://drive.google.com/open?id=1_GXzTuyIopvkkOeCxHanVZKa0tKclD6F\n",
        "\n",
        "- Exercise. Stacked Autoencoders to Extract Features from Data"
      ]
    },
    {
      "metadata": {
        "id": "gP7BoQO-Z6Wk",
        "colab_type": "text"
      },
      "cell_type": "markdown",
      "source": [
        "# Data Preprocessing\n"
      ]
    },
    {
      "metadata": {
        "id": "Us-FmgUYPjH9",
        "colab_type": "text"
      },
      "cell_type": "markdown",
      "source": [
        "#### Procedures\n",
        "- Preparation\n",
        "  1. Unzip Data\n",
        "\n",
        "- Preprocessing\n",
        "  1. Import Data\n",
        "  2. Create Balanced Panel\n",
        "  3. Train / Test Split "
      ]
    },
    {
      "metadata": {
        "id": "EnRISOgoh5es",
        "colab_type": "text"
      },
      "cell_type": "markdown",
      "source": [
        "## Preparation"
      ]
    },
    {
      "metadata": {
        "id": "xIxPbmzGQFwR",
        "colab_type": "text"
      },
      "cell_type": "markdown",
      "source": [
        "### 1. Data Import and Create Balanced Panel"
      ]
    },
    {
      "metadata": {
        "id": "4T3G0OFBKcsJ",
        "colab_type": "code",
        "colab": {}
      },
      "cell_type": "code",
      "source": [
        "%matplotlib inline"
      ],
      "execution_count": 0,
      "outputs": []
    },
    {
      "metadata": {
        "id": "TJVHhAmOMWmH",
        "colab_type": "code",
        "outputId": "260eb036-fb98-4365-f53a-5b4399426264",
        "colab": {
          "base_uri": "https://localhost:8080/",
          "height": 122
        }
      },
      "cell_type": "code",
      "source": [
        "from google.colab import drive\n",
        "drive.mount('/content/gdrive')"
      ],
      "execution_count": 2,
      "outputs": [
        {
          "output_type": "stream",
          "text": [
            "Go to this URL in a browser: https://accounts.google.com/o/oauth2/auth?client_id=947318989803-6bn6qk8qdgf4n4g3pfee6491hc0brc4i.apps.googleusercontent.com&redirect_uri=urn%3Aietf%3Awg%3Aoauth%3A2.0%3Aoob&scope=email%20https%3A%2F%2Fwww.googleapis.com%2Fauth%2Fdocs.test%20https%3A%2F%2Fwww.googleapis.com%2Fauth%2Fdrive%20https%3A%2F%2Fwww.googleapis.com%2Fauth%2Fdrive.photos.readonly%20https%3A%2F%2Fwww.googleapis.com%2Fauth%2Fpeopleapi.readonly&response_type=code\n",
            "\n",
            "Enter your authorization code:\n",
            "··········\n",
            "Mounted at /content/gdrive\n"
          ],
          "name": "stdout"
        }
      ]
    },
    {
      "metadata": {
        "id": "796JRrylMW2y",
        "colab_type": "code",
        "colab": {}
      },
      "cell_type": "code",
      "source": [
        "DATA_PATH = \"/content/gdrive/My Drive/Lecture/StudyPie/Data/CoinOne/\""
      ],
      "execution_count": 0,
      "outputs": []
    },
    {
      "metadata": {
        "id": "uV7aneomMlG6",
        "colab_type": "code",
        "outputId": "aa999a43-0df5-4573-e8e5-463299df7bf4",
        "colab": {
          "base_uri": "https://localhost:8080/",
          "height": 34
        }
      },
      "cell_type": "code",
      "source": [
        "!ls \"/content/gdrive/My Drive/Lecture/StudyPie/Data/CoinOne/\""
      ],
      "execution_count": 4,
      "outputs": [
        {
          "output_type": "stream",
          "text": [
            "coin_price_dfs.csv  __MACOSX  orderbook_data.zip  orderbook_dfs.csv\n"
          ],
          "name": "stdout"
        }
      ]
    },
    {
      "metadata": {
        "id": "cmkvrXr9MmQ6",
        "colab_type": "code",
        "colab": {}
      },
      "cell_type": "code",
      "source": [
        "# Unzip Data\n",
        "# It will take more than 5 min\n",
        "import zipfile\n",
        "import io\n",
        "\n",
        "zf = zipfile.ZipFile(DATA_PATH+\"orderbook_data.zip\", \"r\")\n",
        "zf.extractall(DATA_PATH)"
      ],
      "execution_count": 0,
      "outputs": []
    },
    {
      "metadata": {
        "id": "b6KYwPnLrcT-",
        "colab_type": "text"
      },
      "cell_type": "markdown",
      "source": [
        "### 2. Configurations"
      ]
    },
    {
      "metadata": {
        "id": "7KTUsoWxNXqi",
        "colab_type": "code",
        "colab": {}
      },
      "cell_type": "code",
      "source": [
        "currency_types = [\"btc\"]\n",
        "\n",
        "TIME_FREQUENCY = 1 # 1, 2, 3, 30 minutes\n",
        "TIME_SEQ_LEN = 60\n",
        "\n",
        "BATCH_SIZE = 128\n",
        "NUM_ITERATIONS = 30\n",
        "\n",
        "TRAIN_RATIO = 0.8"
      ],
      "execution_count": 0,
      "outputs": []
    },
    {
      "metadata": {
        "id": "QI7dLsjor7-x",
        "colab_type": "text"
      },
      "cell_type": "markdown",
      "source": [
        "## Preprocessing"
      ]
    },
    {
      "metadata": {
        "id": "L7faHBekr9WE",
        "colab_type": "text"
      },
      "cell_type": "markdown",
      "source": [
        "### 1. Import Data"
      ]
    },
    {
      "metadata": {
        "id": "p2TejG4LMwkP",
        "colab_type": "code",
        "outputId": "ecc173fe-514b-45a7-e36b-b88cd5bbcda5",
        "colab": {
          "base_uri": "https://localhost:8080/",
          "height": 34
        }
      },
      "cell_type": "code",
      "source": [
        "import pandas as pd\n",
        "\n",
        "# read coin price data\n",
        "coin_price_dfs = pd.read_csv(DATA_PATH+\"coin_price_dfs.csv\")\n",
        "\n",
        "# sort by timestamp\n",
        "coin_price_dfs = coin_price_dfs.sort_values(by=['timestamp','currency'])\n",
        "\n",
        "# select the columns of interests\n",
        "coin_price_dfs = coin_price_dfs[coin_price_dfs[\"currency\"].isin(currency_types)]\n",
        "\n",
        "print(coin_price_dfs.shape)"
      ],
      "execution_count": 7,
      "outputs": [
        {
          "output_type": "stream",
          "text": [
            "(34225, 15)\n"
          ],
          "name": "stdout"
        }
      ]
    },
    {
      "metadata": {
        "id": "RdRbZCU-QRXL",
        "colab_type": "text"
      },
      "cell_type": "markdown",
      "source": [
        "### 2. Create Balanced Panel"
      ]
    },
    {
      "metadata": {
        "id": "HchnD0S5siCl",
        "colab_type": "code",
        "colab": {}
      },
      "cell_type": "code",
      "source": [
        "coinprice_features = ['currency','last', 'timestamp']\n",
        "\n",
        "panel_df = coin_price_dfs[coinprice_features]\n",
        "\n",
        "## interpolation\n",
        "panel_df = panel_df.groupby('currency').apply(lambda gp: gp.fillna(method=\"ffill\"))\n",
        "panel_df.dropna(inplace=True)"
      ],
      "execution_count": 0,
      "outputs": []
    },
    {
      "metadata": {
        "id": "vV5_iF7Asj5U",
        "colab_type": "code",
        "outputId": "dc312a1a-4087-41b9-c37b-bce652dd7833",
        "colab": {
          "base_uri": "https://localhost:8080/",
          "height": 204
        }
      },
      "cell_type": "code",
      "source": [
        "panel_df[panel_df['currency']=='btc'].head(n=5)"
      ],
      "execution_count": 9,
      "outputs": [
        {
          "output_type": "execute_result",
          "data": {
            "text/html": [
              "<div>\n",
              "<style scoped>\n",
              "    .dataframe tbody tr th:only-of-type {\n",
              "        vertical-align: middle;\n",
              "    }\n",
              "\n",
              "    .dataframe tbody tr th {\n",
              "        vertical-align: top;\n",
              "    }\n",
              "\n",
              "    .dataframe thead th {\n",
              "        text-align: right;\n",
              "    }\n",
              "</style>\n",
              "<table border=\"1\" class=\"dataframe\">\n",
              "  <thead>\n",
              "    <tr style=\"text-align: right;\">\n",
              "      <th></th>\n",
              "      <th>currency</th>\n",
              "      <th>last</th>\n",
              "      <th>timestamp</th>\n",
              "    </tr>\n",
              "  </thead>\n",
              "  <tbody>\n",
              "    <tr>\n",
              "      <th>1</th>\n",
              "      <td>btc</td>\n",
              "      <td>7179000.0</td>\n",
              "      <td>2.560792e+07</td>\n",
              "    </tr>\n",
              "    <tr>\n",
              "      <th>8</th>\n",
              "      <td>btc</td>\n",
              "      <td>7179000.0</td>\n",
              "      <td>2.560792e+07</td>\n",
              "    </tr>\n",
              "    <tr>\n",
              "      <th>15</th>\n",
              "      <td>btc</td>\n",
              "      <td>7171000.0</td>\n",
              "      <td>2.560792e+07</td>\n",
              "    </tr>\n",
              "    <tr>\n",
              "      <th>22</th>\n",
              "      <td>btc</td>\n",
              "      <td>7171000.0</td>\n",
              "      <td>2.560792e+07</td>\n",
              "    </tr>\n",
              "    <tr>\n",
              "      <th>29</th>\n",
              "      <td>btc</td>\n",
              "      <td>7171000.0</td>\n",
              "      <td>2.560792e+07</td>\n",
              "    </tr>\n",
              "  </tbody>\n",
              "</table>\n",
              "</div>"
            ],
            "text/plain": [
              "   currency       last     timestamp\n",
              "1       btc  7179000.0  2.560792e+07\n",
              "8       btc  7179000.0  2.560792e+07\n",
              "15      btc  7171000.0  2.560792e+07\n",
              "22      btc  7171000.0  2.560792e+07\n",
              "29      btc  7171000.0  2.560792e+07"
            ]
          },
          "metadata": {
            "tags": []
          },
          "execution_count": 9
        }
      ]
    },
    {
      "metadata": {
        "id": "JqnfXndEuSiH",
        "colab_type": "text"
      },
      "cell_type": "markdown",
      "source": [
        "### 3. Train / Test Split"
      ]
    },
    {
      "metadata": {
        "id": "82UhUhYSuUle",
        "colab_type": "code",
        "colab": {}
      },
      "cell_type": "code",
      "source": [
        "# split train test dataset\n",
        "panel_df_train = panel_df.iloc[:int(panel_df.shape[0]*TRAIN_RATIO)]\n",
        "panel_df_test = panel_df[~panel_df.index.isin(panel_df_train.index)]"
      ],
      "execution_count": 0,
      "outputs": []
    },
    {
      "metadata": {
        "id": "hoZe70p8kJQr",
        "colab_type": "code",
        "colab": {}
      },
      "cell_type": "code",
      "source": [
        "import numpy as np\n",
        "import random\n",
        "from collections import deque\n",
        "\n",
        "def sequence_generator(panel_df, TIME_SEQ_LEN, suffle=True,seed=101):\n",
        "\n",
        "  sequential_data = []  # this is a list that will CONTAIN the sequences\n",
        "  queue = deque(maxlen = TIME_SEQ_LEN)  # These will be our actual sequences. They are made with deque, which keeps the maximum length by popping out older values as new ones come in\n",
        "\n",
        "  for i in panel_df['last'].tolist():  # iterate over the values\n",
        "    queue.append(i)  # store all but the target\n",
        "    if len(queue) == TIME_SEQ_LEN:  # make sure we have 60 sequences!\n",
        "      sequential_data.append(np.array(queue))  # append those bad boys!\n",
        "\n",
        "  if suffle == True:\n",
        "    random.seed(seed)\n",
        "    random.shuffle(sequential_data)  # shuffle for good measure.\n",
        "    \n",
        "  return np.array(sequential_data), np.array(sequential_data) "
      ],
      "execution_count": 0,
      "outputs": []
    },
    {
      "metadata": {
        "id": "Wt-VtzACi9Y6",
        "colab_type": "code",
        "colab": {}
      },
      "cell_type": "code",
      "source": [
        "train_X, train_Y = sequence_generator(panel_df_train, TIME_SEQ_LEN, suffle=True, seed=101)\n",
        "test_X, test_Y = sequence_generator(panel_df_test, TIME_SEQ_LEN, suffle=False)\n"
      ],
      "execution_count": 0,
      "outputs": []
    },
    {
      "metadata": {
        "id": "BmlBY2nElQOl",
        "colab_type": "code",
        "colab": {
          "base_uri": "https://localhost:8080/",
          "height": 51
        },
        "outputId": "87da3701-e8eb-4cb8-ad4b-fe4d0a9b115c"
      },
      "cell_type": "code",
      "source": [
        "print(train_X.shape)\n",
        "print(test_X.shape)"
      ],
      "execution_count": 33,
      "outputs": [
        {
          "output_type": "stream",
          "text": [
            "(27321, 60)\n",
            "(6786, 60)\n"
          ],
          "name": "stdout"
        }
      ]
    },
    {
      "metadata": {
        "id": "5EUZ0DaTvPg4",
        "colab_type": "text"
      },
      "cell_type": "markdown",
      "source": [
        "# Exercise Stacked Autoencoders to Extract Features from Data"
      ]
    },
    {
      "metadata": {
        "id": "RHjlJ1Kcu48a",
        "colab_type": "text"
      },
      "cell_type": "markdown",
      "source": [
        "  ### Requirements\n",
        "- Implement a deep fully-connected autoencoder for *BTC price data*\n",
        "\n",
        "- The size of autoencoder follows\n",
        "  - first encoder layer: 128\n",
        "  - second encoder layer: 64\n",
        "  - encoding dim: 32\n",
        "  - first decoder layer: 64\n",
        "  - second decoder layer: 128   \n",
        "\n",
        "### Procedures\n",
        "\n",
        "- Training / Predicting Model\n",
        "  1. Model Define\n",
        "  2. Model Train\n",
        "  3. Prediction\n",
        "  4. Evaluation\n",
        "  \n",
        "### Hints\n",
        "- Refer Deep autoencoder from Hands-on-Labs\n"
      ]
    },
    {
      "metadata": {
        "id": "x_JZcMKHh9xV",
        "colab_type": "text"
      },
      "cell_type": "markdown",
      "source": [
        "### 1. Model Build"
      ]
    },
    {
      "metadata": {
        "id": "0bADWJMbvhfj",
        "colab_type": "code",
        "colab": {}
      },
      "cell_type": "code",
      "source": [
        "import tensorflow as tf\n",
        "from tensorflow.keras.layers import Input, Dense\n",
        "from tensorflow.keras.models import Model\n",
        "from tensorflow.keras.layers import Dense\n",
        "\n",
        "def autoencoder_model(input_dim, output_dim):\n",
        "\n",
        "  L1 = 128 \n",
        "  L2 = 64  \n",
        "  L3 = 32  \n",
        "  L4 = 64 \n",
        "  L5 = 128\n",
        "\n",
        "  input_seq = Input(shape=(input_dim,))\n",
        "  encoded = Dense(L1, activation='relu')(input_seq)\n",
        "  encoded = Dense(L2, activation='relu')(encoded)\n",
        "  encoded = Dense(L3, activation='relu')(encoded)\n",
        "\n",
        "  decoded = Dense(L4, activation='relu')(encoded)\n",
        "  decoded = Dense(L5, activation='relu')(decoded)\n",
        "  decoded = Dense(output_dim, activation='linear')(decoded)  \n",
        "\n",
        "  autoencoder = Model(input_seq, decoded)\n",
        "  autoencoder.compile(optimizer='adadelta', loss='mean_absolute_error')\n",
        "  autoencoder.summary()\n",
        "  return autoencoder"
      ],
      "execution_count": 0,
      "outputs": []
    },
    {
      "metadata": {
        "id": "2xtMiiEMiJ-N",
        "colab_type": "code",
        "colab": {
          "base_uri": "https://localhost:8080/",
          "height": 374
        },
        "outputId": "88c83a8c-0085-4daf-acc6-2bcbcb81ee3a"
      },
      "cell_type": "code",
      "source": [
        "model_dict = {}\n",
        "model_dict[\"AE\"] = autoencoder_model(train_X.shape[1], train_Y.shape[1])"
      ],
      "execution_count": 68,
      "outputs": [
        {
          "output_type": "stream",
          "text": [
            "_________________________________________________________________\n",
            "Layer (type)                 Output Shape              Param #   \n",
            "=================================================================\n",
            "input_8 (InputLayer)         (None, 60)                0         \n",
            "_________________________________________________________________\n",
            "dense_42 (Dense)             (None, 128)               7808      \n",
            "_________________________________________________________________\n",
            "dense_43 (Dense)             (None, 64)                8256      \n",
            "_________________________________________________________________\n",
            "dense_44 (Dense)             (None, 32)                2080      \n",
            "_________________________________________________________________\n",
            "dense_45 (Dense)             (None, 64)                2112      \n",
            "_________________________________________________________________\n",
            "dense_46 (Dense)             (None, 128)               8320      \n",
            "_________________________________________________________________\n",
            "dense_47 (Dense)             (None, 60)                7740      \n",
            "=================================================================\n",
            "Total params: 36,316\n",
            "Trainable params: 36,316\n",
            "Non-trainable params: 0\n",
            "_________________________________________________________________\n"
          ],
          "name": "stdout"
        }
      ]
    },
    {
      "metadata": {
        "id": "8xHSWzs8iBq1",
        "colab_type": "text"
      },
      "cell_type": "markdown",
      "source": [
        "### 2. Model Train\n"
      ]
    },
    {
      "metadata": {
        "id": "XlwicNBhiFSt",
        "colab_type": "code",
        "outputId": "69914670-b0e3-41ea-aaa2-01d2661c2b7b",
        "colab": {
          "base_uri": "https://localhost:8080/",
          "height": 459
        }
      },
      "cell_type": "code",
      "source": [
        "BATCH_SIZE = 64 \n",
        "NUM_ITERATIONS = 100\n",
        "\n",
        "hist = {}\n",
        "\n",
        "for name, model in model_dict.items():\n",
        "\n",
        "  print(\"===== Model Name: {} =====\".format(name))\n",
        "  if name == \"AE\":\n",
        "    hist[name] = model.fit(train_X, train_Y, \n",
        "                            batch_size = BATCH_SIZE,\n",
        "                            validation_split=0.2,\n",
        "                            epochs = NUM_ITERATIONS)\n",
        "\n",
        "  print(\"===== Train Done =====\".format(name))"
      ],
      "execution_count": 0,
      "outputs": [
        {
          "output_type": "stream",
          "text": [
            "===== Model Name: AE =====\n",
            "Train on 21856 samples, validate on 5465 samples\n",
            "Epoch 1/100\n",
            "21856/21856 [==============================] - 3s 123us/step - loss: 383837.7797 - val_loss: 474438.3370\n",
            "Epoch 2/100\n",
            "21856/21856 [==============================] - 3s 127us/step - loss: 383518.9358 - val_loss: 100183.0190\n",
            "Epoch 3/100\n",
            "21856/21856 [==============================] - 3s 128us/step - loss: 384779.5864 - val_loss: 263078.1559\n",
            "Epoch 4/100\n",
            "21856/21856 [==============================] - 3s 130us/step - loss: 390133.0538 - val_loss: 81783.1284\n",
            "Epoch 5/100\n",
            "21856/21856 [==============================] - 3s 129us/step - loss: 393125.7322 - val_loss: 90802.6680\n",
            "Epoch 6/100\n",
            "21856/21856 [==============================] - 3s 129us/step - loss: 393496.7345 - val_loss: 313905.4127\n",
            "Epoch 7/100\n",
            "21856/21856 [==============================] - 3s 129us/step - loss: 393912.1228 - val_loss: 471304.8003\n",
            "Epoch 8/100\n",
            "21856/21856 [==============================] - 3s 128us/step - loss: 393101.3362 - val_loss: 133809.0459\n",
            "Epoch 9/100\n",
            "21856/21856 [==============================] - 3s 126us/step - loss: 398451.5808 - val_loss: 399790.3396\n",
            "Epoch 10/100\n",
            "21856/21856 [==============================] - 3s 127us/step - loss: 394044.4419 - val_loss: 483234.4053\n",
            "Epoch 11/100\n",
            "21856/21856 [==============================] - 3s 128us/step - loss: 395746.1842 - val_loss: 155667.1465\n",
            "Epoch 12/100\n",
            "21376/21856 [============================>.] - ETA: 0s - loss: 393152.9004"
          ],
          "name": "stdout"
        }
      ]
    },
    {
      "metadata": {
        "id": "Sjk0WzkeiDV9",
        "colab_type": "text"
      },
      "cell_type": "markdown",
      "source": [
        "### 3. Prediction"
      ]
    },
    {
      "metadata": {
        "id": "IZS3dLzDiEjk",
        "colab_type": "code",
        "outputId": "0e8fb03b-d2ba-4a44-8c5b-3dcc1cb1fcf2",
        "colab": {
          "base_uri": "https://localhost:8080/",
          "height": 34
        }
      },
      "cell_type": "code",
      "source": [
        "predictions = {}\n",
        "\n",
        "for name, model in model_dict.items():  \n",
        "  print(\"===== Model Name: {} =====\".format(name))  \n",
        "  if name == \"AE\":\n",
        "    predictions[name] = model.predict(test_X)"
      ],
      "execution_count": 70,
      "outputs": [
        {
          "output_type": "stream",
          "text": [
            "===== Model Name: AE =====\n"
          ],
          "name": "stdout"
        }
      ]
    },
    {
      "metadata": {
        "id": "gpMXFCmJWpGn",
        "colab_type": "text"
      },
      "cell_type": "markdown",
      "source": [
        "### 4. Evaluation"
      ]
    },
    {
      "metadata": {
        "id": "W4fg4LpdrNwp",
        "colab_type": "text"
      },
      "cell_type": "markdown",
      "source": [
        "1. Comparing Accuracy both Train and Validation set data\n",
        "  - Compare loss according to the below materials\n",
        "  - Visualize training history  \n",
        "  - Check genelarization of your model\n",
        "  - Refer\n",
        "    - https://medium.com/machine-learning-world/neural-networks-for-algorithmic-trading-1-2-correct-time-series-forecasting-backtesting-9776bfd9e589\n",
        "  - Visualization Hint\n",
        "    - https://machinelearningmastery.com/display-deep-learning-model-training-history-in-keras/"
      ]
    },
    {
      "metadata": {
        "id": "vyS_lAOOrJYm",
        "colab_type": "code",
        "outputId": "218c942d-9132-41c1-c116-e78113110001",
        "colab": {
          "base_uri": "https://localhost:8080/",
          "height": 294
        }
      },
      "cell_type": "code",
      "source": [
        "import matplotlib.pyplot as plt\n",
        "\n",
        "plt.title('model loss')\n",
        "legend_names = []\n",
        "# summarize history for accuracy\n",
        "for name, model_hist in hist.items():\n",
        "  plt.plot(model_hist.history['loss'])\n",
        "  plt.plot(model_hist.history['val_loss'])\n",
        "  legend_names.extend([name+'_train', name+'_validation'])\n",
        "  \n",
        "plt.legend(legend_names, loc='upper left')\n",
        "\n",
        "plt.ylabel('loss')\n",
        "plt.xlabel('epoch')\n",
        "plt.show()"
      ],
      "execution_count": 71,
      "outputs": [
        {
          "output_type": "display_data",
          "data": {
            "image/png": "[encoded data removed]",
            "text/plain": [
              "<matplotlib.figure.Figure at 0x7f0cbc35fdd8>"
            ]
          },
          "metadata": {
            "tags": []
          }
        }
      ]
    },
    {
      "metadata": {
        "id": "FJLMnCarxKuf",
        "colab_type": "text"
      },
      "cell_type": "markdown",
      "source": [
        "2. True Price vs. Generate Price\n"
      ]
    },
    {
      "metadata": {
        "id": "ru67SM1hxKVW",
        "colab_type": "code",
        "outputId": "60e066bf-0fd3-46bd-99cf-6c37fffff424",
        "colab": {
          "base_uri": "https://localhost:8080/",
          "height": 793
        }
      },
      "cell_type": "code",
      "source": [
        "for name, prediction_model in predictions.items():\n",
        "  print(\"===== Model Name: {} =====\".format(name))  \n",
        "  for i, predicted_price in enumerate(prediction_model[:3]):\n",
        "    plt.plot(predicted_price, label = name+' generated price')    \n",
        "    plt.plot(test_Y[i], label = 'true price')\n",
        "    plt.xticks(rotation=30)\n",
        "    plt.legend()\n",
        "    plt.show()"
      ],
      "execution_count": 77,
      "outputs": [
        {
          "output_type": "stream",
          "text": [
            "===== Model Name: AE =====\n"
          ],
          "name": "stdout"
        },
        {
          "output_type": "display_data",
          "data": {
            "image/png": "[encoded data removed]",
            "text/plain": [
              "<matplotlib.figure.Figure at 0x7f0cbc02fb70>"
            ]
          },
          "metadata": {
            "tags": []
          }
        },
        {
          "output_type": "display_data",
          "data": {
            "image/png": "[encoded data removed]",
            "text/plain": [
              "<matplotlib.figure.Figure at 0x7f0cbbfe59e8>"
            ]
          },
          "metadata": {
            "tags": []
          }
        },
        {
          "output_type": "display_data",
          "data": {
            "image/png": "[encoded data removed]",
            "text/plain": [
              "<matplotlib.figure.Figure at 0x7f0cbafbbba8>"
            ]
          },
          "metadata": {
            "tags": []
          }
        }
      ]
    },
    {
      "metadata": {
        "id": "ESKvBXTcpYB3",
        "colab_type": "code",
        "colab": {}
      },
      "cell_type": "code",
      "source": [
        ""
      ],
      "execution_count": 0,
      "outputs": []
    }
  ]
}