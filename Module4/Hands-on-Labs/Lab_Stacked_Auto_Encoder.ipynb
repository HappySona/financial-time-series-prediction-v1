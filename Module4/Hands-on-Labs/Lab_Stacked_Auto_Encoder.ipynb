{
  "nbformat": 4,
  "nbformat_minor": 0,
  "metadata": {
    "colab": {
      "name": "Lab_Stacked_Auto_Encoder.ipynb",
      "version": "0.3.2",
      "provenance": [],
      "collapsed_sections": []
    },
    "kernelspec": {
      "name": "python3",
      "display_name": "Python 3"
    },
    "accelerator": "GPU"
  },
  "cells": [
    {
      "metadata": {
        "id": "yWNfWWHJKbCX",
        "colab_type": "text"
      },
      "cell_type": "markdown",
      "source": [
        "# Stacked Auto Encoder\n",
        "\n",
        "# Question. What are autoencoders good for?\n",
        "\n",
        "- Today two interesting practical applications of autoencoders are data denoising, and dimensionality reduction for data visualization.\n",
        "- With appropriate dimensionality and sparsity constraints, autoencoders can learn data projections that are more interesting than PCA or other basic techniques."
      ]
    },
    {
      "metadata": {
        "id": "ayVerCXBKdj-",
        "colab_type": "text"
      },
      "cell_type": "markdown",
      "source": [
        "## Keras Functional API\n",
        "\n",
        "- At this time, I should introduce Keras Functional API.\n",
        "\n",
        "- The Keras functional API is the way to go for defining complex models, such as multi-output models, directed acyclic graphs, or models with shared layers.\n",
        "\n",
        "- Check this gentle introduction to Keras Functional API\n",
        "\n",
        "  - https://machinelearningmastery.com/keras-functional-api-deep-learning/\n"
      ]
    },
    {
      "metadata": {
        "id": "IfDtDtsxNKKk",
        "colab_type": "text"
      },
      "cell_type": "markdown",
      "source": [
        "## A Simple Autoencoder based on a Fully-Connected Layer\n",
        "\n",
        "- A Simple Autoencoder based on a Fully-Connected Layer\n",
        "\n",
        "<img src=\"https://blog.keras.io/img/ae/autoencoder_schema.jpg\">\n",
        "\n",
        "  - \"Autoencoding\" is a data compression algorithm\n",
        "  - To build an autoencoder, you need three things: \n",
        "    - encoding function\n",
        "    - decoding function\n",
        "    - distance function: distance between the compressed representation and the decompressed representation\n",
        "\n",
        "  - https://blog.keras.io/building-autoencoders-in-keras.html"
      ]
    },
    {
      "metadata": {
        "id": "rQqaC8DUQusa",
        "colab_type": "text"
      },
      "cell_type": "markdown",
      "source": [
        "### Model Define"
      ]
    },
    {
      "metadata": {
        "id": "TFlk0XBTHzEa",
        "colab_type": "code",
        "colab": {}
      },
      "cell_type": "code",
      "source": [
        "from tensorflow.keras.layers import Input, Dense\n",
        "from tensorflow.keras.models import Model\n",
        "\n",
        "# this is the size of our encoded representations\n",
        "encoding_dim = 32  # 32 floats -> compression of factor 24.5, assuming the input is 784 floats\n",
        "\n",
        "# this is our input placeholder\n",
        "input_img = Input(shape=(784,))\n",
        "# \"encoded\" is the encoded representation of the input\n",
        "encoded = Dense(encoding_dim, activation='relu')(input_img)\n",
        "# \"decoded\" is the lossy reconstruction of the input\n",
        "decoded = Dense(784, activation='sigmoid')(encoded)\n",
        "\n",
        "# this model maps an input to its reconstruction\n",
        "autoencoder = Model(input_img, decoded)"
      ],
      "execution_count": 0,
      "outputs": []
    },
    {
      "metadata": {
        "id": "h2uKcliNQqCj",
        "colab_type": "code",
        "colab": {}
      },
      "cell_type": "code",
      "source": [
        "# this model maps an input to its encoded representation\n",
        "encoder = Model(input_img, encoded)"
      ],
      "execution_count": 0,
      "outputs": []
    },
    {
      "metadata": {
        "id": "lcOgs4R_Qrb6",
        "colab_type": "code",
        "colab": {}
      },
      "cell_type": "code",
      "source": [
        "# create a placeholder for an encoded (32-dimensional) input\n",
        "encoded_input = Input(shape=(encoding_dim,))\n",
        "# retrieve the last layer of the autoencoder model\n",
        "decoder_layer = autoencoder.layers[-1]\n",
        "# create the decoder model\n",
        "decoder = Model(encoded_input, decoder_layer(encoded_input))"
      ],
      "execution_count": 0,
      "outputs": []
    },
    {
      "metadata": {
        "id": "T0d7qJsWQs8C",
        "colab_type": "code",
        "colab": {}
      },
      "cell_type": "code",
      "source": [
        "autoencoder.compile(optimizer='adadelta', loss='binary_crossentropy')"
      ],
      "execution_count": 0,
      "outputs": []
    },
    {
      "metadata": {
        "id": "mX7M1zFYQwmT",
        "colab_type": "text"
      },
      "cell_type": "markdown",
      "source": [
        "### Data Import"
      ]
    },
    {
      "metadata": {
        "id": "AW3JlUkDQyST",
        "colab_type": "code",
        "colab": {}
      },
      "cell_type": "code",
      "source": [
        "from tensorflow.keras.datasets import mnist\n",
        "import numpy as np\n",
        "(x_train, _), (x_test, _) = mnist.load_data()"
      ],
      "execution_count": 0,
      "outputs": []
    },
    {
      "metadata": {
        "id": "oUuN9xi8Q1ea",
        "colab_type": "code",
        "colab": {
          "base_uri": "https://localhost:8080/",
          "height": 51
        },
        "outputId": "ea494f22-3cd4-4e87-aeeb-5b47618aed47"
      },
      "cell_type": "code",
      "source": [
        "x_train = x_train.astype('float32') / 255.\n",
        "x_test = x_test.astype('float32') / 255.\n",
        "x_train = x_train.reshape((len(x_train), np.prod(x_train.shape[1:])))\n",
        "x_test = x_test.reshape((len(x_test), np.prod(x_test.shape[1:])))\n",
        "print(x_train.shape)\n",
        "print(x_test.shape)"
      ],
      "execution_count": 3,
      "outputs": [
        {
          "output_type": "stream",
          "text": [
            "(60000, 784)\n",
            "(10000, 784)\n"
          ],
          "name": "stdout"
        }
      ]
    },
    {
      "metadata": {
        "id": "jCC3S4vESfwh",
        "colab_type": "text"
      },
      "cell_type": "markdown",
      "source": [
        "### Train"
      ]
    },
    {
      "metadata": {
        "id": "xmWVvxaqQ3Hh",
        "colab_type": "code",
        "colab": {
          "base_uri": "https://localhost:8080/",
          "height": 751
        },
        "outputId": "1d625bfc-90c6-4e4b-d43d-d4a5124f5526"
      },
      "cell_type": "code",
      "source": [
        "autoencoder.fit(x_train, x_train,\n",
        "                epochs=20,\n",
        "                batch_size=256,\n",
        "                shuffle=True,\n",
        "                validation_data=(x_test, x_test))"
      ],
      "execution_count": 11,
      "outputs": [
        {
          "output_type": "stream",
          "text": [
            "Train on 60000 samples, validate on 10000 samples\n",
            "Epoch 1/20\n",
            "60000/60000 [==============================] - 1s 24us/step - loss: 0.1476 - val_loss: 0.1446\n",
            "Epoch 2/20\n",
            "60000/60000 [==============================] - 1s 24us/step - loss: 0.1445 - val_loss: 0.1417\n",
            "Epoch 3/20\n",
            "60000/60000 [==============================] - 1s 24us/step - loss: 0.1417 - val_loss: 0.1390\n",
            "Epoch 4/20\n",
            "60000/60000 [==============================] - 1s 24us/step - loss: 0.1391 - val_loss: 0.1363\n",
            "Epoch 5/20\n",
            "60000/60000 [==============================] - 1s 24us/step - loss: 0.1366 - val_loss: 0.1340\n",
            "Epoch 6/20\n",
            "60000/60000 [==============================] - 1s 24us/step - loss: 0.1342 - val_loss: 0.1316\n",
            "Epoch 7/20\n",
            "60000/60000 [==============================] - 1s 24us/step - loss: 0.1320 - val_loss: 0.1294\n",
            "Epoch 8/20\n",
            "60000/60000 [==============================] - 1s 24us/step - loss: 0.1298 - val_loss: 0.1272\n",
            "Epoch 9/20\n",
            "60000/60000 [==============================] - 1s 24us/step - loss: 0.1278 - val_loss: 0.1252\n",
            "Epoch 10/20\n",
            "60000/60000 [==============================] - 1s 24us/step - loss: 0.1258 - val_loss: 0.1233\n",
            "Epoch 11/20\n",
            "60000/60000 [==============================] - 1s 24us/step - loss: 0.1240 - val_loss: 0.1215\n",
            "Epoch 12/20\n",
            "60000/60000 [==============================] - 1s 24us/step - loss: 0.1222 - val_loss: 0.1198\n",
            "Epoch 13/20\n",
            "60000/60000 [==============================] - 1s 25us/step - loss: 0.1206 - val_loss: 0.1182\n",
            "Epoch 14/20\n",
            "60000/60000 [==============================] - 1s 24us/step - loss: 0.1190 - val_loss: 0.1166\n",
            "Epoch 15/20\n",
            "60000/60000 [==============================] - 1s 24us/step - loss: 0.1175 - val_loss: 0.1152\n",
            "Epoch 16/20\n",
            "60000/60000 [==============================] - 1s 24us/step - loss: 0.1161 - val_loss: 0.1138\n",
            "Epoch 17/20\n",
            "60000/60000 [==============================] - 1s 24us/step - loss: 0.1148 - val_loss: 0.1126\n",
            "Epoch 18/20\n",
            "60000/60000 [==============================] - 1s 25us/step - loss: 0.1136 - val_loss: 0.1114\n",
            "Epoch 19/20\n",
            "60000/60000 [==============================] - 1s 24us/step - loss: 0.1125 - val_loss: 0.1103\n",
            "Epoch 20/20\n",
            "60000/60000 [==============================] - 1s 24us/step - loss: 0.1115 - val_loss: 0.1093\n"
          ],
          "name": "stdout"
        },
        {
          "output_type": "execute_result",
          "data": {
            "text/plain": [
              "<tensorflow.python.keras.callbacks.History at 0x7f758b74eba8>"
            ]
          },
          "metadata": {
            "tags": []
          },
          "execution_count": 11
        }
      ]
    },
    {
      "metadata": {
        "id": "ez4kux5oSd4J",
        "colab_type": "text"
      },
      "cell_type": "markdown",
      "source": [
        "### Prediction"
      ]
    },
    {
      "metadata": {
        "id": "XvuCfQh6Q5ax",
        "colab_type": "code",
        "colab": {}
      },
      "cell_type": "code",
      "source": [
        "# encode and decode some digits\n",
        "# note that we take them from the *test* set\n",
        "encoded_imgs = encoder.predict(x_test)\n",
        "decoded_imgs = decoder.predict(encoded_imgs)"
      ],
      "execution_count": 0,
      "outputs": []
    },
    {
      "metadata": {
        "id": "a8dXCKP7Q5wh",
        "colab_type": "code",
        "colab": {
          "base_uri": "https://localhost:8080/",
          "height": 264
        },
        "outputId": "c720395c-704e-494b-e4dd-4358d20d6d42"
      },
      "cell_type": "code",
      "source": [
        "%matplotlib inline\n",
        "# use Matplotlib (don't ask)\n",
        "import matplotlib.pyplot as plt\n",
        "\n",
        "n = 10  # how many digits we will display\n",
        "plt.figure(figsize=(20, 4))\n",
        "for i in range(n):\n",
        "    # display original\n",
        "    ax = plt.subplot(2, n, i + 1)\n",
        "    plt.imshow(x_test[i].reshape(28, 28))\n",
        "    plt.gray()\n",
        "    ax.get_xaxis().set_visible(False)\n",
        "    ax.get_yaxis().set_visible(False)\n",
        "\n",
        "    # display reconstruction\n",
        "    ax = plt.subplot(2, n, i + 1 + n)\n",
        "    plt.imshow(decoded_imgs[i].reshape(28, 28))\n",
        "    plt.gray()\n",
        "    ax.get_xaxis().set_visible(False)\n",
        "    ax.get_yaxis().set_visible(False)\n",
        "plt.show()"
      ],
      "execution_count": 13,
      "outputs": [
        {
          "output_type": "display_data",
          "data": {
            "image/png": "[encoded data removed]",
            "text/plain": [
              "<matplotlib.figure.Figure at 0x7f75e0839550>"
            ]
          },
          "metadata": {
            "tags": []
          }
        }
      ]
    },
    {
      "metadata": {
        "id": "xy8jh6YAReED",
        "colab_type": "text"
      },
      "cell_type": "markdown",
      "source": [
        "## Adding a sparsity constraint on the encoded representations\n"
      ]
    },
    {
      "metadata": {
        "id": "0y1CkG6wRnsi",
        "colab_type": "text"
      },
      "cell_type": "markdown",
      "source": [
        "- In the previous example, the representations were only constrained by the size of the hidden layer (32). \n",
        "- In such a situation, what typically happens is that the hidden layer is learning an approximation of PCA (principal component analysis). \n",
        "- But another way to constrain the representations to be compact is to add a sparsity contraint on the activity of the hidden representations, so fewer units would \"fire\" at a given time. \n",
        "- In Keras, this can be done by adding an activity_regularizer to our Dense layer:\n",
        "  - Note. A tutorial code from the Keras document is somehow odds. Their regularization is so strong. I never reach such a reconstruction performance with 10e-5. I reduce this to 10e-8"
      ]
    },
    {
      "metadata": {
        "id": "tEY5atMpSY6Z",
        "colab_type": "text"
      },
      "cell_type": "markdown",
      "source": [
        "### Model Define"
      ]
    },
    {
      "metadata": {
        "id": "umA81HQvVBgK",
        "colab_type": "code",
        "colab": {}
      },
      "cell_type": "code",
      "source": [
        "import tensorflow.keras.backend as K\n",
        "K.clear_session()"
      ],
      "execution_count": 0,
      "outputs": []
    },
    {
      "metadata": {
        "id": "7Is1ojqFRfEs",
        "colab_type": "code",
        "colab": {}
      },
      "cell_type": "code",
      "source": [
        "from tensorflow.keras import regularizers\n",
        "\n",
        "encoding_dim = 32\n",
        "\n",
        "input_img = Input(shape=(784,))\n",
        "# add a Dense layer with a L1 activity regularizer\n",
        "encoded = Dense(encoding_dim, activation='relu',\n",
        "                activity_regularizer=regularizers.l1(10e-8))(input_img)\n",
        "decoded = Dense(784, activation='sigmoid')(encoded)\n",
        "\n",
        "autoencoder = Model(input_img, decoded)\n",
        "autoencoder.compile(optimizer='adadelta', loss='binary_crossentropy')"
      ],
      "execution_count": 0,
      "outputs": []
    },
    {
      "metadata": {
        "id": "AH2ccRgcS2f1",
        "colab_type": "code",
        "colab": {}
      },
      "cell_type": "code",
      "source": [
        "# this model maps an input to its encoded representation\n",
        "encoder = Model(input_img, encoded)\n",
        "\n",
        "# create a placeholder for an encoded (32-dimensional) input\n",
        "encoded_input = Input(shape=(encoding_dim,))\n",
        "# retrieve the last layer of the autoencoder model\n",
        "decoder_layer = autoencoder.layers[-1]\n",
        "# create the decoder model\n",
        "decoder = Model(encoded_input, decoder_layer(encoded_input))"
      ],
      "execution_count": 0,
      "outputs": []
    },
    {
      "metadata": {
        "id": "jr8IF6ySSisp",
        "colab_type": "text"
      },
      "cell_type": "markdown",
      "source": [
        "### Train"
      ]
    },
    {
      "metadata": {
        "id": "gIfMLAcnRgoU",
        "colab_type": "code",
        "colab": {
          "base_uri": "https://localhost:8080/",
          "height": 3471
        },
        "outputId": "8263996a-bdca-4fae-8b2a-bf0e25bf6643"
      },
      "cell_type": "code",
      "source": [
        "# Let's train this model for 100 epochs \n",
        "# (with the added regularization the model is less likely \n",
        "# to overfit and can be trained longer).\n",
        "\n",
        "# Previously (without regularizers) we only use 20 epoch\n",
        "\n",
        "autoencoder.fit(x_train, x_train,\n",
        "                epochs=100,\n",
        "                batch_size=256,\n",
        "                shuffle=True,\n",
        "                validation_data=(x_test, x_test))"
      ],
      "execution_count": 10,
      "outputs": [
        {
          "output_type": "stream",
          "text": [
            "Train on 60000 samples, validate on 10000 samples\n",
            "Epoch 1/100\n",
            "60000/60000 [==============================] - 2s 29us/step - loss: 0.3756 - val_loss: 0.2738\n",
            "Epoch 2/100\n",
            "60000/60000 [==============================] - 1s 25us/step - loss: 0.2672 - val_loss: 0.2572\n",
            "Epoch 3/100\n",
            "60000/60000 [==============================] - 1s 25us/step - loss: 0.2477 - val_loss: 0.2363\n",
            "Epoch 4/100\n",
            "60000/60000 [==============================] - 1s 25us/step - loss: 0.2295 - val_loss: 0.2205\n",
            "Epoch 5/100\n",
            "60000/60000 [==============================] - 1s 25us/step - loss: 0.2156 - val_loss: 0.2077\n",
            "Epoch 6/100\n",
            "60000/60000 [==============================] - 1s 24us/step - loss: 0.2039 - val_loss: 0.1972\n",
            "Epoch 7/100\n",
            "60000/60000 [==============================] - 2s 25us/step - loss: 0.1944 - val_loss: 0.1887\n",
            "Epoch 8/100\n",
            "60000/60000 [==============================] - 1s 25us/step - loss: 0.1867 - val_loss: 0.1819\n",
            "Epoch 9/100\n",
            "60000/60000 [==============================] - 1s 25us/step - loss: 0.1807 - val_loss: 0.1765\n",
            "Epoch 10/100\n",
            "60000/60000 [==============================] - 1s 25us/step - loss: 0.1757 - val_loss: 0.1719\n",
            "Epoch 11/100\n",
            "60000/60000 [==============================] - 1s 25us/step - loss: 0.1713 - val_loss: 0.1678\n",
            "Epoch 12/100\n",
            "60000/60000 [==============================] - 1s 25us/step - loss: 0.1674 - val_loss: 0.1640\n",
            "Epoch 13/100\n",
            "60000/60000 [==============================] - 1s 25us/step - loss: 0.1638 - val_loss: 0.1605\n",
            "Epoch 14/100\n",
            "60000/60000 [==============================] - 1s 25us/step - loss: 0.1604 - val_loss: 0.1571\n",
            "Epoch 15/100\n",
            "60000/60000 [==============================] - 1s 25us/step - loss: 0.1572 - val_loss: 0.1540\n",
            "Epoch 16/100\n",
            "60000/60000 [==============================] - 2s 25us/step - loss: 0.1542 - val_loss: 0.1512\n",
            "Epoch 17/100\n",
            "60000/60000 [==============================] - 1s 25us/step - loss: 0.1515 - val_loss: 0.1485\n",
            "Epoch 18/100\n",
            "60000/60000 [==============================] - 2s 25us/step - loss: 0.1489 - val_loss: 0.1460\n",
            "Epoch 19/100\n",
            "60000/60000 [==============================] - 2s 25us/step - loss: 0.1465 - val_loss: 0.1437\n",
            "Epoch 20/100\n",
            "60000/60000 [==============================] - 2s 25us/step - loss: 0.1442 - val_loss: 0.1415\n",
            "Epoch 21/100\n",
            "60000/60000 [==============================] - 1s 25us/step - loss: 0.1421 - val_loss: 0.1394\n",
            "Epoch 22/100\n",
            "60000/60000 [==============================] - 2s 25us/step - loss: 0.1400 - val_loss: 0.1373\n",
            "Epoch 23/100\n",
            "60000/60000 [==============================] - 1s 25us/step - loss: 0.1380 - val_loss: 0.1354\n",
            "Epoch 24/100\n",
            "60000/60000 [==============================] - 2s 25us/step - loss: 0.1362 - val_loss: 0.1335\n",
            "Epoch 25/100\n",
            "60000/60000 [==============================] - 1s 25us/step - loss: 0.1344 - val_loss: 0.1318\n",
            "Epoch 26/100\n",
            "60000/60000 [==============================] - 2s 25us/step - loss: 0.1326 - val_loss: 0.1301\n",
            "Epoch 27/100\n",
            "60000/60000 [==============================] - 2s 25us/step - loss: 0.1310 - val_loss: 0.1286\n",
            "Epoch 28/100\n",
            "60000/60000 [==============================] - 2s 25us/step - loss: 0.1295 - val_loss: 0.1271\n",
            "Epoch 29/100\n",
            "60000/60000 [==============================] - 2s 25us/step - loss: 0.1281 - val_loss: 0.1258\n",
            "Epoch 30/100\n",
            "60000/60000 [==============================] - 1s 25us/step - loss: 0.1268 - val_loss: 0.1245\n",
            "Epoch 31/100\n",
            "60000/60000 [==============================] - 2s 25us/step - loss: 0.1256 - val_loss: 0.1233\n",
            "Epoch 32/100\n",
            "60000/60000 [==============================] - 1s 25us/step - loss: 0.1244 - val_loss: 0.1222\n",
            "Epoch 33/100\n",
            "60000/60000 [==============================] - 1s 25us/step - loss: 0.1233 - val_loss: 0.1211\n",
            "Epoch 34/100\n",
            "60000/60000 [==============================] - 2s 25us/step - loss: 0.1223 - val_loss: 0.1201\n",
            "Epoch 35/100\n",
            "60000/60000 [==============================] - 2s 25us/step - loss: 0.1214 - val_loss: 0.1192\n",
            "Epoch 36/100\n",
            "60000/60000 [==============================] - 1s 25us/step - loss: 0.1205 - val_loss: 0.1184\n",
            "Epoch 37/100\n",
            "60000/60000 [==============================] - 2s 25us/step - loss: 0.1197 - val_loss: 0.1176\n",
            "Epoch 38/100\n",
            "60000/60000 [==============================] - 2s 25us/step - loss: 0.1189 - val_loss: 0.1169\n",
            "Epoch 39/100\n",
            "60000/60000 [==============================] - 2s 25us/step - loss: 0.1182 - val_loss: 0.1162\n",
            "Epoch 40/100\n",
            "60000/60000 [==============================] - 1s 25us/step - loss: 0.1176 - val_loss: 0.1156\n",
            "Epoch 41/100\n",
            "60000/60000 [==============================] - 2s 25us/step - loss: 0.1170 - val_loss: 0.1150\n",
            "Epoch 42/100\n",
            "60000/60000 [==============================] - 2s 25us/step - loss: 0.1164 - val_loss: 0.1144\n",
            "Epoch 43/100\n",
            "60000/60000 [==============================] - 2s 25us/step - loss: 0.1159 - val_loss: 0.1139\n",
            "Epoch 44/100\n",
            "60000/60000 [==============================] - 2s 25us/step - loss: 0.1154 - val_loss: 0.1135\n",
            "Epoch 45/100\n",
            "60000/60000 [==============================] - 2s 25us/step - loss: 0.1149 - val_loss: 0.1130\n",
            "Epoch 46/100\n",
            "60000/60000 [==============================] - 2s 25us/step - loss: 0.1145 - val_loss: 0.1126\n",
            "Epoch 47/100\n",
            "60000/60000 [==============================] - 2s 25us/step - loss: 0.1141 - val_loss: 0.1122\n",
            "Epoch 48/100\n",
            "60000/60000 [==============================] - 2s 26us/step - loss: 0.1138 - val_loss: 0.1119\n",
            "Epoch 49/100\n",
            "60000/60000 [==============================] - 2s 25us/step - loss: 0.1134 - val_loss: 0.1115\n",
            "Epoch 50/100\n",
            "60000/60000 [==============================] - 2s 26us/step - loss: 0.1131 - val_loss: 0.1112\n",
            "Epoch 51/100\n",
            "60000/60000 [==============================] - 1s 25us/step - loss: 0.1128 - val_loss: 0.1109\n",
            "Epoch 52/100\n",
            "60000/60000 [==============================] - 2s 25us/step - loss: 0.1125 - val_loss: 0.1107\n",
            "Epoch 53/100\n",
            "60000/60000 [==============================] - 1s 25us/step - loss: 0.1122 - val_loss: 0.1104\n",
            "Epoch 54/100\n",
            "60000/60000 [==============================] - 2s 25us/step - loss: 0.1120 - val_loss: 0.1101\n",
            "Epoch 55/100\n",
            "60000/60000 [==============================] - 1s 25us/step - loss: 0.1117 - val_loss: 0.1099\n",
            "Epoch 56/100\n",
            "60000/60000 [==============================] - 1s 25us/step - loss: 0.1115 - val_loss: 0.1097\n",
            "Epoch 57/100\n",
            "60000/60000 [==============================] - 1s 25us/step - loss: 0.1113 - val_loss: 0.1095\n",
            "Epoch 58/100\n",
            "60000/60000 [==============================] - 2s 25us/step - loss: 0.1111 - val_loss: 0.1093\n",
            "Epoch 59/100\n",
            "60000/60000 [==============================] - 1s 25us/step - loss: 0.1109 - val_loss: 0.1091\n",
            "Epoch 60/100\n",
            "60000/60000 [==============================] - 1s 25us/step - loss: 0.1107 - val_loss: 0.1089\n",
            "Epoch 61/100\n",
            "60000/60000 [==============================] - 2s 25us/step - loss: 0.1105 - val_loss: 0.1087\n",
            "Epoch 62/100\n",
            "60000/60000 [==============================] - 2s 25us/step - loss: 0.1103 - val_loss: 0.1086\n",
            "Epoch 63/100\n",
            "60000/60000 [==============================] - 2s 25us/step - loss: 0.1102 - val_loss: 0.1084\n",
            "Epoch 64/100\n",
            "60000/60000 [==============================] - 1s 25us/step - loss: 0.1100 - val_loss: 0.1083\n",
            "Epoch 65/100\n",
            "60000/60000 [==============================] - 1s 25us/step - loss: 0.1099 - val_loss: 0.1081\n",
            "Epoch 66/100\n",
            "60000/60000 [==============================] - 1s 25us/step - loss: 0.1097 - val_loss: 0.1080\n",
            "Epoch 67/100\n",
            "60000/60000 [==============================] - 2s 25us/step - loss: 0.1096 - val_loss: 0.1078\n",
            "Epoch 68/100\n",
            "60000/60000 [==============================] - 1s 25us/step - loss: 0.1094 - val_loss: 0.1077\n",
            "Epoch 69/100\n",
            "60000/60000 [==============================] - 1s 25us/step - loss: 0.1093 - val_loss: 0.1076\n",
            "Epoch 70/100\n",
            "60000/60000 [==============================] - 1s 25us/step - loss: 0.1092 - val_loss: 0.1074\n",
            "Epoch 71/100\n",
            "60000/60000 [==============================] - 1s 25us/step - loss: 0.1091 - val_loss: 0.1073\n",
            "Epoch 72/100\n",
            "60000/60000 [==============================] - 1s 25us/step - loss: 0.1089 - val_loss: 0.1072\n",
            "Epoch 73/100\n",
            "60000/60000 [==============================] - 1s 25us/step - loss: 0.1088 - val_loss: 0.1071\n",
            "Epoch 74/100\n",
            "60000/60000 [==============================] - 2s 25us/step - loss: 0.1087 - val_loss: 0.1070\n",
            "Epoch 75/100\n",
            "60000/60000 [==============================] - 1s 25us/step - loss: 0.1086 - val_loss: 0.1068\n",
            "Epoch 76/100\n",
            "60000/60000 [==============================] - 1s 25us/step - loss: 0.1084 - val_loss: 0.1067\n",
            "Epoch 77/100\n",
            "60000/60000 [==============================] - 1s 25us/step - loss: 0.1083 - val_loss: 0.1066\n",
            "Epoch 78/100\n",
            "60000/60000 [==============================] - 2s 25us/step - loss: 0.1082 - val_loss: 0.1065\n",
            "Epoch 79/100\n",
            "60000/60000 [==============================] - 1s 25us/step - loss: 0.1081 - val_loss: 0.1064\n",
            "Epoch 80/100\n",
            "60000/60000 [==============================] - 2s 25us/step - loss: 0.1080 - val_loss: 0.1063\n",
            "Epoch 81/100\n",
            "60000/60000 [==============================] - 2s 25us/step - loss: 0.1078 - val_loss: 0.1061\n",
            "Epoch 82/100\n",
            "60000/60000 [==============================] - 1s 25us/step - loss: 0.1077 - val_loss: 0.1060\n",
            "Epoch 83/100\n",
            "60000/60000 [==============================] - 2s 25us/step - loss: 0.1076 - val_loss: 0.1059\n",
            "Epoch 84/100\n",
            "60000/60000 [==============================] - 1s 25us/step - loss: 0.1075 - val_loss: 0.1058\n",
            "Epoch 85/100\n",
            "60000/60000 [==============================] - 2s 25us/step - loss: 0.1074 - val_loss: 0.1057\n",
            "Epoch 86/100\n",
            "60000/60000 [==============================] - 2s 25us/step - loss: 0.1072 - val_loss: 0.1056\n",
            "Epoch 87/100\n",
            "60000/60000 [==============================] - 2s 25us/step - loss: 0.1071 - val_loss: 0.1055\n",
            "Epoch 88/100\n",
            "60000/60000 [==============================] - 1s 25us/step - loss: 0.1070 - val_loss: 0.1054\n",
            "Epoch 89/100\n",
            "60000/60000 [==============================] - 2s 25us/step - loss: 0.1069 - val_loss: 0.1053\n",
            "Epoch 90/100\n",
            "60000/60000 [==============================] - 1s 25us/step - loss: 0.1068 - val_loss: 0.1052\n",
            "Epoch 91/100\n",
            "60000/60000 [==============================] - 2s 25us/step - loss: 0.1067 - val_loss: 0.1051\n",
            "Epoch 92/100\n",
            "60000/60000 [==============================] - 1s 25us/step - loss: 0.1066 - val_loss: 0.1050\n",
            "Epoch 93/100\n",
            "60000/60000 [==============================] - 2s 25us/step - loss: 0.1065 - val_loss: 0.1048\n",
            "Epoch 94/100\n",
            "60000/60000 [==============================] - 1s 25us/step - loss: 0.1064 - val_loss: 0.1048\n",
            "Epoch 95/100\n",
            "60000/60000 [==============================] - 1s 25us/step - loss: 0.1063 - val_loss: 0.1047\n",
            "Epoch 96/100\n",
            "60000/60000 [==============================] - 2s 25us/step - loss: 0.1062 - val_loss: 0.1046\n",
            "Epoch 97/100\n",
            "60000/60000 [==============================] - 1s 25us/step - loss: 0.1061 - val_loss: 0.1045\n",
            "Epoch 98/100\n",
            "60000/60000 [==============================] - 1s 25us/step - loss: 0.1060 - val_loss: 0.1044\n",
            "Epoch 99/100\n",
            "60000/60000 [==============================] - 2s 25us/step - loss: 0.1059 - val_loss: 0.1043\n",
            "Epoch 100/100\n",
            "60000/60000 [==============================] - 2s 25us/step - loss: 0.1058 - val_loss: 0.1043\n"
          ],
          "name": "stdout"
        },
        {
          "output_type": "execute_result",
          "data": {
            "text/plain": [
              "<tensorflow.python.keras.callbacks.History at 0x7f0db0d1e9e8>"
            ]
          },
          "metadata": {
            "tags": []
          },
          "execution_count": 10
        }
      ]
    },
    {
      "metadata": {
        "id": "3Jr8wFTESkog",
        "colab_type": "text"
      },
      "cell_type": "markdown",
      "source": [
        "### Prediction"
      ]
    },
    {
      "metadata": {
        "id": "2Nda2_GMRljS",
        "colab_type": "code",
        "colab": {}
      },
      "cell_type": "code",
      "source": [
        "# encode and decode some digits\n",
        "# note that we take them from the *test* set\n",
        "encoded_imgs = encoder.predict(x_test)\n",
        "decoded_imgs = decoder.predict(encoded_imgs)"
      ],
      "execution_count": 0,
      "outputs": []
    },
    {
      "metadata": {
        "id": "tpU_xEv3Rmji",
        "colab_type": "code",
        "colab": {
          "base_uri": "https://localhost:8080/",
          "height": 264
        },
        "outputId": "f640d930-a96b-4f49-f4ce-5883d85ff533"
      },
      "cell_type": "code",
      "source": [
        "%matplotlib inline\n",
        "# use Matplotlib (don't ask)\n",
        "import matplotlib.pyplot as plt\n",
        "\n",
        "n = 10  # how many digits we will display\n",
        "plt.figure(figsize=(20, 4))\n",
        "for i in range(n):\n",
        "    # display original\n",
        "    ax = plt.subplot(2, n, i + 1)\n",
        "    plt.imshow(x_test[i].reshape(28, 28))\n",
        "    plt.gray()\n",
        "    ax.get_xaxis().set_visible(False)\n",
        "    ax.get_yaxis().set_visible(False)\n",
        "\n",
        "    # display reconstruction\n",
        "    ax = plt.subplot(2, n, i + 1 + n)\n",
        "    plt.imshow(decoded_imgs[i].reshape(28, 28))\n",
        "    plt.gray()\n",
        "    ax.get_xaxis().set_visible(False)\n",
        "    ax.get_yaxis().set_visible(False)\n",
        "plt.show()"
      ],
      "execution_count": 12,
      "outputs": [
        {
          "output_type": "display_data",
          "data": {
            "image/png": "[encoded data removed]",
            "text/plain": [
              "<matplotlib.figure.Figure at 0x7f0e0589af28>"
            ]
          },
          "metadata": {
            "tags": []
          }
        }
      ]
    },
    {
      "metadata": {
        "id": "rzlgNG6PVRRx",
        "colab_type": "code",
        "colab": {}
      },
      "cell_type": "code",
      "source": [
        ""
      ],
      "execution_count": 0,
      "outputs": []
    }
  ]
}