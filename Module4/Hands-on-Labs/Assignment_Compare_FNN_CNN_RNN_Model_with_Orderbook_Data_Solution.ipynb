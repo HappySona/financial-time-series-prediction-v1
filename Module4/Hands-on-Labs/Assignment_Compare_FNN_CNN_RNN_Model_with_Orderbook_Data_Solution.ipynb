{
  "nbformat": 4,
  "nbformat_minor": 0,
  "metadata": {
    "colab": {
      "name": "Assignment_Compare_FNN_CNN_RNN_Model_with_Orderbook_Data_Solution.ipynb",
      "version": "0.3.2",
      "provenance": [],
      "collapsed_sections": []
    },
    "kernelspec": {
      "name": "python3",
      "display_name": "Python 3"
    },
    "accelerator": "GPU"
  },
  "cells": [
    {
      "metadata": {
        "id": "KXCMLqVzKQ7F",
        "colab_type": "text"
      },
      "cell_type": "markdown",
      "source": [
        "# FNN, CNN, RNN Prediction Model with Orderbook Data\n",
        "\n",
        "### Requirements\n",
        "- Implement Your Own FNN , CNN, RNN Model for Trinary Prediction Model\n",
        "\n",
        "### Data Download at: https://drive.google.com/open?id=1_GXzTuyIopvkkOeCxHanVZKa0tKclD6F\n",
        "\n",
        "- Exercise. Compare FNN, CNN, RNN Model with Orderbook Data"
      ]
    },
    {
      "metadata": {
        "id": "gP7BoQO-Z6Wk",
        "colab_type": "text"
      },
      "cell_type": "markdown",
      "source": [
        "# Data Preprocessing\n"
      ]
    },
    {
      "metadata": {
        "id": "Us-FmgUYPjH9",
        "colab_type": "text"
      },
      "cell_type": "markdown",
      "source": [
        "#### Procedures\n",
        "- Preparation\n",
        "  1. Unzip Data\n",
        "  2. Configurations\n",
        "\n",
        "- Preprocessing\n",
        "  1. Import Data\n",
        "  2. Create Balanced Panel\n",
        "  3. Create Target Variable\n",
        "  4. Scale Data\n",
        "  5. Train / Test Split\n",
        "  6. Create Sequences\n",
        " "
      ]
    },
    {
      "metadata": {
        "id": "auT4552tP5dS",
        "colab_type": "text"
      },
      "cell_type": "markdown",
      "source": [
        "### Data Description\n",
        "- There are two files, 1. \"coin_price_dfs.csv\" and 2. \"orderbook_dfs.csv\"\n",
        "\n",
        "1. coin_price_dfs.csv\n",
        "  - This dataset includes price (high, low, start, last, volume) for 1 minute interval\n",
        "  - columns\n",
        "    -  timestamp: trading time\n",
        "    - currency: type of currency\n",
        "    - price\n",
        "      - high\n",
        "      - last\n",
        "      - low\n",
        "      - start\n",
        "    - volume: trading volume\n",
        "    \n",
        "2. orderbook_dfs.csv\n",
        " - This dataset includes order book information for 1 minute interval\n",
        " - columns\n",
        "    - timestamp: trading time\n",
        "    - ask_price: the lowest price for selling order\n",
        "    - ask_strength [0~99]: each bin contains the volume of ask order in between - 0.1% x (num) ~ - 0.1% x (num+1) from  last price\n",
        "    - bid_price: the highest price for buying order\n",
        "    - bid_stregth [0~99]: each bin contains the volume of bid order in between - 0.1% x (num) ~ - 0.1% x (num+1) from  last price\n",
        "    - currency: type of currency\n",
        "    - bid_ask_spread: spread between ask and bid price"
      ]
    },
    {
      "metadata": {
        "id": "EnRISOgoh5es",
        "colab_type": "text"
      },
      "cell_type": "markdown",
      "source": [
        "## Preparation"
      ]
    },
    {
      "metadata": {
        "id": "xIxPbmzGQFwR",
        "colab_type": "text"
      },
      "cell_type": "markdown",
      "source": [
        "### 1. Data Import and Create Balanced Panel"
      ]
    },
    {
      "metadata": {
        "id": "4T3G0OFBKcsJ",
        "colab_type": "code",
        "colab": {}
      },
      "cell_type": "code",
      "source": [
        "%matplotlib inline"
      ],
      "execution_count": 0,
      "outputs": []
    },
    {
      "metadata": {
        "id": "TJVHhAmOMWmH",
        "colab_type": "code",
        "outputId": "09ffcd8c-258b-4ac2-9a31-4cf8c3d1c636",
        "colab": {
          "base_uri": "https://localhost:8080/",
          "height": 127
        }
      },
      "cell_type": "code",
      "source": [
        "from google.colab import drive\n",
        "drive.mount('/content/gdrive')"
      ],
      "execution_count": 3,
      "outputs": [
        {
          "output_type": "stream",
          "text": [
            "Go to this URL in a browser: https://accounts.google.com/o/oauth2/auth?client_id=947318989803-6bn6qk8qdgf4n4g3pfee6491hc0brc4i.apps.googleusercontent.com&redirect_uri=urn%3Aietf%3Awg%3Aoauth%3A2.0%3Aoob&scope=email%20https%3A%2F%2Fwww.googleapis.com%2Fauth%2Fdocs.test%20https%3A%2F%2Fwww.googleapis.com%2Fauth%2Fdrive%20https%3A%2F%2Fwww.googleapis.com%2Fauth%2Fdrive.photos.readonly%20https%3A%2F%2Fwww.googleapis.com%2Fauth%2Fpeopleapi.readonly&response_type=code\n",
            "\n",
            "Enter your authorization code:\n",
            "··········\n",
            "Mounted at /content/gdrive\n"
          ],
          "name": "stdout"
        }
      ]
    },
    {
      "metadata": {
        "id": "796JRrylMW2y",
        "colab_type": "code",
        "colab": {}
      },
      "cell_type": "code",
      "source": [
        "DATA_PATH = \"/content/gdrive/My Drive/Lecture/StudyPie/Data/CoinOne/\""
      ],
      "execution_count": 0,
      "outputs": []
    },
    {
      "metadata": {
        "id": "uV7aneomMlG6",
        "colab_type": "code",
        "outputId": "677cccb2-fbf7-46cf-dbfa-1441dea63c7c",
        "colab": {
          "base_uri": "https://localhost:8080/",
          "height": 35
        }
      },
      "cell_type": "code",
      "source": [
        "!ls \"/content/gdrive/My Drive/Lecture/StudyPie/Data/CoinOne/\""
      ],
      "execution_count": 5,
      "outputs": [
        {
          "output_type": "stream",
          "text": [
            "coin_price_dfs.csv  __MACOSX  orderbook_data.zip  orderbook_dfs.csv\n"
          ],
          "name": "stdout"
        }
      ]
    },
    {
      "metadata": {
        "id": "cmkvrXr9MmQ6",
        "colab_type": "code",
        "colab": {}
      },
      "cell_type": "code",
      "source": [
        "# Unzip Data\n",
        "# It will take more than 5 min\n",
        "import zipfile\n",
        "import io\n",
        "\n",
        "zf = zipfile.ZipFile(DATA_PATH+\"orderbook_data.zip\", \"r\")\n",
        "zf.extractall(DATA_PATH)"
      ],
      "execution_count": 0,
      "outputs": []
    },
    {
      "metadata": {
        "id": "b6KYwPnLrcT-",
        "colab_type": "text"
      },
      "cell_type": "markdown",
      "source": [
        "### 2. Configurations"
      ]
    },
    {
      "metadata": {
        "id": "7KTUsoWxNXqi",
        "colab_type": "code",
        "colab": {}
      },
      "cell_type": "code",
      "source": [
        "currency_types = [\"btc\",\"xrp\",\"eth\",\"bch\"]\n",
        "currency_targets = [\"btc\"]\n",
        "\n",
        "TIME_FREQUENCY = 1 # 1, 2, 3, 30 minutes\n",
        "TIME_SEQ_LEN = 60\n",
        "FUTURE_PERIOD_PREDICT = 5\n",
        "\n",
        "# NUM_DEPENDENT_VARIABLE == 2: increase/decrease\n",
        "# NUM_DEPENDENT_VARIABLE == 3: incrase/no change/decrease\n",
        "NUM_DEPENDENT_VARIABLE = 3\n",
        "SIGNIFICANT_CRITERIA = 0.3 # for no change criteria\n",
        "\n",
        "BATCH_SIZE = 128\n",
        "NUM_ITERATIONS = 30\n",
        "\n",
        "TRAIN_RATIO = 0.8"
      ],
      "execution_count": 0,
      "outputs": []
    },
    {
      "metadata": {
        "id": "QI7dLsjor7-x",
        "colab_type": "text"
      },
      "cell_type": "markdown",
      "source": [
        "## Preprocessing"
      ]
    },
    {
      "metadata": {
        "id": "L7faHBekr9WE",
        "colab_type": "text"
      },
      "cell_type": "markdown",
      "source": [
        "### 1. Import Data"
      ]
    },
    {
      "metadata": {
        "id": "p2TejG4LMwkP",
        "colab_type": "code",
        "outputId": "806ab746-2fbb-479c-e94c-09c67aa185fd",
        "colab": {
          "base_uri": "https://localhost:8080/",
          "height": 53
        }
      },
      "cell_type": "code",
      "source": [
        "import pandas as pd\n",
        "\n",
        "# read coin price data\n",
        "coin_price_dfs = pd.read_csv(DATA_PATH+\"coin_price_dfs.csv\")\n",
        "# read orderbeook data\n",
        "orderbook_dfs = pd.read_csv(DATA_PATH+\"orderbook_dfs.csv\")    \n",
        "\n",
        "# sort by timestamp\n",
        "coin_price_dfs = coin_price_dfs.sort_values(by=['timestamp','currency'])\n",
        "orderbook_dfs = orderbook_dfs.sort_values(by=['timestamp','currency'])    \n",
        "\n",
        "# select the columns of interests\n",
        "coin_price_dfs = coin_price_dfs[coin_price_dfs[\"currency\"].isin(currency_types)]\n",
        "orderbook_dfs = orderbook_dfs[orderbook_dfs[\"currency\"].isin(currency_types)]\n",
        "\n",
        "print(coin_price_dfs.shape)\n",
        "print(orderbook_dfs.shape)"
      ],
      "execution_count": 8,
      "outputs": [
        {
          "output_type": "stream",
          "text": [
            "(136916, 15)\n",
            "(136827, 213)\n"
          ],
          "name": "stdout"
        }
      ]
    },
    {
      "metadata": {
        "id": "RdRbZCU-QRXL",
        "colab_type": "text"
      },
      "cell_type": "markdown",
      "source": [
        "### 2. Create Balanced Panel"
      ]
    },
    {
      "metadata": {
        "id": "HchnD0S5siCl",
        "colab_type": "code",
        "colab": {}
      },
      "cell_type": "code",
      "source": [
        "coinprice_features = ['currency','last','volume','timestamp']\n",
        "\n",
        "# we only use bid / ask volume data inbetween current price and 3% from it (-3%,-2.9%, =2.8% ...0%, 0.1%, 0.2%... 3%)\n",
        "bid_cols = [\"bid_strength_\"+str(i) for i in range(30)]\n",
        "ask_cols = [\"ask_strength_\"+str(i) for i in range(30)]\n",
        "orderbook_features = bid_cols + ask_cols + [\"currency\",\"timestamp\",\"bid_ask_spread\"]\n",
        "\n",
        "key_features = coinprice_features + orderbook_features\n",
        "\n",
        "# merge price and orderbook data based on timestamp\n",
        "panel_df = pd.merge_asof(left=coin_price_dfs[coinprice_features].reset_index(drop=True), \n",
        "                         right=orderbook_dfs[orderbook_features].reset_index(drop=True),\n",
        "                         on = u'timestamp', by = u'currency')\n",
        "## interpolation\n",
        "panel_df = panel_df.groupby('currency').apply(lambda gp: gp.fillna(method=\"ffill\"))\n",
        "panel_df.dropna(inplace=True)"
      ],
      "execution_count": 0,
      "outputs": []
    },
    {
      "metadata": {
        "id": "vV5_iF7Asj5U",
        "colab_type": "code",
        "colab": {
          "base_uri": "https://localhost:8080/",
          "height": 253
        },
        "outputId": "7a99c136-3ced-48ba-fb81-77bc933ae480"
      },
      "cell_type": "code",
      "source": [
        "panel_df[panel_df['currency']=='btc'].head(n=5)"
      ],
      "execution_count": 10,
      "outputs": [
        {
          "output_type": "execute_result",
          "data": {
            "text/html": [
              "<div>\n",
              "<style scoped>\n",
              "    .dataframe tbody tr th:only-of-type {\n",
              "        vertical-align: middle;\n",
              "    }\n",
              "\n",
              "    .dataframe tbody tr th {\n",
              "        vertical-align: top;\n",
              "    }\n",
              "\n",
              "    .dataframe thead th {\n",
              "        text-align: right;\n",
              "    }\n",
              "</style>\n",
              "<table border=\"1\" class=\"dataframe\">\n",
              "  <thead>\n",
              "    <tr style=\"text-align: right;\">\n",
              "      <th></th>\n",
              "      <th>currency</th>\n",
              "      <th>last</th>\n",
              "      <th>volume</th>\n",
              "      <th>timestamp</th>\n",
              "      <th>bid_strength_0</th>\n",
              "      <th>bid_strength_1</th>\n",
              "      <th>bid_strength_2</th>\n",
              "      <th>bid_strength_3</th>\n",
              "      <th>bid_strength_4</th>\n",
              "      <th>bid_strength_5</th>\n",
              "      <th>...</th>\n",
              "      <th>ask_strength_21</th>\n",
              "      <th>ask_strength_22</th>\n",
              "      <th>ask_strength_23</th>\n",
              "      <th>ask_strength_24</th>\n",
              "      <th>ask_strength_25</th>\n",
              "      <th>ask_strength_26</th>\n",
              "      <th>ask_strength_27</th>\n",
              "      <th>ask_strength_28</th>\n",
              "      <th>ask_strength_29</th>\n",
              "      <th>bid_ask_spread</th>\n",
              "    </tr>\n",
              "  </thead>\n",
              "  <tbody>\n",
              "    <tr>\n",
              "      <th>5</th>\n",
              "      <td>btc</td>\n",
              "      <td>7179000.0</td>\n",
              "      <td>0.1953</td>\n",
              "      <td>2.560792e+07</td>\n",
              "      <td>2.2262</td>\n",
              "      <td>0.5006</td>\n",
              "      <td>5.0065</td>\n",
              "      <td>8.2713</td>\n",
              "      <td>0.0408</td>\n",
              "      <td>1.3164</td>\n",
              "      <td>...</td>\n",
              "      <td>0.0</td>\n",
              "      <td>0.0</td>\n",
              "      <td>0.0</td>\n",
              "      <td>1.0009</td>\n",
              "      <td>6.4400</td>\n",
              "      <td>0.0</td>\n",
              "      <td>0.0</td>\n",
              "      <td>5.5278</td>\n",
              "      <td>0.0005</td>\n",
              "      <td>8000.0</td>\n",
              "    </tr>\n",
              "    <tr>\n",
              "      <th>9</th>\n",
              "      <td>btc</td>\n",
              "      <td>7171000.0</td>\n",
              "      <td>1.3128</td>\n",
              "      <td>2.560792e+07</td>\n",
              "      <td>2.2262</td>\n",
              "      <td>4.3329</td>\n",
              "      <td>5.0034</td>\n",
              "      <td>4.3283</td>\n",
              "      <td>0.0408</td>\n",
              "      <td>1.3164</td>\n",
              "      <td>...</td>\n",
              "      <td>0.0</td>\n",
              "      <td>0.0</td>\n",
              "      <td>0.0</td>\n",
              "      <td>1.0009</td>\n",
              "      <td>6.4400</td>\n",
              "      <td>0.0</td>\n",
              "      <td>0.0</td>\n",
              "      <td>5.5278</td>\n",
              "      <td>0.0059</td>\n",
              "      <td>8000.0</td>\n",
              "    </tr>\n",
              "    <tr>\n",
              "      <th>13</th>\n",
              "      <td>btc</td>\n",
              "      <td>7171000.0</td>\n",
              "      <td>0.5334</td>\n",
              "      <td>2.560792e+07</td>\n",
              "      <td>5.8373</td>\n",
              "      <td>0.1031</td>\n",
              "      <td>8.8948</td>\n",
              "      <td>0.4727</td>\n",
              "      <td>1.3214</td>\n",
              "      <td>0.2364</td>\n",
              "      <td>...</td>\n",
              "      <td>0.0</td>\n",
              "      <td>0.0</td>\n",
              "      <td>0.0</td>\n",
              "      <td>0.0000</td>\n",
              "      <td>7.4409</td>\n",
              "      <td>0.0</td>\n",
              "      <td>0.0</td>\n",
              "      <td>0.0000</td>\n",
              "      <td>5.5337</td>\n",
              "      <td>1000.0</td>\n",
              "    </tr>\n",
              "    <tr>\n",
              "      <th>17</th>\n",
              "      <td>btc</td>\n",
              "      <td>7171000.0</td>\n",
              "      <td>0.1500</td>\n",
              "      <td>2.560792e+07</td>\n",
              "      <td>6.6385</td>\n",
              "      <td>0.3035</td>\n",
              "      <td>8.8948</td>\n",
              "      <td>0.4727</td>\n",
              "      <td>1.3215</td>\n",
              "      <td>0.2364</td>\n",
              "      <td>...</td>\n",
              "      <td>0.0</td>\n",
              "      <td>0.0</td>\n",
              "      <td>0.0</td>\n",
              "      <td>0.0000</td>\n",
              "      <td>7.4409</td>\n",
              "      <td>0.0</td>\n",
              "      <td>0.0</td>\n",
              "      <td>0.0000</td>\n",
              "      <td>5.5337</td>\n",
              "      <td>1000.0</td>\n",
              "    </tr>\n",
              "    <tr>\n",
              "      <th>21</th>\n",
              "      <td>btc</td>\n",
              "      <td>7178000.0</td>\n",
              "      <td>0.1211</td>\n",
              "      <td>2.560792e+07</td>\n",
              "      <td>6.6385</td>\n",
              "      <td>0.1031</td>\n",
              "      <td>6.9853</td>\n",
              "      <td>0.5867</td>\n",
              "      <td>1.3214</td>\n",
              "      <td>0.0636</td>\n",
              "      <td>...</td>\n",
              "      <td>0.0</td>\n",
              "      <td>0.0</td>\n",
              "      <td>0.0</td>\n",
              "      <td>0.0000</td>\n",
              "      <td>7.4409</td>\n",
              "      <td>0.0</td>\n",
              "      <td>0.0</td>\n",
              "      <td>0.0000</td>\n",
              "      <td>5.5337</td>\n",
              "      <td>1000.0</td>\n",
              "    </tr>\n",
              "  </tbody>\n",
              "</table>\n",
              "<p>5 rows × 65 columns</p>\n",
              "</div>"
            ],
            "text/plain": [
              "   currency       last  volume     timestamp  bid_strength_0  bid_strength_1  \\\n",
              "5       btc  7179000.0  0.1953  2.560792e+07          2.2262          0.5006   \n",
              "9       btc  7171000.0  1.3128  2.560792e+07          2.2262          4.3329   \n",
              "13      btc  7171000.0  0.5334  2.560792e+07          5.8373          0.1031   \n",
              "17      btc  7171000.0  0.1500  2.560792e+07          6.6385          0.3035   \n",
              "21      btc  7178000.0  0.1211  2.560792e+07          6.6385          0.1031   \n",
              "\n",
              "    bid_strength_2  bid_strength_3  bid_strength_4  bid_strength_5  \\\n",
              "5           5.0065          8.2713          0.0408          1.3164   \n",
              "9           5.0034          4.3283          0.0408          1.3164   \n",
              "13          8.8948          0.4727          1.3214          0.2364   \n",
              "17          8.8948          0.4727          1.3215          0.2364   \n",
              "21          6.9853          0.5867          1.3214          0.0636   \n",
              "\n",
              "         ...        ask_strength_21  ask_strength_22  ask_strength_23  \\\n",
              "5        ...                    0.0              0.0              0.0   \n",
              "9        ...                    0.0              0.0              0.0   \n",
              "13       ...                    0.0              0.0              0.0   \n",
              "17       ...                    0.0              0.0              0.0   \n",
              "21       ...                    0.0              0.0              0.0   \n",
              "\n",
              "    ask_strength_24  ask_strength_25  ask_strength_26  ask_strength_27  \\\n",
              "5            1.0009           6.4400              0.0              0.0   \n",
              "9            1.0009           6.4400              0.0              0.0   \n",
              "13           0.0000           7.4409              0.0              0.0   \n",
              "17           0.0000           7.4409              0.0              0.0   \n",
              "21           0.0000           7.4409              0.0              0.0   \n",
              "\n",
              "    ask_strength_28  ask_strength_29  bid_ask_spread  \n",
              "5            5.5278           0.0005          8000.0  \n",
              "9            5.5278           0.0059          8000.0  \n",
              "13           0.0000           5.5337          1000.0  \n",
              "17           0.0000           5.5337          1000.0  \n",
              "21           0.0000           5.5337          1000.0  \n",
              "\n",
              "[5 rows x 65 columns]"
            ]
          },
          "metadata": {
            "tags": []
          },
          "execution_count": 10
        }
      ]
    },
    {
      "metadata": {
        "id": "Z-htBAvXs3C_",
        "colab_type": "code",
        "colab": {
          "base_uri": "https://localhost:8080/",
          "height": 179
        },
        "outputId": "2a627d9c-afc3-48f1-9eb7-997fcc2cfd01"
      },
      "cell_type": "code",
      "source": [
        "# our dataset is not balanced yey\n",
        "# we need to transform dataframe into (timestamp - coin1 - coin2 - coin3 ...)\n",
        "new_panel_df_list = []\n",
        "\n",
        "for currency_type in currency_types:  # begin iteration\n",
        "  new_col_names = {key_feature:currency_type+\"_\"+key_feature \n",
        "                   for key_feature in key_features if key_feature != \"timestamp\"}\n",
        "\n",
        "  single_currency_panel_df = panel_df[panel_df['currency']==currency_type]\n",
        "  single_currency_panel_df.rename(columns=new_col_names, inplace=True)\n",
        "\n",
        "  print(currency_type, \" size: \", single_currency_panel_df.shape[0])    \n",
        "  new_panel_df_list.append(single_currency_panel_df)"
      ],
      "execution_count": 11,
      "outputs": [
        {
          "output_type": "stream",
          "text": [
            "/usr/local/lib/python3.6/dist-packages/pandas/core/frame.py:3027: SettingWithCopyWarning: \n",
            "A value is trying to be set on a copy of a slice from a DataFrame\n",
            "\n",
            "See the caveats in the documentation: http://pandas.pydata.org/pandas-docs/stable/indexing.html#indexing-view-versus-copy\n",
            "  return super(DataFrame, self).rename(**kwargs)\n"
          ],
          "name": "stderr"
        },
        {
          "output_type": "stream",
          "text": [
            "btc  size:  34224\n",
            "xrp  size:  34225\n",
            "eth  size:  34230\n",
            "bch  size:  34228\n"
          ],
          "name": "stdout"
        }
      ]
    },
    {
      "metadata": {
        "id": "5Np4oOfss5Hn",
        "colab_type": "code",
        "colab": {}
      },
      "cell_type": "code",
      "source": [
        "balanced_panel_df = new_panel_df_list[0]\n",
        "\n",
        "for new_panel_df in new_panel_df_list[1:]:\n",
        "  balanced_panel_df = pd.merge_asof(left=balanced_panel_df.reset_index(drop=True), \n",
        "                       right=new_panel_df.reset_index(drop=True),\n",
        "                       on = u'timestamp')\n",
        "\n",
        "balanced_panel_df.dropna(inplace=True)    \n",
        "balanced_panel_df.reset_index(drop=True,inplace=True)"
      ],
      "execution_count": 0,
      "outputs": []
    },
    {
      "metadata": {
        "id": "72h2fiTws7s5",
        "colab_type": "code",
        "colab": {
          "base_uri": "https://localhost:8080/",
          "height": 253
        },
        "outputId": "70610fad-f5ec-49d1-e0ee-64b4af7bd1a0"
      },
      "cell_type": "code",
      "source": [
        "balanced_panel_df.head()"
      ],
      "execution_count": 13,
      "outputs": [
        {
          "output_type": "execute_result",
          "data": {
            "text/html": [
              "<div>\n",
              "<style scoped>\n",
              "    .dataframe tbody tr th:only-of-type {\n",
              "        vertical-align: middle;\n",
              "    }\n",
              "\n",
              "    .dataframe tbody tr th {\n",
              "        vertical-align: top;\n",
              "    }\n",
              "\n",
              "    .dataframe thead th {\n",
              "        text-align: right;\n",
              "    }\n",
              "</style>\n",
              "<table border=\"1\" class=\"dataframe\">\n",
              "  <thead>\n",
              "    <tr style=\"text-align: right;\">\n",
              "      <th></th>\n",
              "      <th>btc_currency</th>\n",
              "      <th>btc_last</th>\n",
              "      <th>btc_volume</th>\n",
              "      <th>timestamp</th>\n",
              "      <th>btc_bid_strength_0</th>\n",
              "      <th>btc_bid_strength_1</th>\n",
              "      <th>btc_bid_strength_2</th>\n",
              "      <th>btc_bid_strength_3</th>\n",
              "      <th>btc_bid_strength_4</th>\n",
              "      <th>btc_bid_strength_5</th>\n",
              "      <th>...</th>\n",
              "      <th>bch_ask_strength_21</th>\n",
              "      <th>bch_ask_strength_22</th>\n",
              "      <th>bch_ask_strength_23</th>\n",
              "      <th>bch_ask_strength_24</th>\n",
              "      <th>bch_ask_strength_25</th>\n",
              "      <th>bch_ask_strength_26</th>\n",
              "      <th>bch_ask_strength_27</th>\n",
              "      <th>bch_ask_strength_28</th>\n",
              "      <th>bch_ask_strength_29</th>\n",
              "      <th>bch_bid_ask_spread</th>\n",
              "    </tr>\n",
              "  </thead>\n",
              "  <tbody>\n",
              "    <tr>\n",
              "      <th>0</th>\n",
              "      <td>btc</td>\n",
              "      <td>7178000.0</td>\n",
              "      <td>0.1211</td>\n",
              "      <td>2.560792e+07</td>\n",
              "      <td>6.6385</td>\n",
              "      <td>0.1031</td>\n",
              "      <td>6.9853</td>\n",
              "      <td>0.5867</td>\n",
              "      <td>1.3214</td>\n",
              "      <td>0.0636</td>\n",
              "      <td>...</td>\n",
              "      <td>0.0</td>\n",
              "      <td>0.0</td>\n",
              "      <td>0.0</td>\n",
              "      <td>0.0</td>\n",
              "      <td>0.0</td>\n",
              "      <td>0.0</td>\n",
              "      <td>0.0</td>\n",
              "      <td>0.0</td>\n",
              "      <td>0.0</td>\n",
              "      <td>2500.0</td>\n",
              "    </tr>\n",
              "    <tr>\n",
              "      <th>1</th>\n",
              "      <td>btc</td>\n",
              "      <td>7178000.0</td>\n",
              "      <td>0.1211</td>\n",
              "      <td>2.560792e+07</td>\n",
              "      <td>1.7127</td>\n",
              "      <td>5.3297</td>\n",
              "      <td>0.0065</td>\n",
              "      <td>9.4314</td>\n",
              "      <td>0.1528</td>\n",
              "      <td>1.2044</td>\n",
              "      <td>...</td>\n",
              "      <td>0.0</td>\n",
              "      <td>0.0</td>\n",
              "      <td>0.0</td>\n",
              "      <td>0.0</td>\n",
              "      <td>0.0</td>\n",
              "      <td>0.0</td>\n",
              "      <td>0.0</td>\n",
              "      <td>0.0</td>\n",
              "      <td>0.0</td>\n",
              "      <td>2500.0</td>\n",
              "    </tr>\n",
              "    <tr>\n",
              "      <th>2</th>\n",
              "      <td>btc</td>\n",
              "      <td>7179000.0</td>\n",
              "      <td>0.0281</td>\n",
              "      <td>2.560792e+07</td>\n",
              "      <td>1.7226</td>\n",
              "      <td>5.3273</td>\n",
              "      <td>0.0065</td>\n",
              "      <td>7.2283</td>\n",
              "      <td>0.1528</td>\n",
              "      <td>0.2044</td>\n",
              "      <td>...</td>\n",
              "      <td>0.0</td>\n",
              "      <td>0.0</td>\n",
              "      <td>0.0</td>\n",
              "      <td>0.0</td>\n",
              "      <td>0.0</td>\n",
              "      <td>0.0</td>\n",
              "      <td>0.0</td>\n",
              "      <td>0.0</td>\n",
              "      <td>0.0</td>\n",
              "      <td>1500.0</td>\n",
              "    </tr>\n",
              "    <tr>\n",
              "      <th>3</th>\n",
              "      <td>btc</td>\n",
              "      <td>7179000.0</td>\n",
              "      <td>0.0132</td>\n",
              "      <td>2.560792e+07</td>\n",
              "      <td>1.7226</td>\n",
              "      <td>5.1290</td>\n",
              "      <td>2.3059</td>\n",
              "      <td>7.2283</td>\n",
              "      <td>0.1528</td>\n",
              "      <td>0.2044</td>\n",
              "      <td>...</td>\n",
              "      <td>0.0</td>\n",
              "      <td>0.0</td>\n",
              "      <td>0.0</td>\n",
              "      <td>0.0</td>\n",
              "      <td>0.0</td>\n",
              "      <td>0.0</td>\n",
              "      <td>0.0</td>\n",
              "      <td>0.0</td>\n",
              "      <td>0.0</td>\n",
              "      <td>1500.0</td>\n",
              "    </tr>\n",
              "    <tr>\n",
              "      <th>4</th>\n",
              "      <td>btc</td>\n",
              "      <td>7179000.0</td>\n",
              "      <td>0.0132</td>\n",
              "      <td>2.560792e+07</td>\n",
              "      <td>1.7226</td>\n",
              "      <td>5.1290</td>\n",
              "      <td>2.1065</td>\n",
              "      <td>7.3863</td>\n",
              "      <td>0.0408</td>\n",
              "      <td>0.3164</td>\n",
              "      <td>...</td>\n",
              "      <td>0.0</td>\n",
              "      <td>0.0</td>\n",
              "      <td>0.0</td>\n",
              "      <td>0.0</td>\n",
              "      <td>0.0</td>\n",
              "      <td>0.0</td>\n",
              "      <td>0.0</td>\n",
              "      <td>0.0</td>\n",
              "      <td>0.0</td>\n",
              "      <td>2000.0</td>\n",
              "    </tr>\n",
              "  </tbody>\n",
              "</table>\n",
              "<p>5 rows × 257 columns</p>\n",
              "</div>"
            ],
            "text/plain": [
              "  btc_currency   btc_last  btc_volume     timestamp  btc_bid_strength_0  \\\n",
              "0          btc  7178000.0      0.1211  2.560792e+07              6.6385   \n",
              "1          btc  7178000.0      0.1211  2.560792e+07              1.7127   \n",
              "2          btc  7179000.0      0.0281  2.560792e+07              1.7226   \n",
              "3          btc  7179000.0      0.0132  2.560792e+07              1.7226   \n",
              "4          btc  7179000.0      0.0132  2.560792e+07              1.7226   \n",
              "\n",
              "   btc_bid_strength_1  btc_bid_strength_2  btc_bid_strength_3  \\\n",
              "0              0.1031              6.9853              0.5867   \n",
              "1              5.3297              0.0065              9.4314   \n",
              "2              5.3273              0.0065              7.2283   \n",
              "3              5.1290              2.3059              7.2283   \n",
              "4              5.1290              2.1065              7.3863   \n",
              "\n",
              "   btc_bid_strength_4  btc_bid_strength_5         ...          \\\n",
              "0              1.3214              0.0636         ...           \n",
              "1              0.1528              1.2044         ...           \n",
              "2              0.1528              0.2044         ...           \n",
              "3              0.1528              0.2044         ...           \n",
              "4              0.0408              0.3164         ...           \n",
              "\n",
              "   bch_ask_strength_21  bch_ask_strength_22  bch_ask_strength_23  \\\n",
              "0                  0.0                  0.0                  0.0   \n",
              "1                  0.0                  0.0                  0.0   \n",
              "2                  0.0                  0.0                  0.0   \n",
              "3                  0.0                  0.0                  0.0   \n",
              "4                  0.0                  0.0                  0.0   \n",
              "\n",
              "   bch_ask_strength_24  bch_ask_strength_25  bch_ask_strength_26  \\\n",
              "0                  0.0                  0.0                  0.0   \n",
              "1                  0.0                  0.0                  0.0   \n",
              "2                  0.0                  0.0                  0.0   \n",
              "3                  0.0                  0.0                  0.0   \n",
              "4                  0.0                  0.0                  0.0   \n",
              "\n",
              "   bch_ask_strength_27  bch_ask_strength_28  bch_ask_strength_29  \\\n",
              "0                  0.0                  0.0                  0.0   \n",
              "1                  0.0                  0.0                  0.0   \n",
              "2                  0.0                  0.0                  0.0   \n",
              "3                  0.0                  0.0                  0.0   \n",
              "4                  0.0                  0.0                  0.0   \n",
              "\n",
              "   bch_bid_ask_spread  \n",
              "0              2500.0  \n",
              "1              2500.0  \n",
              "2              1500.0  \n",
              "3              1500.0  \n",
              "4              2000.0  \n",
              "\n",
              "[5 rows x 257 columns]"
            ]
          },
          "metadata": {
            "tags": []
          },
          "execution_count": 13
        }
      ]
    },
    {
      "metadata": {
        "id": "rWipdgFHslhM",
        "colab_type": "text"
      },
      "cell_type": "markdown",
      "source": [
        "###   3. Create Target Variable"
      ]
    },
    {
      "metadata": {
        "id": "G2O-Z_KGsov0",
        "colab_type": "code",
        "colab": {}
      },
      "cell_type": "code",
      "source": [
        "# to create target variable we create return \n",
        "for currency_target in currency_targets:\n",
        "  balanced_panel_df[currency_target+'_last_target'] = balanced_panel_df[currency_target+'_last'].shift(-FUTURE_PERIOD_PREDICT )\n",
        "  balanced_panel_df[currency_target+'_last_target_return'] = (balanced_panel_df[currency_target+'_last_target'] \n",
        "                                                              - balanced_panel_df[currency_target+'_last'])/balanced_panel_df[currency_target+'_last']"
      ],
      "execution_count": 0,
      "outputs": []
    },
    {
      "metadata": {
        "id": "DLTme-8FtBaH",
        "colab_type": "code",
        "colab": {}
      },
      "cell_type": "code",
      "source": [
        "def classify_trinary(values):\n",
        "  gp_std = np.std(values)\n",
        "\n",
        "  target = []\n",
        "  for value in values:\n",
        "    if SIGNIFICANT_CRITERIA*gp_std < value:\n",
        "      target.append(2)\n",
        "    elif -SIGNIFICANT_CRITERIA*gp_std > value:\n",
        "      target.append(0)  \n",
        "    else:\n",
        "      target.append(1)  \n",
        "\n",
        "  return target"
      ],
      "execution_count": 0,
      "outputs": []
    },
    {
      "metadata": {
        "id": "F1avPCaItDag",
        "colab_type": "code",
        "colab": {
          "base_uri": "https://localhost:8080/",
          "height": 53
        },
        "outputId": "2ab64eb2-235e-4288-f392-981df5fc1d7c"
      },
      "cell_type": "code",
      "source": [
        "import numpy as np\n",
        "\n",
        "for currency_target in currency_targets:\n",
        "  if NUM_DEPENDENT_VARIABLE == 2:\n",
        "    print(\"NUM_DEPENDENT_VARIABLE: \", 2)\n",
        "    balanced_panel_df[currency_target+'_target'] = balanced_panel_df[currency_target+'_last_target_return'].apply(lambda x: 0 if x <= 0 else 1)\n",
        "\n",
        "  elif NUM_DEPENDENT_VARIABLE == 3:    \n",
        "    print(\"NUM_DEPENDENT_VARIABLE: \", 3)\n",
        "    print(\"SIGNIFICANT_CRITERIA:\", SIGNIFICANT_CRITERIA)\n",
        "    balanced_panel_df[currency_target+'_target'] = balanced_panel_df[currency_target+\"_last_target_return\"].transform(classify_trinary)    \n",
        "\n",
        "  else:\n",
        "    print(\"NUM_DEPENDENT_VARIABLE is not properly specified\")"
      ],
      "execution_count": 16,
      "outputs": [
        {
          "output_type": "stream",
          "text": [
            "NUM_DEPENDENT_VARIABLE:  3\n",
            "SIGNIFICANT_CRITERIA: 0.3\n"
          ],
          "name": "stdout"
        }
      ]
    },
    {
      "metadata": {
        "id": "NOl1U87Vtc3c",
        "colab_type": "text"
      },
      "cell_type": "markdown",
      "source": [
        "### 4. Scale Data\n",
        "  5. Create Sequences\n",
        "  6. Train / Test Split\n",
        "\n",
        "  \n",
        "\n",
        "- Training / Predicting Model\n",
        "  1. Model Build\n",
        "  2. Model Train\n",
        "  3. Prediction\n",
        "  4. Evaluation <- this assignment implement it"
      ]
    },
    {
      "metadata": {
        "id": "WECrAHn1teJz",
        "colab_type": "code",
        "colab": {}
      },
      "cell_type": "code",
      "source": [
        "# we scaled input data using mix max scaler\n",
        "from sklearn import preprocessing \n",
        "\n",
        "exclude_cols = [] # if you want to ignore some columns for mix max scaling, write the column here\n",
        "exceptions = [\"currency\", \"timestamp\", \"target\"]\n",
        "\n",
        "for col in balanced_panel_df.columns:\n",
        "  exception_occur = False\n",
        "\n",
        "  for exception in exceptions:\n",
        "    if exception in col:\n",
        "      exception_occur = True\n",
        "      exclude_cols.append(col)\n",
        "\n",
        "  if exception_occur:\n",
        "    continue\n",
        "  \n",
        "  balanced_panel_df[col] = preprocessing.minmax_scale(balanced_panel_df[col].values)"
      ],
      "execution_count": 0,
      "outputs": []
    },
    {
      "metadata": {
        "id": "m0vrcNhDttOR",
        "colab_type": "code",
        "colab": {}
      },
      "cell_type": "code",
      "source": [
        "# we sholud exclude these variable\n",
        "# since we should not predict based on the future information\n",
        "target_cols = [currency_target+\"_target\" for currency_target in currency_targets]\n",
        "\n",
        "for target_col in target_cols:\n",
        "    exclude_cols.remove(target_col) \n",
        "\n",
        "balanced_panel_df = balanced_panel_df.filter(regex=\"^(?!({0})$).*$\".format('|'.join(exclude_cols)))"
      ],
      "execution_count": 0,
      "outputs": []
    },
    {
      "metadata": {
        "id": "XtS0B2qotvEM",
        "colab_type": "code",
        "colab": {
          "base_uri": "https://localhost:8080/",
          "height": 253
        },
        "outputId": "ec421052-e336-4c60-e5b3-5e07ed11f48a"
      },
      "cell_type": "code",
      "source": [
        "balanced_panel_df.head()"
      ],
      "execution_count": 19,
      "outputs": [
        {
          "output_type": "execute_result",
          "data": {
            "text/html": [
              "<div>\n",
              "<style scoped>\n",
              "    .dataframe tbody tr th:only-of-type {\n",
              "        vertical-align: middle;\n",
              "    }\n",
              "\n",
              "    .dataframe tbody tr th {\n",
              "        vertical-align: top;\n",
              "    }\n",
              "\n",
              "    .dataframe thead th {\n",
              "        text-align: right;\n",
              "    }\n",
              "</style>\n",
              "<table border=\"1\" class=\"dataframe\">\n",
              "  <thead>\n",
              "    <tr style=\"text-align: right;\">\n",
              "      <th></th>\n",
              "      <th>btc_last</th>\n",
              "      <th>btc_volume</th>\n",
              "      <th>btc_bid_strength_0</th>\n",
              "      <th>btc_bid_strength_1</th>\n",
              "      <th>btc_bid_strength_2</th>\n",
              "      <th>btc_bid_strength_3</th>\n",
              "      <th>btc_bid_strength_4</th>\n",
              "      <th>btc_bid_strength_5</th>\n",
              "      <th>btc_bid_strength_6</th>\n",
              "      <th>btc_bid_strength_7</th>\n",
              "      <th>...</th>\n",
              "      <th>bch_ask_strength_22</th>\n",
              "      <th>bch_ask_strength_23</th>\n",
              "      <th>bch_ask_strength_24</th>\n",
              "      <th>bch_ask_strength_25</th>\n",
              "      <th>bch_ask_strength_26</th>\n",
              "      <th>bch_ask_strength_27</th>\n",
              "      <th>bch_ask_strength_28</th>\n",
              "      <th>bch_ask_strength_29</th>\n",
              "      <th>bch_bid_ask_spread</th>\n",
              "      <th>btc_target</th>\n",
              "    </tr>\n",
              "  </thead>\n",
              "  <tbody>\n",
              "    <tr>\n",
              "      <th>0</th>\n",
              "      <td>0.259504</td>\n",
              "      <td>0.002547</td>\n",
              "      <td>0.206476</td>\n",
              "      <td>0.002404</td>\n",
              "      <td>0.149140</td>\n",
              "      <td>0.012677</td>\n",
              "      <td>0.028505</td>\n",
              "      <td>0.001294</td>\n",
              "      <td>0.005685</td>\n",
              "      <td>0.832771</td>\n",
              "      <td>...</td>\n",
              "      <td>0.0</td>\n",
              "      <td>0.0</td>\n",
              "      <td>0.0</td>\n",
              "      <td>0.0</td>\n",
              "      <td>0.0</td>\n",
              "      <td>0.0</td>\n",
              "      <td>0.0</td>\n",
              "      <td>0.0</td>\n",
              "      <td>0.181818</td>\n",
              "      <td>1</td>\n",
              "    </tr>\n",
              "    <tr>\n",
              "      <th>1</th>\n",
              "      <td>0.259504</td>\n",
              "      <td>0.002547</td>\n",
              "      <td>0.053270</td>\n",
              "      <td>0.124267</td>\n",
              "      <td>0.000139</td>\n",
              "      <td>0.203788</td>\n",
              "      <td>0.003296</td>\n",
              "      <td>0.024512</td>\n",
              "      <td>0.022489</td>\n",
              "      <td>0.765842</td>\n",
              "      <td>...</td>\n",
              "      <td>0.0</td>\n",
              "      <td>0.0</td>\n",
              "      <td>0.0</td>\n",
              "      <td>0.0</td>\n",
              "      <td>0.0</td>\n",
              "      <td>0.0</td>\n",
              "      <td>0.0</td>\n",
              "      <td>0.0</td>\n",
              "      <td>0.181818</td>\n",
              "      <td>1</td>\n",
              "    </tr>\n",
              "    <tr>\n",
              "      <th>2</th>\n",
              "      <td>0.261157</td>\n",
              "      <td>0.000589</td>\n",
              "      <td>0.053578</td>\n",
              "      <td>0.124211</td>\n",
              "      <td>0.000139</td>\n",
              "      <td>0.156185</td>\n",
              "      <td>0.003296</td>\n",
              "      <td>0.004160</td>\n",
              "      <td>0.025798</td>\n",
              "      <td>0.765842</td>\n",
              "      <td>...</td>\n",
              "      <td>0.0</td>\n",
              "      <td>0.0</td>\n",
              "      <td>0.0</td>\n",
              "      <td>0.0</td>\n",
              "      <td>0.0</td>\n",
              "      <td>0.0</td>\n",
              "      <td>0.0</td>\n",
              "      <td>0.0</td>\n",
              "      <td>0.090909</td>\n",
              "      <td>1</td>\n",
              "    </tr>\n",
              "    <tr>\n",
              "      <th>3</th>\n",
              "      <td>0.261157</td>\n",
              "      <td>0.000276</td>\n",
              "      <td>0.053578</td>\n",
              "      <td>0.119587</td>\n",
              "      <td>0.049232</td>\n",
              "      <td>0.156185</td>\n",
              "      <td>0.003296</td>\n",
              "      <td>0.004160</td>\n",
              "      <td>0.025798</td>\n",
              "      <td>0.765842</td>\n",
              "      <td>...</td>\n",
              "      <td>0.0</td>\n",
              "      <td>0.0</td>\n",
              "      <td>0.0</td>\n",
              "      <td>0.0</td>\n",
              "      <td>0.0</td>\n",
              "      <td>0.0</td>\n",
              "      <td>0.0</td>\n",
              "      <td>0.0</td>\n",
              "      <td>0.090909</td>\n",
              "      <td>1</td>\n",
              "    </tr>\n",
              "    <tr>\n",
              "      <th>4</th>\n",
              "      <td>0.261157</td>\n",
              "      <td>0.000276</td>\n",
              "      <td>0.053578</td>\n",
              "      <td>0.119587</td>\n",
              "      <td>0.044975</td>\n",
              "      <td>0.159599</td>\n",
              "      <td>0.000880</td>\n",
              "      <td>0.006439</td>\n",
              "      <td>0.022489</td>\n",
              "      <td>0.765842</td>\n",
              "      <td>...</td>\n",
              "      <td>0.0</td>\n",
              "      <td>0.0</td>\n",
              "      <td>0.0</td>\n",
              "      <td>0.0</td>\n",
              "      <td>0.0</td>\n",
              "      <td>0.0</td>\n",
              "      <td>0.0</td>\n",
              "      <td>0.0</td>\n",
              "      <td>0.136364</td>\n",
              "      <td>1</td>\n",
              "    </tr>\n",
              "  </tbody>\n",
              "</table>\n",
              "<p>5 rows × 253 columns</p>\n",
              "</div>"
            ],
            "text/plain": [
              "   btc_last  btc_volume  btc_bid_strength_0  btc_bid_strength_1  \\\n",
              "0  0.259504    0.002547            0.206476            0.002404   \n",
              "1  0.259504    0.002547            0.053270            0.124267   \n",
              "2  0.261157    0.000589            0.053578            0.124211   \n",
              "3  0.261157    0.000276            0.053578            0.119587   \n",
              "4  0.261157    0.000276            0.053578            0.119587   \n",
              "\n",
              "   btc_bid_strength_2  btc_bid_strength_3  btc_bid_strength_4  \\\n",
              "0            0.149140            0.012677            0.028505   \n",
              "1            0.000139            0.203788            0.003296   \n",
              "2            0.000139            0.156185            0.003296   \n",
              "3            0.049232            0.156185            0.003296   \n",
              "4            0.044975            0.159599            0.000880   \n",
              "\n",
              "   btc_bid_strength_5  btc_bid_strength_6  btc_bid_strength_7     ...      \\\n",
              "0            0.001294            0.005685            0.832771     ...       \n",
              "1            0.024512            0.022489            0.765842     ...       \n",
              "2            0.004160            0.025798            0.765842     ...       \n",
              "3            0.004160            0.025798            0.765842     ...       \n",
              "4            0.006439            0.022489            0.765842     ...       \n",
              "\n",
              "   bch_ask_strength_22  bch_ask_strength_23  bch_ask_strength_24  \\\n",
              "0                  0.0                  0.0                  0.0   \n",
              "1                  0.0                  0.0                  0.0   \n",
              "2                  0.0                  0.0                  0.0   \n",
              "3                  0.0                  0.0                  0.0   \n",
              "4                  0.0                  0.0                  0.0   \n",
              "\n",
              "   bch_ask_strength_25  bch_ask_strength_26  bch_ask_strength_27  \\\n",
              "0                  0.0                  0.0                  0.0   \n",
              "1                  0.0                  0.0                  0.0   \n",
              "2                  0.0                  0.0                  0.0   \n",
              "3                  0.0                  0.0                  0.0   \n",
              "4                  0.0                  0.0                  0.0   \n",
              "\n",
              "   bch_ask_strength_28  bch_ask_strength_29  bch_bid_ask_spread  btc_target  \n",
              "0                  0.0                  0.0            0.181818           1  \n",
              "1                  0.0                  0.0            0.181818           1  \n",
              "2                  0.0                  0.0            0.090909           1  \n",
              "3                  0.0                  0.0            0.090909           1  \n",
              "4                  0.0                  0.0            0.136364           1  \n",
              "\n",
              "[5 rows x 253 columns]"
            ]
          },
          "metadata": {
            "tags": []
          },
          "execution_count": 19
        }
      ]
    },
    {
      "metadata": {
        "id": "JqnfXndEuSiH",
        "colab_type": "text"
      },
      "cell_type": "markdown",
      "source": [
        "### 5. Train / Test Split"
      ]
    },
    {
      "metadata": {
        "id": "82UhUhYSuUle",
        "colab_type": "code",
        "colab": {}
      },
      "cell_type": "code",
      "source": [
        "# split train test dataset\n",
        "panel_df_train = balanced_panel_df.iloc[:int(balanced_panel_df.shape[0]*TRAIN_RATIO)]\n",
        "panel_df_test = balanced_panel_df[~balanced_panel_df.index.isin(panel_df_train.index)]"
      ],
      "execution_count": 0,
      "outputs": []
    },
    {
      "metadata": {
        "id": "Z1nm5ZAAuDOv",
        "colab_type": "text"
      },
      "cell_type": "markdown",
      "source": [
        "### 6. Create Sequences"
      ]
    },
    {
      "metadata": {
        "id": "REgoe3MPuFbv",
        "colab_type": "code",
        "colab": {}
      },
      "cell_type": "code",
      "source": [
        "import random\n",
        "from collections import deque\n",
        "\n",
        "def sequence_generator(panel_df, TIME_SEQ_LEN, suffle=True,seed=101):\n",
        "\n",
        "  sequential_data = []  # this is a list that will CONTAIN the sequences\n",
        "  queue = deque(maxlen = TIME_SEQ_LEN)  # These will be our actual sequences. They are made with deque, which keeps the maximum length by popping out older values as new ones come in\n",
        "\n",
        "  for i in panel_df.values:  # iterate over the values\n",
        "    queue.append([n for n in i[:-1]])  # store all but the target\n",
        "    if len(queue) == TIME_SEQ_LEN:  # make sure we have 60 sequences!\n",
        "      sequential_data.append([np.array(queue), i[-1]])  # append those bad boys!\n",
        "\n",
        "  if suffle == True:\n",
        "    random.seed(seed)\n",
        "    random.shuffle(sequential_data)  # shuffle for good measure.\n",
        "\n",
        "  X = []\n",
        "  y = []\n",
        "\n",
        "  for seq, target in sequential_data:  # going over our new sequential data\n",
        "    X.append(seq)  # X is the sequences\n",
        "    y.append(target)  # y is the targets/labels (buys vs sell/notbuy)\n",
        "\n",
        "  return np.array(X), y  # return X and y...and make X a numpy array!"
      ],
      "execution_count": 0,
      "outputs": []
    },
    {
      "metadata": {
        "id": "0arExbjMNN--",
        "colab_type": "code",
        "colab": {}
      },
      "cell_type": "code",
      "source": [
        "train_X, train_Y = sequence_generator(panel_df_train , TIME_SEQ_LEN, suffle=True, seed=101)\n",
        "test_X, test_Y = sequence_generator(panel_df_test, TIME_SEQ_LEN, suffle=False)"
      ],
      "execution_count": 0,
      "outputs": []
    },
    {
      "metadata": {
        "id": "nkn_cv6wPVEA",
        "colab_type": "code",
        "outputId": "19f2f01d-8469-4212-f090-8f1667ec878b",
        "colab": {
          "base_uri": "https://localhost:8080/",
          "height": 125
        }
      },
      "cell_type": "code",
      "source": [
        "print(panel_df_train.shape)\n",
        "print(train_X.shape)\n",
        "print(len(train_Y))\n",
        "\n",
        "print(panel_df_test.shape)\n",
        "print(test_X.shape)\n",
        "print(len(test_Y))"
      ],
      "execution_count": 23,
      "outputs": [
        {
          "output_type": "stream",
          "text": [
            "(27376, 253)\n",
            "(27317, 60, 252)\n",
            "27317\n",
            "(6844, 253)\n",
            "(6785, 60, 252)\n",
            "6785\n"
          ],
          "name": "stdout"
        }
      ]
    },
    {
      "metadata": {
        "id": "5EUZ0DaTvPg4",
        "colab_type": "text"
      },
      "cell_type": "markdown",
      "source": [
        "# Exercise Compare FNN, CNN, RNN Model with Orderbook Data"
      ]
    },
    {
      "metadata": {
        "id": "RHjlJ1Kcu48a",
        "colab_type": "text"
      },
      "cell_type": "markdown",
      "source": [
        "- Training / Predicting Model\n",
        "  1. Model Define\n",
        "    - FNN\n",
        "    - CNN\n",
        "    - RNN\n",
        "  2. Model Train\n",
        "  3. Prediction\n",
        "  4. Evaluation <- this assignment implement it"
      ]
    },
    {
      "metadata": {
        "id": "x_JZcMKHh9xV",
        "colab_type": "text"
      },
      "cell_type": "markdown",
      "source": [
        "### 1. Model Build"
      ]
    },
    {
      "metadata": {
        "id": "0bADWJMbvhfj",
        "colab_type": "code",
        "colab": {}
      },
      "cell_type": "code",
      "source": [
        "import tensorflow as tf\n",
        "from tensorflow.keras.models import Sequential\n",
        "from tensorflow.keras.layers import Dense, Dropout, LSTM, CuDNNLSTM, BatchNormalization, Flatten\n",
        "\n",
        "def fnn_model(input_dim, output_dim):\n",
        "    \n",
        "  # you can try your own model!\n",
        "  \n",
        "  L1 = 50  # 30\n",
        "  L2 = 30  # 20\n",
        "  L3 = 20  # 10\n",
        "  L4 = 10  # 5\n",
        "  L5 = 5\n",
        "\n",
        "  model = Sequential()\n",
        "  model.add(Dense(L1, input_shape=input_dim, activation='relu'))\n",
        "  model.add(Dropout(0.2))\n",
        "  model.add(BatchNormalization())\n",
        "\n",
        "  model.add(Dense(L2, activation='relu'))\n",
        "  model.add(Dropout(0.2))\n",
        "  model.add(BatchNormalization())\n",
        "\n",
        "  model.add(Dense(L3, activation='relu'))\n",
        "  model.add(Dropout(0.2))\n",
        "  model.add(BatchNormalization())\n",
        "\n",
        "  model.add(Dense(L4, activation='relu'))\n",
        "  model.add(Dropout(0.2))\n",
        "  model.add(BatchNormalization())\n",
        "\n",
        "  model.add(Dense(L5, activation='relu'))\n",
        "  model.add(Dropout(0.2))\n",
        "\n",
        "  model.add(Flatten())\n",
        "  model.add(Dense(output_dim, activation='softmax'))\n",
        "\n",
        "  model.compile(optimizer=tf.train.AdamOptimizer(0.001),\n",
        "            loss='categorical_crossentropy',\n",
        "            metrics=['accuracy'])\n",
        "\n",
        "\n",
        "  return model"
      ],
      "execution_count": 0,
      "outputs": []
    },
    {
      "metadata": {
        "id": "uW6OHiSpwVCU",
        "colab_type": "code",
        "colab": {}
      },
      "cell_type": "code",
      "source": [
        "from tensorflow.keras.layers import Dense, Dropout, Activation, Flatten\n",
        "from tensorflow.keras.layers import Conv2D, MaxPooling2D\n",
        "\n",
        "def cnn_model(input_dim, output_dim):\n",
        "    \n",
        "  # you can try your own model!\n",
        "  L1 = 256\n",
        "  L2 = 256\n",
        "  L3 = 64\n",
        "  \n",
        "  model = Sequential()\n",
        "\n",
        "  model.add(Conv2D(L1, (20, 20), input_shape=input_dim))\n",
        "  model.add(Activation('relu'))\n",
        "  model.add(MaxPooling2D(pool_size=(10, 10)))\n",
        "\n",
        "  model.add(Conv2D(L2, (20, 20)))\n",
        "  model.add(Activation('relu'))\n",
        "  model.add(MaxPooling2D(pool_size=(10, 10)))\n",
        "\n",
        "  model.add(Flatten())  # this converts our 3D feature maps to 1D feature vectors\n",
        "\n",
        "  model.add(Dense(L3))\n",
        "\n",
        "  model.add(Dense(output_dim))\n",
        "  model.add(Activation('sigmoid'))\n",
        "\n",
        "  model.compile(optimizer=tf.train.AdamOptimizer(0.001),\n",
        "                loss='categorical_crossentropy',\n",
        "                metrics=['accuracy'])\n",
        "\n",
        "\n",
        "  return model"
      ],
      "execution_count": 0,
      "outputs": []
    },
    {
      "metadata": {
        "id": "nIbfU-W1wYCD",
        "colab_type": "code",
        "colab": {}
      },
      "cell_type": "code",
      "source": [
        "def rnn_model(input_dim, output_dim):\n",
        "    \n",
        "  # you can try your own model!\n",
        "\n",
        "  L1 = 256  # 256\n",
        "  L2 = 256  # 256\n",
        "  L3 = 32  # 32\n",
        "\n",
        "  model = Sequential()\n",
        "  \n",
        "  model.add(CuDNNLSTM(L1, input_shape=input_dim, return_sequences=True))\n",
        "  model.add(Dropout(0.2))\n",
        "  model.add(BatchNormalization())  #normalizes activation outputs, same reason you want to normalize your input data.\n",
        "\n",
        "  model.add(CuDNNLSTM(L2, return_sequences=True))\n",
        "  model.add(Dropout(0.1))\n",
        "  model.add(BatchNormalization())\n",
        "\n",
        "  model.add(CuDNNLSTM(L3))\n",
        "  model.add(Dropout(0.2))\n",
        "  model.add(BatchNormalization())\n",
        "\n",
        "\n",
        "  model.add(Flatten())\n",
        "  model.add(Dense(output_dim))\n",
        "  model.add(Activation('linear'))\n",
        "\n",
        "  model.compile(optimizer=tf.train.AdamOptimizer(0.001),\n",
        "            loss='categorical_crossentropy',\n",
        "            metrics=['accuracy'])\n",
        "\n",
        "\n",
        "  return model"
      ],
      "execution_count": 0,
      "outputs": []
    },
    {
      "metadata": {
        "id": "2xtMiiEMiJ-N",
        "colab_type": "code",
        "colab": {}
      },
      "cell_type": "code",
      "source": [
        "models = {}\n",
        "models[\"FNN\"] = fnn_model(train_X.shape[1:], NUM_DEPENDENT_VARIABLE)\n",
        "models[\"CNN\"] = cnn_model(train_X.reshape(-1, train_X.shape[1:][0], train_X.shape[1:][1], 1).shape[1:]\n",
        "                        , NUM_DEPENDENT_VARIABLE)\n",
        "models[\"RNN\"] = rnn_model(train_X.shape[1:], NUM_DEPENDENT_VARIABLE)"
      ],
      "execution_count": 0,
      "outputs": []
    },
    {
      "metadata": {
        "id": "8xHSWzs8iBq1",
        "colab_type": "text"
      },
      "cell_type": "markdown",
      "source": [
        "### 2. Model Train\n"
      ]
    },
    {
      "metadata": {
        "id": "XlwicNBhiFSt",
        "colab_type": "code",
        "outputId": "ea13aa49-1e3f-4e6e-d36e-98193816a60a",
        "colab": {
          "base_uri": "https://localhost:8080/",
          "height": 719
        }
      },
      "cell_type": "code",
      "source": [
        "BATCH_SIZE = 64 \n",
        "NUM_ITERATIONS = 5\n",
        "\n",
        "hist = {}\n",
        "\n",
        "for name, model in models.items():\n",
        "  print(\"===== Model Name: {} =====\".format(name))\n",
        "  if name == \"CNN\":\n",
        "    hist[name] = model.fit(train_X.reshape(-1, train_X.shape[1:][0], train_X.shape[1:][1], 1),\n",
        "                tf.keras.utils.to_categorical(train_Y, num_classes=None), \n",
        "                batch_size = BATCH_SIZE,\n",
        "                validation_split=0.2,\n",
        "                epochs = NUM_ITERATIONS)\n",
        "\n",
        "  else:\n",
        "    hist[name] = model.fit(train_X, tf.keras.utils.to_categorical(train_Y, num_classes=None), \n",
        "                batch_size = BATCH_SIZE,\n",
        "                validation_split=0.2,\n",
        "                epochs = NUM_ITERATIONS)\n",
        "    \n",
        "  print(\"===== Train Done =====\".format(name))"
      ],
      "execution_count": 32,
      "outputs": [
        {
          "output_type": "stream",
          "text": [
            "===== Model Name: FNN =====\n",
            "Train on 21853 samples, validate on 5464 samples\n",
            "Epoch 1/5\n",
            "21853/21853 [==============================] - 7s 334us/step - loss: 0.8523 - acc: 0.6012 - val_loss: 0.7977 - val_acc: 0.6398\n",
            "Epoch 2/5\n",
            "21853/21853 [==============================] - 7s 331us/step - loss: 0.8476 - acc: 0.6058 - val_loss: 0.8096 - val_acc: 0.6261\n",
            "Epoch 3/5\n",
            "21853/21853 [==============================] - 7s 334us/step - loss: 0.8444 - acc: 0.6073 - val_loss: 0.8213 - val_acc: 0.6212\n",
            "Epoch 4/5\n",
            "21853/21853 [==============================] - 7s 340us/step - loss: 0.8387 - acc: 0.6085 - val_loss: 0.8261 - val_acc: 0.6193\n",
            "Epoch 5/5\n",
            "21853/21853 [==============================] - 7s 341us/step - loss: 0.8365 - acc: 0.6097 - val_loss: 0.8359 - val_acc: 0.6146\n",
            "===== Train Done =====\n",
            "===== Model Name: CNN =====\n",
            "Train on 21853 samples, validate on 5464 samples\n",
            "Epoch 1/5\n",
            "21853/21853 [==============================] - 121s 6ms/step - loss: 1.0958 - acc: 0.3700 - val_loss: 1.0972 - val_acc: 0.3618\n",
            "Epoch 2/5\n",
            "21853/21853 [==============================] - 119s 5ms/step - loss: 1.0957 - acc: 0.3700 - val_loss: 1.0972 - val_acc: 0.3618\n",
            "Epoch 3/5\n",
            "21853/21853 [==============================] - 119s 5ms/step - loss: 1.0957 - acc: 0.3700 - val_loss: 1.0972 - val_acc: 0.3618\n",
            "Epoch 4/5\n",
            "21853/21853 [==============================] - 119s 5ms/step - loss: 1.0958 - acc: 0.3700 - val_loss: 1.0970 - val_acc: 0.3618\n",
            "Epoch 5/5\n",
            "21853/21853 [==============================] - 119s 5ms/step - loss: 1.0958 - acc: 0.3700 - val_loss: 1.0970 - val_acc: 0.3618\n",
            "===== Train Done =====\n",
            "===== Model Name: RNN =====\n",
            "Train on 21853 samples, validate on 5464 samples\n",
            "Epoch 1/5\n",
            "21853/21853 [==============================] - 24s 1ms/step - loss: 1.6788 - acc: 0.3350 - val_loss: 1.1057 - val_acc: 0.3615\n",
            "Epoch 2/5\n",
            "21853/21853 [==============================] - 23s 1ms/step - loss: 1.3198 - acc: 0.3376 - val_loss: 1.2209 - val_acc: 0.3455\n",
            "Epoch 3/5\n",
            "21853/21853 [==============================] - 23s 1ms/step - loss: 3.1663 - acc: 0.3329 - val_loss: 1.1097 - val_acc: 0.3141\n",
            "Epoch 4/5\n",
            "21853/21853 [==============================] - 23s 1ms/step - loss: 2.3585 - acc: 0.3268 - val_loss: 1.2936 - val_acc: 0.3424\n",
            "Epoch 5/5\n",
            "21853/21853 [==============================] - 23s 1ms/step - loss: 1.9033 - acc: 0.3380 - val_loss: 1.7534 - val_acc: 0.3618\n",
            "===== Train Done =====\n"
          ],
          "name": "stdout"
        }
      ]
    },
    {
      "metadata": {
        "id": "Sjk0WzkeiDV9",
        "colab_type": "text"
      },
      "cell_type": "markdown",
      "source": [
        "### 3. Prediction"
      ]
    },
    {
      "metadata": {
        "id": "IZS3dLzDiEjk",
        "colab_type": "code",
        "outputId": "f541d405-ee79-4e74-9041-6a4871ff9023",
        "colab": {
          "base_uri": "https://localhost:8080/",
          "height": 71
        }
      },
      "cell_type": "code",
      "source": [
        "predictions = {}\n",
        "\n",
        "for name, model in models.items():\n",
        "  print(\"===== Model Name: {} =====\".format(name))  \n",
        "  if name == \"CNN\":\n",
        "    predictions[name] = model.predict_classes(test_X.reshape(-1, train_X.shape[1:][0], train_X.shape[1:][1], 1))\n",
        "\n",
        "  else:\n",
        "    predictions[name] = model.predict_classes(test_X)"
      ],
      "execution_count": 34,
      "outputs": [
        {
          "output_type": "stream",
          "text": [
            "===== Model Name: FNN =====\n",
            "===== Model Name: CNN =====\n",
            "===== Model Name: RNN =====\n"
          ],
          "name": "stdout"
        }
      ]
    },
    {
      "metadata": {
        "id": "gpMXFCmJWpGn",
        "colab_type": "text"
      },
      "cell_type": "markdown",
      "source": [
        "### 4. Evaluation"
      ]
    },
    {
      "metadata": {
        "id": "W4fg4LpdrNwp",
        "colab_type": "text"
      },
      "cell_type": "markdown",
      "source": [
        "1. Comparing Accuracy both Train and Validation set data\n",
        "  - Compare loss according to the below materials\n",
        "  - Visualize training history  \n",
        "  - Check genelarization of your model\n",
        "  - Refer\n",
        "    - https://medium.com/machine-learning-world/neural-networks-for-algorithmic-trading-1-2-correct-time-series-forecasting-backtesting-9776bfd9e589\n",
        "  - Visualization Hint\n",
        "    - https://machinelearningmastery.com/display-deep-learning-model-training-history-in-keras/"
      ]
    },
    {
      "metadata": {
        "id": "vyS_lAOOrJYm",
        "colab_type": "code",
        "colab": {
          "base_uri": "https://localhost:8080/",
          "height": 294
        },
        "outputId": "e40af4f5-e9ad-4e80-f662-93729ae43b3f"
      },
      "cell_type": "code",
      "source": [
        "import matplotlib.pyplot as plt\n",
        "\n",
        "plt.title('model loss')\n",
        "legend_names = []\n",
        "# summarize history for accuracy\n",
        "for name, model_hist in hist.items():\n",
        "  plt.plot(model_hist.history['loss'])\n",
        "  plt.plot(model_hist.history['val_loss'])\n",
        "  legend_names.extend([name+'_train', name+'_validation'])\n",
        "  \n",
        "plt.legend(legend_names, loc='upper left')\n",
        "\n",
        "plt.ylabel('loss')\n",
        "plt.xlabel('epoch')\n",
        "plt.show()"
      ],
      "execution_count": 39,
      "outputs": [
        {
          "output_type": "display_data",
          "data": {
            "image/png": "[encoded data removed]",
            "text/plain": [
              "<matplotlib.figure.Figure at 0x7f3bd35f59b0>"
            ]
          },
          "metadata": {
            "tags": []
          }
        }
      ]
    },
    {
      "metadata": {
        "id": "_GGcnPYLrguk",
        "colab_type": "code",
        "colab": {
          "base_uri": "https://localhost:8080/",
          "height": 294
        },
        "outputId": "f37e27bc-1a2a-4ed8-d569-b4a7a0b09c5d"
      },
      "cell_type": "code",
      "source": [
        "import matplotlib.pyplot as plt\n",
        "\n",
        "plt.title('model acc')\n",
        "legend_names = []\n",
        "# summarize history for accuracy\n",
        "for name, model_hist in hist.items():\n",
        "  plt.plot(model_hist.history['acc'])\n",
        "  plt.plot(model_hist.history['val_acc'])\n",
        "  legend_names.extend([name+'_train', name+'_validation'])\n",
        "  \n",
        "plt.legend(legend_names, loc='upper left')\n",
        "\n",
        "plt.ylabel('acc')\n",
        "plt.xlabel('epoch')\n",
        "plt.show()"
      ],
      "execution_count": 43,
      "outputs": [
        {
          "output_type": "display_data",
          "data": {
            "image/png": "[encoded data removed]",
            "text/plain": [
              "<matplotlib.figure.Figure at 0x7f3bd64ab518>"
            ]
          },
          "metadata": {
            "tags": []
          }
        }
      ]
    },
    {
      "metadata": {
        "id": "kZFhS-1Ubhp7",
        "colab_type": "text"
      },
      "cell_type": "markdown",
      "source": [
        "2. Measure Model Accuracy for Classification Problem\n",
        "  - Now we are going to evaluate our model \n",
        "  - Accuracy, Recall, F1 Score based on Confusion Matrix\n",
        "  - Refer definition of each scores\n",
        "    - Confusion matrix https://en.wikipedia.org/wiki/Confusion_matrix\n",
        "    - Confusion matrix in Korean https://datascienceschool.net/view-notebook/731e0d2ef52c41c686ba53dcaf346f32/\n",
        "    \n",
        "  - Hint\n",
        "    - http://scikit-learn.org/stable/modules/generated/sklearn.metrics.confusion_matrix.html\n",
        "    - http://scikit-learn.org/stable/modules/generated/sklearn.metrics.classification_report.html"
      ]
    },
    {
      "metadata": {
        "id": "ZgL9kC2zbj5o",
        "colab_type": "code",
        "outputId": "69cde2fd-77ab-453b-9fae-481bb974d362",
        "colab": {
          "base_uri": "https://localhost:8080/",
          "height": 559
        }
      },
      "cell_type": "code",
      "source": [
        "from sklearn.metrics import classification_report\n",
        "\n",
        "for name, prediction_model in predictions.items():\n",
        "  print(\"===== Model Name: {} =====\".format(name))  \n",
        "  print(classification_report(prediction_model, test_Y))"
      ],
      "execution_count": 44,
      "outputs": [
        {
          "output_type": "stream",
          "text": [
            "===== Model Name: FNN =====\n",
            "             precision    recall  f1-score   support\n",
            "\n",
            "          0       0.39      0.29      0.34      2606\n",
            "          1       0.37      0.44      0.40      2425\n",
            "          2       0.26      0.29      0.28      1754\n",
            "\n",
            "avg / total       0.35      0.34      0.34      6785\n",
            "\n",
            "===== Model Name: CNN =====\n",
            "             precision    recall  f1-score   support\n",
            "\n",
            "        0.0       0.00      0.00      0.00         0\n",
            "        1.0       1.00      0.42      0.59      6785\n",
            "        2.0       0.00      0.00      0.00         0\n",
            "\n",
            "avg / total       1.00      0.42      0.59      6785\n",
            "\n",
            "===== Model Name: RNN =====\n",
            "             precision    recall  f1-score   support\n",
            "\n",
            "        0.0       0.00      0.00      0.00         0\n",
            "        1.0       1.00      0.42      0.59      6780\n",
            "        2.0       0.00      0.00      0.00         5\n",
            "\n",
            "avg / total       1.00      0.42      0.59      6785\n",
            "\n"
          ],
          "name": "stdout"
        },
        {
          "output_type": "stream",
          "text": [
            "/usr/local/lib/python3.6/dist-packages/sklearn/metrics/classification.py:1137: UndefinedMetricWarning: Recall and F-score are ill-defined and being set to 0.0 in labels with no true samples.\n",
            "  'recall', 'true', average, warn_for)\n"
          ],
          "name": "stderr"
        }
      ]
    },
    {
      "metadata": {
        "id": "FJLMnCarxKuf",
        "colab_type": "text"
      },
      "cell_type": "markdown",
      "source": [
        "3. Measure Test Set Return based on the Simplest Strategy\n",
        "  - Condition\n",
        "    - Initial budget = 100\n",
        " - Strategy\n",
        "    - If we predict up, then buy or hold (if we already bought)\n",
        "    - If we predict down or no change then sell (if we already bought) or do nothing \n",
        "  - Draw your return"
      ]
    },
    {
      "metadata": {
        "id": "ru67SM1hxKVW",
        "colab_type": "code",
        "colab": {
          "base_uri": "https://localhost:8080/",
          "height": 998
        },
        "outputId": "0c424c57-0833-4995-ce7d-c79e16d02cb9"
      },
      "cell_type": "code",
      "source": [
        "for name, prediction_model in predictions.items():\n",
        "  print(\"===== Model Name: {} =====\".format(name))  \n",
        "  \n",
        "  for currency_target in currency_targets:\n",
        "      bechmark_return = 100\n",
        "      bechmark_return_history = []\n",
        "\n",
        "      prediction_return = 100\n",
        "      prediction_return_history = []\n",
        "\n",
        "      buy_price = 0\n",
        "      sell_price = 0\n",
        "\n",
        "      hold = False\n",
        "\n",
        "      panel_df_test[currency_target+'_last_return'] = panel_df_test[currency_target+'_last'].pct_change()\n",
        "      \n",
        "      for prediction, (i, r) in zip(prediction_model, panel_df_test.iloc[TIME_SEQ_LEN-1:].iterrows()):\n",
        "\n",
        "          if hold == True:\n",
        "              prediction_return = prediction_return*(1+r[currency_target+'_last_return'])  \n",
        "\n",
        "          bechmark_return = bechmark_return*(1+r[currency_target+'_last_return'])\n",
        "          bechmark_return_history.append(bechmark_return)\n",
        "          prediction_return_history.append(prediction_return)\n",
        "\n",
        "          if prediction ==2:\n",
        "              hold = True\n",
        "          else: \n",
        "              hold = False\n",
        "\n",
        "      plt.title(currency_target)\n",
        "      plt.plot(prediction_return_history, label = name+' prediction return')    \n",
        "      plt.plot(bechmark_return_history, label = 'becnmark return')\n",
        "      plt.xticks(rotation=30)\n",
        "      plt.legend()\n",
        "      plt.show()"
      ],
      "execution_count": 52,
      "outputs": [
        {
          "output_type": "stream",
          "text": [
            "===== Model Name: FNN =====\n"
          ],
          "name": "stdout"
        },
        {
          "output_type": "stream",
          "text": [
            "/usr/local/lib/python3.6/dist-packages/ipykernel_launcher.py:16: SettingWithCopyWarning: \n",
            "A value is trying to be set on a copy of a slice from a DataFrame.\n",
            "Try using .loc[row_indexer,col_indexer] = value instead\n",
            "\n",
            "See the caveats in the documentation: http://pandas.pydata.org/pandas-docs/stable/indexing.html#indexing-view-versus-copy\n",
            "  app.launch_new_instance()\n"
          ],
          "name": "stderr"
        },
        {
          "output_type": "display_data",
          "data": {
            "image/png": "[encoded data removed]",
            "text/plain": [
              "<matplotlib.figure.Figure at 0x7f3bd586ac50>"
            ]
          },
          "metadata": {
            "tags": []
          }
        },
        {
          "output_type": "stream",
          "text": [
            "===== Model Name: CNN =====\n"
          ],
          "name": "stdout"
        },
        {
          "output_type": "display_data",
          "data": {
            "image/png": "[encoded data removed]",
            "text/plain": [
              "<matplotlib.figure.Figure at 0x7f3bd660eb38>"
            ]
          },
          "metadata": {
            "tags": []
          }
        },
        {
          "output_type": "stream",
          "text": [
            "===== Model Name: RNN =====\n"
          ],
          "name": "stdout"
        },
        {
          "output_type": "display_data",
          "data": {
            "image/png": "[encoded data removed]",
            "text/plain": [
              "<matplotlib.figure.Figure at 0x7f3bdd532fd0>"
            ]
          },
          "metadata": {
            "tags": []
          }
        }
      ]
    },
    {
      "metadata": {
        "id": "U2O_xyEgtHZ1",
        "colab_type": "text"
      },
      "cell_type": "markdown",
      "source": [
        "# I only run 5 epoch for each algorithm\n",
        "\n",
        "# To increase accuracy you may run more than 10~20 epoch for cnn and rnn models or change the model architecture\n"
      ]
    },
    {
      "metadata": {
        "id": "i8IkN4MMtbBn",
        "colab_type": "code",
        "colab": {}
      },
      "cell_type": "code",
      "source": [
        ""
      ],
      "execution_count": 0,
      "outputs": []
    }
  ]
}